{
 "cells": [
  {
   "cell_type": "markdown",
   "metadata": {},
   "source": [
    "# Classifying Fashion-MNIST\n",
    "\n",
    "Now it's your turn to build and train a neural network. You'll be using the [Fashion-MNIST dataset](https://github.com/zalandoresearch/fashion-mnist), a drop-in replacement for the MNIST dataset. MNIST is actually quite trivial with neural networks where you can easily achieve better than 97% accuracy. Fashion-MNIST is a set of 28x28 greyscale images of clothes. It's more complex than MNIST, so it's a better representation of the actual performance of your network, and a better representation of datasets you'll use in the real world.\n",
    "\n",
    "<img src='assets/fashion-mnist-sprite.png' width=500px>\n",
    "\n",
    "In this notebook, you'll build your own neural network. For the most part, you could just copy and paste the code from Part 3, but you wouldn't be learning. It's important for you to write the code yourself and get it to work. Feel free to consult the previous notebooks though as you work through this.\n",
    "\n",
    "First off, let's load the dataset through torchvision."
   ]
  },
  {
   "cell_type": "code",
   "execution_count": null,
   "metadata": {},
   "outputs": [],
   "source": [
    "import matplotlib.pyplot as plt\n",
    "import math"
   ]
  },
  {
   "cell_type": "code",
   "execution_count": 15,
   "metadata": {},
   "outputs": [
    {
     "name": "stdout",
     "output_type": "stream",
     "text": [
      "Downloading http://fashion-mnist.s3-website.eu-central-1.amazonaws.com/train-images-idx3-ubyte.gz\n",
      "Downloading http://fashion-mnist.s3-website.eu-central-1.amazonaws.com/train-labels-idx1-ubyte.gz\n",
      "Downloading http://fashion-mnist.s3-website.eu-central-1.amazonaws.com/t10k-images-idx3-ubyte.gz\n",
      "Downloading http://fashion-mnist.s3-website.eu-central-1.amazonaws.com/t10k-labels-idx1-ubyte.gz\n",
      "Processing...\n",
      "Done!\n"
     ]
    }
   ],
   "source": [
    "import torch\n",
    "from torchvision import datasets, transforms\n",
    "import helper\n",
    "\n",
    "from torch import nn\n",
    "from torch import optim\n",
    "\n",
    "import torch.nn.functional as F\n",
    "\n",
    "# Define a transform to normalize the data\n",
    "transform = transforms.Compose([transforms.ToTensor(),\n",
    "                                transforms.Normalize((0.5, 0.5, 0.5), (0.5, 0.5, 0.5))])\n",
    "# Download and load the training data\n",
    "trainset = datasets.FashionMNIST('~/.pytorch/F_MNIST_data/', download=True, train=True, transform=transform)\n",
    "trainloader = torch.utils.data.DataLoader(trainset, batch_size=64, shuffle=True)\n",
    "\n",
    "# Download and load the test data\n",
    "testset = datasets.FashionMNIST('~/.pytorch/F_MNIST_data/', download=True, train=False, transform=transform)\n",
    "testloader = torch.utils.data.DataLoader(testset, batch_size=64, shuffle=True)"
   ]
  },
  {
   "cell_type": "markdown",
   "metadata": {},
   "source": [
    "Here we can see one of the images."
   ]
  },
  {
   "cell_type": "code",
   "execution_count": 16,
   "metadata": {},
   "outputs": [
    {
     "data": {
      "image/png": "[encoded data removed]",
      "text/plain": [
       "<Figure size 432x288 with 1 Axes>"
      ]
     },
     "metadata": {},
     "output_type": "display_data"
    }
   ],
   "source": [
    "image, label = next(iter(trainloader))\n",
    "helper.imshow(image[0,:]);"
   ]
  },
  {
   "cell_type": "markdown",
   "metadata": {},
   "source": [
    "## Building the network\n",
    "\n",
    "Here you should define your network. As with MNIST, each image is 28x28 which is a total of 784 pixels, and there are 10 classes. You should include at least one hidden layer. We suggest you use ReLU activations for the layers and to return the logits or log-softmax from the forward pass. It's up to you how many layers you add and the size of those layers."
   ]
  },
  {
   "cell_type": "code",
   "execution_count": 23,
   "metadata": {},
   "outputs": [
    {
     "data": {
      "text/plain": [
       "device(type='cuda', index=0)"
      ]
     },
     "execution_count": 23,
     "metadata": {},
     "output_type": "execute_result"
    }
   ],
   "source": [
    "force_cpu = False\n",
    "device = torch.device(\"cuda\" if torch.cuda.is_available() and not force_cpu else \"cpu\")\n",
    "device "
   ]
  },
  {
   "cell_type": "markdown",
   "metadata": {},
   "source": [
    "###  Model 4"
   ]
  },
  {
   "cell_type": "code",
   "execution_count": 149,
   "metadata": {},
   "outputs": [],
   "source": [
    "# Run if rebuilding model\n",
    "del model"
   ]
  },
  {
   "cell_type": "code",
   "execution_count": 150,
   "metadata": {},
   "outputs": [],
   "source": [
    "# TODO: Define your network architecture here\n",
    "# Model 4: 784 : 256 : 128 : 128 : 64: 10\n",
    "model = nn.Sequential(nn.Linear(784, 256),\n",
    "                      nn.ReLU(),\n",
    "                      nn.Linear(256, 128),\n",
    "                      nn.ReLU(),\n",
    "                      nn.Linear(128, 128),\n",
    "                      nn.ReLU(),\n",
    "                      nn.Linear(128, 64),\n",
    "                      nn.ReLU(),\n",
    "                      nn.Linear(64, 10),\n",
    "                      nn.LogSoftmax(dim=1))"
   ]
  },
  {
   "cell_type": "code",
   "execution_count": 151,
   "metadata": {},
   "outputs": [
    {
     "name": "stdout",
     "output_type": "stream",
     "text": [
      "Model 4\n"
     ]
    },
    {
     "data": {
      "text/plain": [
       "Sequential(\n",
       "  (0): Linear(in_features=784, out_features=256, bias=True)\n",
       "  (1): ReLU()\n",
       "  (2): Linear(in_features=256, out_features=128, bias=True)\n",
       "  (3): ReLU()\n",
       "  (4): Linear(in_features=128, out_features=128, bias=True)\n",
       "  (5): ReLU()\n",
       "  (6): Linear(in_features=128, out_features=64, bias=True)\n",
       "  (7): ReLU()\n",
       "  (8): Linear(in_features=64, out_features=10, bias=True)\n",
       "  (9): LogSoftmax()\n",
       ")"
      ]
     },
     "execution_count": 151,
     "metadata": {},
     "output_type": "execute_result"
    }
   ],
   "source": [
    "print(\"Model 4\")\n",
    "model.to(device)"
   ]
  },
  {
   "cell_type": "markdown",
   "metadata": {},
   "source": [
    "###  Model 3"
   ]
  },
  {
   "cell_type": "code",
   "execution_count": 4,
   "metadata": {},
   "outputs": [],
   "source": [
    "# Run if rebuilding model\n",
    "del model"
   ]
  },
  {
   "cell_type": "code",
   "execution_count": 5,
   "metadata": {},
   "outputs": [],
   "source": [
    "# TODO: Define your network architecture here\n",
    "# Model 3: 784 : 256 : 128 : 64 : 10\n",
    "model = nn.Sequential(nn.Linear(784, 256),\n",
    "                      nn.ReLU(),\n",
    "                      nn.Linear(256, 128),\n",
    "                      nn.ReLU(),\n",
    "                      nn.Linear(128, 64),\n",
    "                      nn.ReLU(),\n",
    "                      nn.Linear(64, 10),\n",
    "                      nn.LogSoftmax(dim=1))\n"
   ]
  },
  {
   "cell_type": "code",
   "execution_count": 6,
   "metadata": {},
   "outputs": [
    {
     "name": "stdout",
     "output_type": "stream",
     "text": [
      "Model 3\n",
      "Sequential(\n",
      "  (0): Linear(in_features=784, out_features=256, bias=True)\n",
      "  (1): ReLU()\n",
      "  (2): Linear(in_features=256, out_features=128, bias=True)\n",
      "  (3): ReLU()\n",
      "  (4): Linear(in_features=128, out_features=64, bias=True)\n",
      "  (5): ReLU()\n",
      "  (6): Linear(in_features=64, out_features=10, bias=True)\n",
      "  (7): LogSoftmax()\n",
      ")\n"
     ]
    }
   ],
   "source": [
    "print(\"Model 3\")\n",
    "model.to(device)"
   ]
  },
  {
   "cell_type": "markdown",
   "metadata": {},
   "source": [
    "###  Model 2"
   ]
  },
  {
   "cell_type": "code",
   "execution_count": 7,
   "metadata": {},
   "outputs": [],
   "source": [
    "# Run if rebuilding model\n",
    "del model"
   ]
  },
  {
   "cell_type": "code",
   "execution_count": 8,
   "metadata": {},
   "outputs": [],
   "source": [
    "# TODO: Define your network architecture here\n",
    "# Model 2: 784 : 128 : 128 : 64 : 10\n",
    "model = nn.Sequential(nn.Linear(784, 128),\n",
    "                      nn.ReLU(),\n",
    "                      nn.Linear(128, 128),\n",
    "                      nn.ReLU(),\n",
    "                      nn.Linear(128, 64),\n",
    "                      nn.ReLU(),\n",
    "                      nn.Linear(64, 10),\n",
    "                      nn.LogSoftmax(dim=1))\n"
   ]
  },
  {
   "cell_type": "code",
   "execution_count": 9,
   "metadata": {},
   "outputs": [
    {
     "name": "stdout",
     "output_type": "stream",
     "text": [
      "Model 2\n",
      "Sequential(\n",
      "  (0): Linear(in_features=784, out_features=128, bias=True)\n",
      "  (1): ReLU()\n",
      "  (2): Linear(in_features=128, out_features=128, bias=True)\n",
      "  (3): ReLU()\n",
      "  (4): Linear(in_features=128, out_features=64, bias=True)\n",
      "  (5): ReLU()\n",
      "  (6): Linear(in_features=64, out_features=10, bias=True)\n",
      "  (7): LogSoftmax()\n",
      ")\n"
     ]
    }
   ],
   "source": [
    "print(\"Model 2\")\n",
    "model.to(device)"
   ]
  },
  {
   "cell_type": "markdown",
   "metadata": {},
   "source": [
    "###  Model 1"
   ]
  },
  {
   "cell_type": "code",
   "execution_count": 10,
   "metadata": {},
   "outputs": [],
   "source": [
    "# Run if rebuilding model\n",
    "del model"
   ]
  },
  {
   "cell_type": "code",
   "execution_count": 11,
   "metadata": {},
   "outputs": [],
   "source": [
    "# Model 1: 784 : 128 : 128 : 128 : 64: 10\n",
    "model = nn.Sequential(nn.Linear(784, 128),\n",
    "                      nn.ReLU(),\n",
    "                      nn.Linear(128, 128),\n",
    "                      nn.ReLU(),\n",
    "                      nn.Linear(128, 128),\n",
    "                      nn.ReLU(),\n",
    "                      nn.Linear(128, 64),\n",
    "                      nn.ReLU(),\n",
    "                      nn.Linear(64, 10),\n",
    "                      nn.LogSoftmax(dim=1))\n"
   ]
  },
  {
   "cell_type": "code",
   "execution_count": 12,
   "metadata": {},
   "outputs": [
    {
     "name": "stdout",
     "output_type": "stream",
     "text": [
      "Model 1\n",
      "Sequential(\n",
      "  (0): Linear(in_features=784, out_features=128, bias=True)\n",
      "  (1): ReLU()\n",
      "  (2): Linear(in_features=128, out_features=128, bias=True)\n",
      "  (3): ReLU()\n",
      "  (4): Linear(in_features=128, out_features=128, bias=True)\n",
      "  (5): ReLU()\n",
      "  (6): Linear(in_features=128, out_features=64, bias=True)\n",
      "  (7): ReLU()\n",
      "  (8): Linear(in_features=64, out_features=10, bias=True)\n",
      "  (9): LogSoftmax()\n",
      ")\n"
     ]
    }
   ],
   "source": [
    "print(\"Model 1\")\n",
    "model.to(device)"
   ]
  },
  {
   "cell_type": "code",
   "execution_count": 152,
   "metadata": {},
   "outputs": [],
   "source": [
    "# TODO: Create the network, define the criterion and optimizer\n",
    "criterion = nn.NLLLoss()"
   ]
  },
  {
   "cell_type": "markdown",
   "metadata": {},
   "source": [
    "# Learning rate finder"
   ]
  },
  {
   "cell_type": "code",
   "execution_count": 120,
   "metadata": {},
   "outputs": [],
   "source": [
    "# Starting point for learning rate finder\n",
    "optimizer = optim.Adam(model.parameters(), lr=1e-1)"
   ]
  },
  {
   "cell_type": "markdown",
   "metadata": {},
   "source": [
    "The details of how this code has been built are all explained in this [blog article](https://sgugger.github.io/how-do-you-find-a-good-learning-rate.html)."
   ]
  },
  {
   "cell_type": "code",
   "execution_count": 121,
   "metadata": {},
   "outputs": [],
   "source": [
    "import math\n",
    "\n",
    "def find_lr(init_value = 1e-8, final_value=10., beta = 0.98):\n",
    "    num = len(trainloader)-1\n",
    "    mult = (final_value / init_value) ** (1/num)\n",
    "    lr = init_value\n",
    "    optimizer.param_groups[0]['lr'] = lr\n",
    "    avg_loss = 0.\n",
    "    best_loss = 0.\n",
    "    batch_num = 0\n",
    "    losses = []\n",
    "    log_lrs = []\n",
    "    \n",
    "    for images, labels in trainloader:\n",
    "        batch_num += 1\n",
    "        \n",
    "        #Get the loss for this mini-batch of images/outputs\n",
    "        images = images.view(images.shape[0], -1).requires_grad_().to(device)\n",
    "        labels = labels.to(device)\n",
    "        \n",
    "        optimizer.zero_grad()\n",
    "        output = model.forward(images)\n",
    "        \n",
    "        loss = criterion(output, labels)\n",
    "        \n",
    "        #Compute the smoothed loss\n",
    "        avg_loss = beta * avg_loss + (1-beta) * loss.item()\n",
    "        smoothed_loss = avg_loss / (1 - beta**batch_num)\n",
    "        \n",
    "        #Stop if the loss is exploding\n",
    "        if batch_num > 1 and smoothed_loss > 4 * best_loss:\n",
    "            return log_lrs, losses\n",
    "        \n",
    "        #Record the best loss\n",
    "        if smoothed_loss < best_loss or batch_num==1:\n",
    "            best_loss = smoothed_loss\n",
    "        \n",
    "        #Store the values\n",
    "        losses.append(smoothed_loss)\n",
    "        log_lrs.append(math.log10(lr))\n",
    "        \n",
    "        #Do the SGD step\n",
    "        loss.backward()\n",
    "        optimizer.step()\n",
    "        \n",
    "        #Update the lr for the next step\n",
    "        lr *= mult\n",
    "        optimizer.param_groups[0]['lr'] = lr\n",
    "    \n",
    "    return log_lrs, losses\n",
    "    "
   ]
  },
  {
   "cell_type": "code",
   "execution_count": 122,
   "metadata": {},
   "outputs": [],
   "source": [
    "logs,losses = find_lr()"
   ]
  },
  {
   "cell_type": "code",
   "execution_count": 123,
   "metadata": {},
   "outputs": [
    {
     "data": {
      "text/plain": [
       "[<matplotlib.lines.Line2D at 0x2402acf8128>]"
      ]
     },
     "execution_count": 123,
     "metadata": {},
     "output_type": "execute_result"
    },
    {
     "data": {
      "image/png": "[encoded data removed]",
      "text/plain": [
       "<Figure size 432x288 with 1 Axes>"
      ]
     },
     "metadata": {},
     "output_type": "display_data"
    }
   ],
   "source": [
    "plt.plot(logs[10:-5],losses[10:-5])"
   ]
  },
  {
   "cell_type": "code",
   "execution_count": 137,
   "metadata": {},
   "outputs": [
    {
     "name": "stdout",
     "output_type": "stream",
     "text": [
      "0.001000\n",
      "0.000100\n"
     ]
    }
   ],
   "source": [
    "print(\"{:5f}\".format(1e-3))\n",
    "print(\"{:5f}\".format(1e-4))"
   ]
  },
  {
   "cell_type": "code",
   "execution_count": 153,
   "metadata": {},
   "outputs": [],
   "source": [
    "#optimizer = optim.Adam(model.parameters(), lr=0.01)  # models 1 and 2\n",
    "#optimizer = optim.Adam(model.parameters(), lr=0.003) # model 3\n",
    "\n",
    "# learning rate finder suggests between 1e-3 and 1e-4 for model 4\n",
    "optimizer = optim.Adam(model.parameters(), lr=0.0005) # model 4"
   ]
  },
  {
   "cell_type": "markdown",
   "metadata": {},
   "source": [
    "# Train the network\n",
    "\n",
    "Now you should create your network and train it. First you'll want to define [the criterion](http://pytorch.org/docs/master/nn.html#loss-functions) ( something like `nn.CrossEntropyLoss`) and [the optimizer](http://pytorch.org/docs/master/optim.html) (typically `optim.SGD` or `optim.Adam`).\n",
    "\n",
    "Then write the training code. Remember the training pass is a fairly straightforward process:\n",
    "\n",
    "* Make a forward pass through the network to get the logits \n",
    "* Use the logits to calculate the loss\n",
    "* Perform a backward pass through the network with `loss.backward()` to calculate the gradients\n",
    "* Take a step with the optimizer to update the weights\n",
    "\n",
    "By adjusting the hyperparameters (hidden units, learning rate, etc), you should be able to get the training loss below 0.4."
   ]
  },
  {
   "cell_type": "code",
   "execution_count": 154,
   "metadata": {},
   "outputs": [
    {
     "name": "stdout",
     "output_type": "stream",
     "text": [
      "Epoch: 1.\tTraining loss: 0.5771810378251808.\tTest Loss 0.4589056086008716.\tAccuracy 83.10.\n",
      "Epoch: 2.\tTraining loss: 0.3930933916969086.\tTest Loss 0.3975997009095113.\tAccuracy 85.79.\n",
      "Epoch: 3.\tTraining loss: 0.3513496262051149.\tTest Loss 0.3895074466990817.\tAccuracy 86.27.\n",
      "Epoch: 4.\tTraining loss: 0.3243132321072667.\tTest Loss 0.3880255150187547.\tAccuracy 86.24.\n",
      "Epoch: 5.\tTraining loss: 0.3053450954518021.\tTest Loss 0.3545398264174249.\tAccuracy 87.05.\n",
      "Epoch: 6.\tTraining loss: 0.2885988775187972.\tTest Loss 0.3419415525095478.\tAccuracy 87.68.\n",
      "Epoch: 7.\tTraining loss: 0.27561830887312827.\tTest Loss 0.36736971453116957.\tAccuracy 87.01.\n",
      "Epoch: 8.\tTraining loss: 0.26121669406416825.\tTest Loss 0.33767546034732443.\tAccuracy 88.03.\n",
      "Epoch: 9.\tTraining loss: 0.24937431765263524.\tTest Loss 0.33715411251897265.\tAccuracy 87.99.\n",
      "Epoch: 10.\tTraining loss: 0.23806830694172174.\tTest Loss 0.344227390636684.\tAccuracy 88.27.\n",
      "Epoch: 11.\tTraining loss: 0.2292315195014736.\tTest Loss 0.3376246337678022.\tAccuracy 88.28.\n"
     ]
    }
   ],
   "source": [
    "# TODO: Train the network here\n",
    "epochs = 11\n",
    "\n",
    "for e in range(epochs):\n",
    "    running_loss = 0\n",
    "\n",
    "    for images, labels in trainloader:\n",
    "        # Flatten Fashion-MNIST images into a 784 long vector\n",
    "        images = images.view(images.shape[0], -1).requires_grad_().to(device)\n",
    "        labels = labels.to(device)\n",
    "        \n",
    "        # TODO: Training pass\n",
    "        optimizer.zero_grad()\n",
    "        output = model.forward(images)\n",
    "        \n",
    "        loss = criterion(output, labels)\n",
    "        loss.backward()\n",
    "        optimizer.step()\n",
    "        \n",
    "        running_loss += loss.item()\n",
    "    else:\n",
    "        # Calculate Test Loss, Accuracy         \n",
    "        test_loss = 0\n",
    "        correct = 0\n",
    "        total = 0    \n",
    "        with torch.no_grad():\n",
    "            for images, labels in testloader:\n",
    "                images = images.view(images.shape[0], -1).to(device)\n",
    "                labels = labels.to(device)\n",
    "\n",
    "                # Forward pass only to get logits/output\n",
    "                output = model.forward(images)\n",
    "\n",
    "                # Get predictions from the maximum value\n",
    "                _, predicted = torch.max(output.data, 1)\n",
    "\n",
    "                #Compute the loss\n",
    "                loss = criterion(output, labels)\n",
    "                test_loss += loss.item() \n",
    "\n",
    "                # Total number of labels\n",
    "                total += labels.size(0)\n",
    "\n",
    "                # Total correct predictions\n",
    "                if torch.cuda.is_available():\n",
    "                    correct += (predicted.cpu() == labels.cpu()).sum()\n",
    "                else:\n",
    "                    correct += (predicted == labels).sum()\n",
    "\n",
    "        accuracy = 100 * correct.type(torch.FloatTensor) / total\n",
    "        \n",
    "        \n",
    "        print(\"Epoch: {}.\\tTraining loss: {}.\\tTest Loss {}.\\tAccuracy {:.2f}.\".format(e+1, \n",
    "                                                                    running_loss/len(trainloader), \n",
    "                                                                    test_loss/len(testloader),\n",
    "                                                                    accuracy)\n",
    "             )"
   ]
  },
  {
   "cell_type": "markdown",
   "metadata": {},
   "source": [
    "**Model 1, 8 epochs:**\n",
    "```\n",
    "Sequential(\n",
    "  (0): Linear(in_features=784, out_features=128, bias=True)\n",
    "  (1): ReLU()\n",
    "  (2): Linear(in_features=128, out_features=128, bias=True)\n",
    "  (3): ReLU()\n",
    "  (4): Linear(in_features=128, out_features=128, bias=True)\n",
    "  (5): ReLU()\n",
    "  (6): Linear(in_features=128, out_features=64, bias=True)\n",
    "  (7): ReLU()\n",
    "  (8): Linear(in_features=64, out_features=10, bias=True)\n",
    "  (9): LogSoftmax()\n",
    ")\n",
    "\n",
    "criterion = nn.NLLLoss()\n",
    "optimizer = optim.Adam(model.parameters(), lr=0.01)\n",
    "\n",
    "Training loss: 0.6036675050060378\n",
    "Training loss: 0.4905283946250039\n",
    "Training loss: 0.4519140932605719\n",
    "Training loss: 0.42791870854366054\n",
    "Training loss: 0.4232458102264638\n",
    "Training loss: 0.4122435308214444\n",
    "Training loss: 0.40115147049048305\n",
    "Training loss: 0.3847288593792839\n",
    "```\n",
    "\n",
    "**Model 1, 12 epochs:**\n",
    "```\n",
    "Training loss: 0.6347277317601226\n",
    "Training loss: 0.47930055484969986\n",
    "Training loss: 0.45878643790351303\n",
    "Training loss: 0.44509194090740006\n",
    "Training loss: 0.43403468546328516\n",
    "Training loss: 0.4229971144213351\n",
    "Training loss: 0.4183193547988751\n",
    "Training loss: 0.4071892520893357\n",
    "Training loss: 0.4195169159757303\n",
    "Training loss: 0.4096293147486537\n",
    "Training loss: 0.40008546753542257\n",
    "Training loss: 0.4066839720616971\n",
    "```"
   ]
  },
  {
   "cell_type": "code",
   "execution_count": null,
   "metadata": {},
   "outputs": [],
   "source": []
  },
  {
   "cell_type": "markdown",
   "metadata": {},
   "source": [
    "**Model 2, 8 epochs:**\n",
    "```\n",
    "Sequential(\n",
    "  (0): Linear(in_features=784, out_features=128, bias=True)\n",
    "  (1): ReLU()\n",
    "  (2): Linear(in_features=128, out_features=128, bias=True)\n",
    "  (3): ReLU()\n",
    "  (4): Linear(in_features=128, out_features=64, bias=True)\n",
    "  (5): ReLU()\n",
    "  (6): Linear(in_features=64, out_features=10, bias=True)\n",
    "  (7): LogSoftmax()\n",
    ")\n",
    "\n",
    "criterion = nn.NLLLoss()\n",
    "optimizer = optim.Adam(model.parameters(), lr=0.01)\n",
    "\n",
    "Training loss: 0.576322735865106\n",
    "Training loss: 0.4610948870494676\n",
    "Training loss: 0.4392075458728174\n",
    "Training loss: 0.41844645444391126\n",
    "Training loss: 0.40676572112672366\n",
    "Training loss: 0.4009839724153598\n",
    "Training loss: 0.4009410614795141\n",
    "Training loss: 0.39567602721295125\n",
    "```\n",
    "\n",
    "**Model 2, 12 epochs:**\n",
    "```\n",
    "Training loss: 0.5815929747117099\n",
    "Training loss: 0.4612806789211627\n",
    "Training loss: 0.4394356567642963\n",
    "Training loss: 0.41862323212979446\n",
    "Training loss: 0.4007877521137439\n",
    "Training loss: 0.4209989831010416\n",
    "Training loss: 0.3846223660782456\n",
    "Training loss: 0.37356185146581644\n",
    "Training loss: 0.3831973067049914\n",
    "Training loss: 0.3735478698238254\n",
    "Training loss: 0.3795207119318468\n",
    "Training loss: 0.37363279432947955\n",
    "```"
   ]
  },
  {
   "cell_type": "code",
   "execution_count": null,
   "metadata": {},
   "outputs": [],
   "source": []
  },
  {
   "cell_type": "markdown",
   "metadata": {},
   "source": [
    "**Model 3, 5 epochs:**\n",
    "```\n",
    "Sequential(\n",
    "  (0): Linear(in_features=784, out_features=256, bias=True)\n",
    "  (1): ReLU()\n",
    "  (2): Linear(in_features=256, out_features=128, bias=True)\n",
    "  (3): ReLU()\n",
    "  (4): Linear(in_features=128, out_features=64, bias=True)\n",
    "  (5): ReLU()\n",
    "  (6): Linear(in_features=64, out_features=10, bias=True)\n",
    "  (7): LogSoftmax()\n",
    ")\n",
    "\n",
    "criterion = nn.NLLLoss()\n",
    "optimizer = optim.Adam(model.parameters(), lr=0.003) # model 3\n",
    "\n",
    "Training loss: 0.5231637779964822\n",
    "Training loss: 0.3910967403653461\n",
    "Training loss: 0.35528043412895344\n",
    "Training loss: 0.33393291372861433\n",
    "Training loss: 0.31664489314500205\n",
    "```"
   ]
  },
  {
   "cell_type": "code",
   "execution_count": null,
   "metadata": {},
   "outputs": [],
   "source": []
  },
  {
   "cell_type": "markdown",
   "metadata": {},
   "source": [
    "## Model 4, lr=0.0005, 11 epochs:\n",
    "\n",
    "```\n",
    "criterion = nn.NLLLoss()\n",
    "optimizer = optim.Adam(model.parameters(), lr=0.0005)\n",
    "\n",
    "Sequential(\n",
    "  (0): Linear(in_features=784, out_features=256, bias=True)\n",
    "  (1): ReLU()\n",
    "  (2): Linear(in_features=256, out_features=128, bias=True)\n",
    "  (3): ReLU()\n",
    "  (4): Linear(in_features=128, out_features=128, bias=True)\n",
    "  (5): ReLU()\n",
    "  (6): Linear(in_features=128, out_features=64, bias=True)\n",
    "  (7): ReLU()\n",
    "  (8): Linear(in_features=64, out_features=10, bias=True)\n",
    "  (9): LogSoftmax()\n",
    ")\n",
    "```    \n",
    "```\n",
    "Epoch: 1.\tTraining loss: 0.5771810378251808.\tTest Loss 0.4589056086008716.\tAccuracy 83.10.\n",
    "Epoch: 2.\tTraining loss: 0.3930933916969086.\tTest Loss 0.3975997009095113.\tAccuracy 85.79.\n",
    "Epoch: 3.\tTraining loss: 0.3513496262051149.\tTest Loss 0.3895074466990817.\tAccuracy 86.27.\n",
    "Epoch: 4.\tTraining loss: 0.3243132321072667.\tTest Loss 0.3880255150187547.\tAccuracy 86.24.\n",
    "Epoch: 5.\tTraining loss: 0.3053450954518021.\tTest Loss 0.3545398264174249.\tAccuracy 87.05.\n",
    "Epoch: 6.\tTraining loss: 0.2885988775187972.\tTest Loss 0.3419415525095478.\tAccuracy 87.68.\n",
    "Epoch: 7.\tTraining loss: 0.27561830887312827.\tTest Loss 0.36736971453116957.\tAccuracy 87.01.\n",
    "Epoch: 8.\tTraining loss: 0.26121669406416825.\tTest Loss 0.33767546034732443.\tAccuracy 88.03.\n",
    "Epoch: 9.\tTraining loss: 0.24937431765263524.\tTest Loss 0.33715411251897265.\tAccuracy 87.99.\n",
    "Epoch: 10.\tTraining loss: 0.23806830694172174.\tTest Loss 0.344227390636684.\tAccuracy 88.27.\n",
    "Epoch: 11.\tTraining loss: 0.2292315195014736.\tTest Loss 0.3376246337678022.\tAccuracy 88.28.\n",
    "```"
   ]
  },
  {
   "cell_type": "markdown",
   "metadata": {},
   "source": [
    "**Model 4, lr=0.0005, 12 epochs:**\n",
    "```\n",
    "Epoch: 1.\tTraining loss: 0.5688313145373167.\tTest Loss 0.4711702773525457.\tAccuracy 82.64.\n",
    "Epoch: 2.\tTraining loss: 0.39047628297988796.\tTest Loss 0.4073392661513796.\tAccuracy 85.27.\n",
    "Epoch: 3.\tTraining loss: 0.3503307742573051.\tTest Loss 0.3990949789999397.\tAccuracy 85.64.\n",
    "Epoch: 4.\tTraining loss: 0.32267507670848355.\tTest Loss 0.361053592222891.\tAccuracy 87.29.\n",
    "Epoch: 5.\tTraining loss: 0.3017204003626985.\tTest Loss 0.35664746288660987.\tAccuracy 87.30.\n",
    "Epoch: 6.\tTraining loss: 0.28497371339261024.\tTest Loss 0.38033705067103074.\tAccuracy 86.61.\n",
    "Epoch: 7.\tTraining loss: 0.26916759691512915.\tTest Loss 0.35948551859065986.\tAccuracy 87.18.\n",
    "Epoch: 8.\tTraining loss: 0.2599967182445119.\tTest Loss 0.370155259492291.\tAccuracy 87.30.\n",
    "Epoch: 9.\tTraining loss: 0.24902197834588827.\tTest Loss 0.37484493078130066.\tAccuracy 87.11.\n",
    "Epoch: 10.\tTraining loss: 0.23814919669586204.\tTest Loss 0.339109790742777.\tAccuracy 87.66.\n",
    "Epoch: 11.\tTraining loss: 0.2280733138759698.\tTest Loss 0.3297147020033211.\tAccuracy 88.39.\n",
    "Epoch: 12.\tTraining loss: 0.2174801339131238.\tTest Loss 0.3648705499567044.\tAccuracy 88.01.\n",
    "```"
   ]
  },
  {
   "cell_type": "markdown",
   "metadata": {},
   "source": [
    "**Model 4, lr=0.0005, 10 epochs:**\n",
    "```\n",
    "Training loss: 0.5842429549931717\n",
    "Training loss: 0.3941128635997457\n",
    "Training loss: 0.3517687982603558\n",
    "Training loss: 0.3236562148896235\n",
    "Training loss: 0.30323847075864707\n",
    "Training loss: 0.28570760595900163\n",
    "Training loss: 0.27440411772237405\n",
    "Training loss: 0.25909851891780966\n",
    "Training loss: 0.24673565856016266\n",
    "Training loss: 0.23824653772116977\n",
    "```"
   ]
  },
  {
   "cell_type": "code",
   "execution_count": 163,
   "metadata": {},
   "outputs": [
    {
     "data": {
      "image/png": "[encoded data removed]",
      "text/plain": [
       "<Figure size 432x648 with 2 Axes>"
      ]
     },
     "metadata": {
      "image/png": {
       "height": 204,
       "width": 423
      }
     },
     "output_type": "display_data"
    }
   ],
   "source": [
    "%matplotlib inline\n",
    "%config InlineBackend.figure_format = 'retina'\n",
    "\n",
    "import helper\n",
    "\n",
    "# Test out your network!\n",
    "\n",
    "dataiter = iter(testloader)\n",
    "images, labels = dataiter.next()\n",
    "\n",
    "images = images.to(device)\n",
    "labels = labels.to(device)\n",
    "        \n",
    "img = images[0]\n",
    "# Convert 2D image to 1D vector\n",
    "img = img.resize_(1, 784)\n",
    "\n",
    "# TODO: Calculate the class probabilities (softmax) for img\n",
    "ps = F.softmax(model.forward(img), dim=1)\n",
    "\n",
    "# Plot the image and probabilities\n",
    "helper.view_classify(img.cpu().resize_(1, 28, 28), ps.cpu(), version='Fashion')"
   ]
  },
  {
   "cell_type": "markdown",
   "metadata": {},
   "source": [
    "## The Solution"
   ]
  },
  {
   "cell_type": "code",
   "execution_count": 69,
   "metadata": {},
   "outputs": [],
   "source": [
    "from torch import nn, optim\n",
    "import torch.nn.functional as F"
   ]
  },
  {
   "cell_type": "code",
   "execution_count": 70,
   "metadata": {},
   "outputs": [],
   "source": [
    "# TODO: Define your network architecture here\n",
    "class Classifier(nn.Module):\n",
    "    def __init__(self):\n",
    "        super().__init__()\n",
    "        self.fc1 = nn.Linear(784, 256)\n",
    "        self.fc2 = nn.Linear(256, 128)\n",
    "        self.fc3 = nn.Linear(128, 64)\n",
    "        self.fc4 = nn.Linear(64, 10)\n",
    "        \n",
    "    def forward(self, x):\n",
    "        # make sure input tensor is flattened\n",
    "        x = x.view(x.shape[0], -1)\n",
    "        \n",
    "        x = F.relu(self.fc1(x))\n",
    "        x = F.relu(self.fc2(x))\n",
    "        x = F.relu(self.fc3(x))\n",
    "        x = F.log_softmax(self.fc4(x), dim=1)\n",
    "        \n",
    "        return x"
   ]
  },
  {
   "cell_type": "code",
   "execution_count": 71,
   "metadata": {},
   "outputs": [],
   "source": [
    "# TODO: Create the network, define the criterion and optimizer\n",
    "del model\n",
    "model = Classifier()\n",
    "criterion = nn.NLLLoss()\n",
    "optimizer = optim.Adam(model.parameters(), lr=0.003)"
   ]
  },
  {
   "cell_type": "markdown",
   "metadata": {},
   "source": [
    "**The solution approach:**"
   ]
  },
  {
   "cell_type": "code",
   "execution_count": 72,
   "metadata": {},
   "outputs": [
    {
     "name": "stdout",
     "output_type": "stream",
     "text": [
      "Training loss: 0.5148879819905067\n",
      "Training loss: 0.3938098042123097\n",
      "Training loss: 0.3521731012284374\n",
      "Training loss: 0.33371911499736645\n",
      "Training loss: 0.3152217640281357\n"
     ]
    }
   ],
   "source": [
    "# TODO: Train the network here\n",
    "epochs = 5\n",
    "\n",
    "for e in range(epochs):\n",
    "    running_loss = 0\n",
    "    for images, labels in trainloader:\n",
    "\n",
    "        log_ps = model(images)\n",
    "        loss = criterion(log_ps, labels)\n",
    "        \n",
    "        optimizer.zero_grad()\n",
    "        loss.backward()\n",
    "        optimizer.step()\n",
    "        \n",
    "        # running_loss += loss.item()\n",
    "        # Doing this to get error rate, otherwise values are in the hundreds\n",
    "        running_loss += loss.item()/len(trainloader)\n",
    "    else:\n",
    "        print(f\"Training loss: {running_loss}\")"
   ]
  },
  {
   "cell_type": "markdown",
   "metadata": {},
   "source": [
    "**The approach  used in notebook 3 and by me, applied to the solution:**"
   ]
  },
  {
   "cell_type": "code",
   "execution_count": 67,
   "metadata": {},
   "outputs": [
    {
     "name": "stdout",
     "output_type": "stream",
     "text": [
      "Training loss: 0.5144835186522525\n",
      "Training loss: 0.3923617881943168\n",
      "Training loss: 0.3591358262831087\n",
      "Training loss: 0.33668644932001385\n",
      "Training loss: 0.3189208132467036\n"
     ]
    }
   ],
   "source": [
    "# TODO: Train the network here\n",
    "epochs = 5\n",
    "\n",
    "for e in range(epochs):\n",
    "    running_loss = 0\n",
    "    for images, labels in trainloader:\n",
    "        # Flatten Fashion-MNIST images into a 784 long vector\n",
    "        images = images.view(images.shape[0], -1)\n",
    "    \n",
    "        # TODO: Training pass\n",
    "        optimizer.zero_grad()\n",
    "        output = model.forward(images)\n",
    "        loss = criterion(output, labels)\n",
    "        loss.backward()\n",
    "        optimizer.step()\n",
    "        \n",
    "        running_loss += loss.item()\n",
    "    else:\n",
    "        print(f\"Training loss: {running_loss/len(trainloader)}\")"
   ]
  },
  {
   "cell_type": "code",
   "execution_count": 59,
   "metadata": {},
   "outputs": [
    {
     "data": {
      "image/png": "[encoded data removed]",
      "text/plain": [
       "<matplotlib.figure.Figure at 0x1e009e59cc0>"
      ]
     },
     "metadata": {
      "image/png": {
       "height": 204,
       "width": 423
      }
     },
     "output_type": "display_data"
    }
   ],
   "source": [
    "%matplotlib inline\n",
    "%config InlineBackend.figure_format = 'retina'\n",
    "\n",
    "import helper\n",
    "\n",
    "# Test out your network!\n",
    "\n",
    "dataiter = iter(testloader)\n",
    "images, labels = dataiter.next()\n",
    "img = images[1]\n",
    "\n",
    "# TODO: Calculate the class probabilities (softmax) for img\n",
    "ps = torch.exp(model(img))\n",
    "\n",
    "# Plot the image and probabilities\n",
    "helper.view_classify(img, ps, version='Fashion')"
   ]
  },
  {
   "cell_type": "code",
   "execution_count": null,
   "metadata": {},
   "outputs": [],
   "source": []
  }
 ],
 "metadata": {
  "kernelspec": {
   "display_name": "Python 3",
   "language": "python",
   "name": "python3"
  },
  "language_info": {
   "codemirror_mode": {
    "name": "ipython",
    "version": 3
   },
   "file_extension": ".py",
   "mimetype": "text/x-python",
   "name": "python",
   "nbconvert_exporter": "python",
   "pygments_lexer": "ipython3",
   "version": "3.6.6"
  }
 },
 "nbformat": 4,
 "nbformat_minor": 2
}
