{
 "cells": [
  {
   "cell_type": "markdown",
   "metadata": {},
   "source": [
    "# Neural networks with PyTorch\n",
    "\n",
    "Deep learning networks tend to be massive with dozens or hundreds of layers, that's where the term \"deep\" comes from. You can build one of these deep networks using only weight matrices as we did in the previous notebook, but in general it's very cumbersome and difficult to implement. PyTorch has a nice module `nn` that provides a nice way to efficiently build large neural networks."
   ]
  },
  {
   "cell_type": "code",
   "execution_count": 1,
   "metadata": {},
   "outputs": [],
   "source": [
    "# Import necessary packages\n",
    "\n",
    "%matplotlib inline\n",
    "%config InlineBackend.figure_format = 'retina'\n",
    "\n",
    "import numpy as np\n",
    "import torch\n",
    "\n",
    "import helper\n",
    "\n",
    "import matplotlib.pyplot as plt"
   ]
  },
  {
   "cell_type": "markdown",
   "metadata": {},
   "source": [
    "\n",
    "Now we're going to build a larger network that can solve a (formerly) difficult problem, identifying text in an image. Here we'll use the MNIST dataset which consists of greyscale handwritten digits. Each image is 28x28 pixels, you can see a sample below\n",
    "\n",
    "<img src='assets/mnist.png'>\n",
    "\n",
    "Our goal is to build a neural network that can take one of these images and predict the digit in the image.\n",
    "\n",
    "First up, we need to get our dataset. This is provided through the `torchvision` package. The code below will download the MNIST dataset, then create training and test datasets for us. Don't worry too much about the details here, you'll learn more about this later."
   ]
  },
  {
   "cell_type": "code",
   "execution_count": 2,
   "metadata": {},
   "outputs": [
    {
     "name": "stdout",
     "output_type": "stream",
     "text": [
      "Downloading http://yann.lecun.com/exdb/mnist/train-images-idx3-ubyte.gz\n",
      "Downloading http://yann.lecun.com/exdb/mnist/train-labels-idx1-ubyte.gz\n",
      "Downloading http://yann.lecun.com/exdb/mnist/t10k-images-idx3-ubyte.gz\n",
      "Downloading http://yann.lecun.com/exdb/mnist/t10k-labels-idx1-ubyte.gz\n",
      "Processing...\n",
      "Done!\n"
     ]
    }
   ],
   "source": [
    "### Run this cell\n",
    "\n",
    "from torchvision import datasets, transforms\n",
    "\n",
    "# Define a transform to normalize the data\n",
    "transform = transforms.Compose([transforms.ToTensor(),\n",
    "                              transforms.Normalize((0.5, 0.5, 0.5), (0.5, 0.5, 0.5)),\n",
    "                              ])\n",
    "\n",
    "# Download and load the training data\n",
    "trainset = datasets.MNIST('MNIST_data/', download=True, train=True, transform=transform)\n",
    "trainloader = torch.utils.data.DataLoader(trainset, batch_size=64, shuffle=True)"
   ]
  },
  {
   "cell_type": "markdown",
   "metadata": {},
   "source": [
    "We have the training data loaded into `trainloader` and we make that an iterator with `iter(trainloader)`. Later, we'll use this to loop through the dataset for training, like\n",
    "\n",
    "```python\n",
    "for image, label in trainloader:\n",
    "    ## do things with images and labels\n",
    "```\n",
    "\n",
    "You'll notice I created the `trainloader` with a batch size of 64, and `shuffle=True`. The batch size is the number of images we get in one iteration from the data loader and pass through our network, often called a *batch*. And `shuffle=True` tells it to shuffle the dataset every time we start going through the data loader again. But here I'm just grabbing the first batch so we can check out the data. We can see below that `images` is just a tensor with size `(64, 1, 28, 28)`. So, 64 images per batch, 1 color channel, and 28x28 images."
   ]
  },
  {
   "cell_type": "code",
   "execution_count": 3,
   "metadata": {},
   "outputs": [
    {
     "name": "stdout",
     "output_type": "stream",
     "text": [
      "<class 'torch.Tensor'>\n",
      "torch.Size([64, 1, 28, 28])\n",
      "torch.Size([64])\n"
     ]
    }
   ],
   "source": [
    "dataiter = iter(trainloader)\n",
    "images, labels = dataiter.next()\n",
    "print(type(images))\n",
    "print(images.shape)\n",
    "print(labels.shape)"
   ]
  },
  {
   "cell_type": "markdown",
   "metadata": {},
   "source": [
    "This is what one of the images looks like. "
   ]
  },
  {
   "cell_type": "code",
   "execution_count": 5,
   "metadata": {},
   "outputs": [
    {
     "data": {
      "text/plain": [
       "(1, 28, 28)"
      ]
     },
     "execution_count": 5,
     "metadata": {},
     "output_type": "execute_result"
    }
   ],
   "source": [
    "images[1].numpy().shape"
   ]
  },
  {
   "cell_type": "code",
   "execution_count": 6,
   "metadata": {},
   "outputs": [
    {
     "data": {
      "text/plain": [
       "(28, 28)"
      ]
     },
     "execution_count": 6,
     "metadata": {},
     "output_type": "execute_result"
    }
   ],
   "source": [
    "images[1].numpy().squeeze().shape"
   ]
  },
  {
   "cell_type": "code",
   "execution_count": 7,
   "metadata": {},
   "outputs": [
    {
     "data": {
      "image/png": "[encoded data removed]",
      "text/plain": [
       "<matplotlib.figure.Figure at 0x1fc819ce898>"
      ]
     },
     "metadata": {
      "image/png": {
       "height": 250,
       "width": 253
      }
     },
     "output_type": "display_data"
    }
   ],
   "source": [
    "plt.imshow(images[1].numpy().squeeze(), cmap='Greys_r');"
   ]
  },
  {
   "cell_type": "markdown",
   "metadata": {},
   "source": [
    "First, let's try to build a simple network for this dataset using weight matrices and matrix multiplications. Then, we'll see how to do it using PyTorch's `nn` module which provides a much more convenient and powerful method for defining network architectures.\n",
    "\n",
    "The networks you've seen so far are called *fully-connected* or *dense* networks. Each unit in one layer is connected to each unit in the next layer. In fully-connected networks, the input to each layer must be a one-dimensional vector (which can be stacked into a 2D tensor as a batch of multiple examples). However, our images are 28x28 2D tensors, so we need to convert them into 1D vectors. Thinking about sizes, we need to convert the batch of images with shape `(64, 1, 28, 28)` to a have a shape of `(64, 784)`, 784 is 28 times 28. This is typically called *flattening*, we flattened the 2D images into 1D vectors.\n",
    "\n",
    "Previously you built a network with one output unit. Here we need 10 output units, one for each digit. We want our network to predict the digit shown in an image, so what we'll do is calculate probabilities that the image is of any one digit or class. This ends up being a discrete probability distribution over the classes (digits) that tells us the most likely class for the image. That means we need 10 output units for the 10 classes (digits). We'll see how to convert the network output into a probability distribution next.\n",
    "\n",
    "> **Exercise:** Flatten the batch of images `images`. Then build a multi-layer network with 784 input units, 256 hidden units, and 10 output units using random tensors for the weights and biases. For now, use a sigmoid activation for the hidden layer. Leave the output layer without an activation, we'll add one that gives us a probability distribution next."
   ]
  },
  {
   "cell_type": "code",
   "execution_count": 27,
   "metadata": {},
   "outputs": [
    {
     "data": {
      "text/plain": [
       "torch.Size([64, 1, 28, 28])"
      ]
     },
     "execution_count": 27,
     "metadata": {},
     "output_type": "execute_result"
    }
   ],
   "source": [
    "images.shape"
   ]
  },
  {
   "cell_type": "code",
   "execution_count": 24,
   "metadata": {},
   "outputs": [
    {
     "data": {
      "text/plain": [
       "64"
      ]
     },
     "execution_count": 24,
     "metadata": {},
     "output_type": "execute_result"
    }
   ],
   "source": [
    "images.shape[0]"
   ]
  },
  {
   "cell_type": "code",
   "execution_count": 26,
   "metadata": {},
   "outputs": [
    {
     "data": {
      "text/plain": [
       "torch.Size([64, 784])"
      ]
     },
     "execution_count": 26,
     "metadata": {},
     "output_type": "execute_result"
    }
   ],
   "source": [
    "images.view(images.shape[0], -1).shape"
   ]
  },
  {
   "cell_type": "code",
   "execution_count": 33,
   "metadata": {},
   "outputs": [
    {
     "data": {
      "text/plain": [
       "1"
      ]
     },
     "execution_count": 33,
     "metadata": {},
     "output_type": "execute_result"
    }
   ],
   "source": [
    "images.shape[-1]"
   ]
  },
  {
   "cell_type": "code",
   "execution_count": 23,
   "metadata": {},
   "outputs": [
    {
     "data": {
      "text/plain": [
       "784"
      ]
     },
     "execution_count": 23,
     "metadata": {},
     "output_type": "execute_result"
    }
   ],
   "source": [
    "num_pixels = images.shape[1] * images.shape[2] * images.shape[3]\n",
    "num_pixels"
   ]
  },
  {
   "cell_type": "code",
   "execution_count": 16,
   "metadata": {},
   "outputs": [
    {
     "data": {
      "text/plain": [
       "torch.Size([64, 1, 28, 28])"
      ]
     },
     "execution_count": 16,
     "metadata": {},
     "output_type": "execute_result"
    }
   ],
   "source": [
    "images.shape"
   ]
  },
  {
   "cell_type": "code",
   "execution_count": 19,
   "metadata": {},
   "outputs": [
    {
     "data": {
      "text/plain": [
       "torch.Size([64, 784])"
      ]
     },
     "execution_count": 19,
     "metadata": {},
     "output_type": "execute_result"
    }
   ],
   "source": [
    "images.reshape(images.shape[0], images.shape[1] * images.shape[2] * images.shape[3]).shape"
   ]
  },
  {
   "cell_type": "code",
   "execution_count": 22,
   "metadata": {},
   "outputs": [
    {
     "data": {
      "text/plain": [
       "(64, torch.Size([64, 784]))"
      ]
     },
     "execution_count": 22,
     "metadata": {},
     "output_type": "execute_result"
    }
   ],
   "source": [
    "inpt = images.reshape(images.shape[0], images.shape[1] * images.shape[2] * images.shape[3])\n",
    "len(inpt), inpt.shape"
   ]
  },
  {
   "cell_type": "code",
   "execution_count": 28,
   "metadata": {},
   "outputs": [
    {
     "data": {
      "text/plain": [
       "tensor([[-1., -1., -1.,  ..., -1., -1., -1.],\n",
       "        [-1., -1., -1.,  ..., -1., -1., -1.],\n",
       "        [-1., -1., -1.,  ..., -1., -1., -1.],\n",
       "        ...,\n",
       "        [-1., -1., -1.,  ..., -1., -1., -1.],\n",
       "        [-1., -1., -1.,  ..., -1., -1., -1.],\n",
       "        [-1., -1., -1.,  ..., -1., -1., -1.]])"
      ]
     },
     "execution_count": 28,
     "metadata": {},
     "output_type": "execute_result"
    }
   ],
   "source": [
    "inpt"
   ]
  },
  {
   "cell_type": "code",
   "execution_count": 29,
   "metadata": {},
   "outputs": [],
   "source": [
    "inputs = images.view(images.shape[0], -1)"
   ]
  },
  {
   "cell_type": "code",
   "execution_count": 30,
   "metadata": {},
   "outputs": [
    {
     "data": {
      "text/plain": [
       "tensor([[-1., -1., -1.,  ..., -1., -1., -1.],\n",
       "        [-1., -1., -1.,  ..., -1., -1., -1.],\n",
       "        [-1., -1., -1.,  ..., -1., -1., -1.],\n",
       "        ...,\n",
       "        [-1., -1., -1.,  ..., -1., -1., -1.],\n",
       "        [-1., -1., -1.,  ..., -1., -1., -1.],\n",
       "        [-1., -1., -1.,  ..., -1., -1., -1.]])"
      ]
     },
     "execution_count": 30,
     "metadata": {},
     "output_type": "execute_result"
    }
   ],
   "source": [
    "inputs"
   ]
  },
  {
   "cell_type": "code",
   "execution_count": 37,
   "metadata": {},
   "outputs": [
    {
     "data": {
      "text/plain": [
       "784"
      ]
     },
     "execution_count": 37,
     "metadata": {},
     "output_type": "execute_result"
    }
   ],
   "source": [
    "inputs.shape[1]"
   ]
  },
  {
   "cell_type": "code",
   "execution_count": 36,
   "metadata": {},
   "outputs": [
    {
     "data": {
      "text/plain": [
       "tensor(1, dtype=torch.uint8)"
      ]
     },
     "execution_count": 36,
     "metadata": {},
     "output_type": "execute_result"
    }
   ],
   "source": [
    "torch.all(torch.eq(inpt,inputs))"
   ]
  },
  {
   "cell_type": "code",
   "execution_count": 42,
   "metadata": {},
   "outputs": [],
   "source": [
    "# from previous notebook. s/b same as torch.sigmoid\n",
    "def activation(x):\n",
    "    return 1/(1+torch.exp(-x))"
   ]
  },
  {
   "cell_type": "code",
   "execution_count": 53,
   "metadata": {},
   "outputs": [],
   "source": [
    "??torch.sigmoid"
   ]
  },
  {
   "cell_type": "markdown",
   "metadata": {},
   "source": [
    "Docstring:\n",
    "sigmoid(input, out=None) -> Tensor\n",
    "\n",
    "Returns a new tensor with the sigmoid of the elements of :attr:`input`.\n",
    "\n",
    ".. math::\n",
    "    $\\text{out}_{i} = \\frac{1}{1 + e^{-\\text{input}_{i}}}$\n",
    "\n",
    "Args:\n",
    "    input (Tensor): the input tensor\n",
    "    out (Tensor, optional): the output tensor\n",
    "\n",
    "Example::\n",
    "\n",
    "    >>> a = torch.randn(4)\n",
    "    >>> a\n",
    "    tensor([ 0.9213,  1.0887, -0.8858, -1.7683])\n",
    "    >>> torch.sigmoid(a)\n",
    "    tensor([ 0.7153,  0.7481,  0.2920,  0.1458])\n",
    "Type:      builtin_function_or_method"
   ]
  },
  {
   "cell_type": "code",
   "execution_count": 63,
   "metadata": {},
   "outputs": [],
   "source": [
    "torch.nn.Sigmoid??"
   ]
  },
  {
   "cell_type": "markdown",
   "metadata": {},
   "source": [
    "Init signature: torch.nn.Sigmoid()\n",
    "Source:        \n",
    "class Sigmoid(Module):\n",
    "    r\"\"\"Applies the element-wise function \n",
    "    \n",
    "    \n",
    ":math:$\\text{Sigmoid}(x) = \\frac{1}{1 + \\exp(-x)}$\n",
    "\n",
    "    Shape:\n",
    "        - Input: :math:`(N, *)` where `*` means, any number of additional\n",
    "          dimensions\n",
    "        - Output: :math:`(N, *)`, same shape as the input\n",
    "\n",
    "    .. image:: scripts/activation_images/Sigmoid.png\n",
    "\n",
    "    Examples::\n",
    "\n",
    "        >>> m = nn.Sigmoid()\n",
    "        >>> input = torch.randn(2)\n",
    "        >>> output = m(input)\n",
    "    \"\"\"\n",
    "\n",
    "    def forward(self, input):\n",
    "        return torch.sigmoid(input)"
   ]
  },
  {
   "cell_type": "code",
   "execution_count": 67,
   "metadata": {},
   "outputs": [
    {
     "ename": "TypeError",
     "evalue": "__init__() takes 1 positional argument but 2 were given",
     "output_type": "error",
     "traceback": [
      "\u001b[1;31m---------------------------------------------------------------------------\u001b[0m",
      "\u001b[1;31mTypeError\u001b[0m                                 Traceback (most recent call last)",
      "\u001b[1;32m<ipython-input-67-a067d074bdfc>\u001b[0m in \u001b[0;36m<module>\u001b[1;34m()\u001b[0m\n\u001b[1;32m----> 1\u001b[1;33m \u001b[0mtorch\u001b[0m\u001b[1;33m.\u001b[0m\u001b[0mnn\u001b[0m\u001b[1;33m.\u001b[0m\u001b[0mSigmoid\u001b[0m\u001b[1;33m(\u001b[0m\u001b[0mtorch\u001b[0m\u001b[1;33m.\u001b[0m\u001b[0mrandn\u001b[0m\u001b[1;33m(\u001b[0m\u001b[1;36m2\u001b[0m\u001b[1;33m)\u001b[0m\u001b[1;33m)\u001b[0m\u001b[1;33m\u001b[0m\u001b[0m\n\u001b[0m",
      "\u001b[1;31mTypeError\u001b[0m: __init__() takes 1 positional argument but 2 were given"
     ]
    }
   ],
   "source": [
    "torch.nn.Sigmoid(torch.randn(2))"
   ]
  },
  {
   "cell_type": "code",
   "execution_count": 75,
   "metadata": {},
   "outputs": [
    {
     "ename": "TypeError",
     "evalue": "__init__() takes 1 positional argument but 2 were given",
     "output_type": "error",
     "traceback": [
      "\u001b[1;31m---------------------------------------------------------------------------\u001b[0m",
      "\u001b[1;31mTypeError\u001b[0m                                 Traceback (most recent call last)",
      "\u001b[1;32m<ipython-input-75-e3f460f7c953>\u001b[0m in \u001b[0;36m<module>\u001b[1;34m()\u001b[0m\n\u001b[0;32m      1\u001b[0m \u001b[0minput\u001b[0m \u001b[1;33m=\u001b[0m \u001b[0mtorch\u001b[0m\u001b[1;33m.\u001b[0m\u001b[0mrandn\u001b[0m\u001b[1;33m(\u001b[0m\u001b[1;36m2\u001b[0m\u001b[1;33m)\u001b[0m\u001b[1;33m\u001b[0m\u001b[0m\n\u001b[1;32m----> 2\u001b[1;33m \u001b[0mtorch\u001b[0m\u001b[1;33m.\u001b[0m\u001b[0mnn\u001b[0m\u001b[1;33m.\u001b[0m\u001b[0mSigmoid\u001b[0m\u001b[1;33m(\u001b[0m\u001b[0minput\u001b[0m\u001b[1;33m)\u001b[0m\u001b[1;33m\u001b[0m\u001b[0m\n\u001b[0m",
      "\u001b[1;31mTypeError\u001b[0m: __init__() takes 1 positional argument but 2 were given"
     ]
    }
   ],
   "source": [
    "input = torch.randn(2)\n",
    "torch.nn.Sigmoid(input)"
   ]
  },
  {
   "cell_type": "markdown",
   "metadata": {},
   "source": [
    "Needs to be instantiated..."
   ]
  },
  {
   "cell_type": "code",
   "execution_count": 76,
   "metadata": {},
   "outputs": [
    {
     "data": {
      "text/plain": [
       "tensor([0.2066, 0.7266])"
      ]
     },
     "execution_count": 76,
     "metadata": {},
     "output_type": "execute_result"
    }
   ],
   "source": [
    "m = torch.nn.Sigmoid()\n",
    "m(input)"
   ]
  },
  {
   "cell_type": "code",
   "execution_count": 77,
   "metadata": {},
   "outputs": [
    {
     "data": {
      "text/plain": [
       "tensor([0.2066, 0.7266])"
      ]
     },
     "execution_count": 77,
     "metadata": {},
     "output_type": "execute_result"
    }
   ],
   "source": [
    "torch.sigmoid(input)"
   ]
  },
  {
   "cell_type": "code",
   "execution_count": 44,
   "metadata": {},
   "outputs": [],
   "source": [
    "testW = torch.randn(784, 256)"
   ]
  },
  {
   "cell_type": "code",
   "execution_count": 45,
   "metadata": {},
   "outputs": [
    {
     "data": {
      "text/plain": [
       "tensor([[9.9986e-01, 9.9993e-01, 1.0000e+00,  ..., 1.0000e+00, 3.2932e-12,\n",
       "         2.7598e-11],\n",
       "        [7.5980e-01, 1.0000e+00, 3.0711e-03,  ..., 1.0000e+00, 9.9977e-01,\n",
       "         4.4198e-10],\n",
       "        [6.2507e-09, 1.0000e+00, 9.9782e-01,  ..., 1.0000e+00, 1.1561e-31,\n",
       "         3.3801e-10],\n",
       "        ...,\n",
       "        [1.0000e+00, 1.0000e+00, 7.5269e-01,  ..., 1.0000e+00, 1.0000e+00,\n",
       "         9.2114e-01],\n",
       "        [9.7628e-01, 7.7542e-01, 1.0000e+00,  ..., 1.0000e+00, 1.0910e-23,\n",
       "         5.1953e-13],\n",
       "        [1.0000e+00, 1.0000e+00, 9.9950e-01,  ..., 1.0000e+00, 9.5772e-04,\n",
       "         6.2056e-13]])"
      ]
     },
     "execution_count": 45,
     "metadata": {},
     "output_type": "execute_result"
    }
   ],
   "source": [
    "activation(torch.mm(inputs, testW))"
   ]
  },
  {
   "cell_type": "code",
   "execution_count": 46,
   "metadata": {},
   "outputs": [
    {
     "data": {
      "text/plain": [
       "tensor([[9.9986e-01, 9.9993e-01, 1.0000e+00,  ..., 1.0000e+00, 3.2932e-12,\n",
       "         2.7598e-11],\n",
       "        [7.5980e-01, 1.0000e+00, 3.0711e-03,  ..., 1.0000e+00, 9.9977e-01,\n",
       "         4.4198e-10],\n",
       "        [6.2507e-09, 1.0000e+00, 9.9782e-01,  ..., 1.0000e+00, 1.1561e-31,\n",
       "         3.3801e-10],\n",
       "        ...,\n",
       "        [1.0000e+00, 1.0000e+00, 7.5269e-01,  ..., 1.0000e+00, 1.0000e+00,\n",
       "         9.2114e-01],\n",
       "        [9.7628e-01, 7.7542e-01, 1.0000e+00,  ..., 1.0000e+00, 1.0910e-23,\n",
       "         5.1953e-13],\n",
       "        [1.0000e+00, 1.0000e+00, 9.9950e-01,  ..., 1.0000e+00, 9.5772e-04,\n",
       "         6.2056e-13]])"
      ]
     },
     "execution_count": 46,
     "metadata": {},
     "output_type": "execute_result"
    }
   ],
   "source": [
    "torch.sigmoid(torch.mm(inputs, testW))"
   ]
  },
  {
   "cell_type": "code",
   "execution_count": 50,
   "metadata": {},
   "outputs": [
    {
     "data": {
      "text/plain": [
       "tensor(0, dtype=torch.uint8)"
      ]
     },
     "execution_count": 50,
     "metadata": {},
     "output_type": "execute_result"
    }
   ],
   "source": [
    "torch.eq(activation(torch.mm(inputs, testW)), torch.sigmoid(torch.mm(inputs, testW))).all()"
   ]
  },
  {
   "cell_type": "code",
   "execution_count": 49,
   "metadata": {},
   "outputs": [
    {
     "data": {
      "text/plain": [
       "tensor([[0.0000, 0.0000, 0.0000,  ..., 0.0000, 0.0000, 0.0000],\n",
       "        [0.0000, 0.0000, 0.0000,  ..., 0.0000, 0.0000, 0.0000],\n",
       "        [0.0000, 0.0000, 0.0000,  ..., 0.0000, 0.0000, 0.0000],\n",
       "        ...,\n",
       "        [0.0000, 0.0000, 0.0000,  ..., 0.0000, 0.0000, 0.0000],\n",
       "        [0.0000, 0.0000, 0.0000,  ..., 0.0000, 0.0000, 0.0000],\n",
       "        [0.0000, 0.0000, 0.0000,  ..., 0.0000, 0.0000, 0.0000]])"
      ]
     },
     "execution_count": 49,
     "metadata": {},
     "output_type": "execute_result"
    }
   ],
   "source": [
    "torch.add(torch.sigmoid(torch.mm(inputs, testW)), -activation(torch.mm(inputs, testW)))"
   ]
  },
  {
   "cell_type": "code",
   "execution_count": 96,
   "metadata": {},
   "outputs": [],
   "source": [
    "## Your solution\n",
    "def activation(x):\n",
    "    return 1/(1+torch.exp(-x))\n",
    "\n",
    "inpt = images.view(images.shape[0], -1)\n",
    "num_pixls = inpt.shape[1]\n",
    "W1 = torch.randn(num_pixls, 256)\n",
    "B1 = torch.randn(256)\n",
    "W2 = torch.randn(256, 10)\n",
    "B2 = torch.randn(10)\n",
    "\n",
    "h = activation(torch.mm(inpt, W1) + B1)\n",
    "\n",
    "#out = # output of your network, should have shape (64,10)\n",
    "out = torch.mm(h, W2) + B2"
   ]
  },
  {
   "cell_type": "code",
   "execution_count": 97,
   "metadata": {},
   "outputs": [
    {
     "data": {
      "text/plain": [
       "torch.Size([64, 10])"
      ]
     },
     "execution_count": 97,
     "metadata": {},
     "output_type": "execute_result"
    }
   ],
   "source": [
    "out.shape"
   ]
  },
  {
   "cell_type": "code",
   "execution_count": 52,
   "metadata": {},
   "outputs": [
    {
     "data": {
      "text/plain": [
       "tensor([[  9.0149,  -3.9841,  -2.2665,   6.9339,  10.9644,  -9.1111,  13.1147,\n",
       "         -10.0428,  19.4811,  -2.0752],\n",
       "        [ 13.0690,   2.8698,  -7.0353,   9.5743,   6.7962, -12.5223,  26.1957,\n",
       "          -6.7012,  13.8372,   4.0268],\n",
       "        [ 15.5708,   9.5194, -10.2859,  11.3327,   9.6821, -13.1002,  15.0776,\n",
       "          -5.5863,  11.7244, -15.1508],\n",
       "        [ 13.7821,   4.6612, -12.2135,  13.1703,   8.4305,  -5.6966,  24.2911,\n",
       "           1.2507,   3.6013,  -7.3416],\n",
       "        [ 18.7018,  -4.8383, -17.0509,  15.7735,  10.7959,  -4.4424,  16.1095,\n",
       "          -2.7217,   9.1579,   5.5480],\n",
       "        [ 19.0608,   6.0115, -14.4118,  10.2583,  14.9380,   6.9678,  21.8922,\n",
       "         -14.2682,   6.9539, -10.6708],\n",
       "        [ 14.3726,   0.0075, -11.7016,  14.7059,  10.4396,  -7.6697,  20.0365,\n",
       "           9.2143,   4.0143,  -1.2273],\n",
       "        [ 14.8708,   1.5581, -10.5830,  19.2161,  30.5141,  -3.8330,  12.2286,\n",
       "          -6.3575,  11.9110,  -0.3883],\n",
       "        [ 13.7596,   6.1246,  -9.3318,   5.7922,  16.3214, -10.4464,  17.8959,\n",
       "          -3.6598,  12.4312,   2.8694],\n",
       "        [ 17.8262,  -1.3921, -10.6382,  14.1284,  12.1382, -18.8750,  17.7566,\n",
       "           4.5461,   3.7432,  -2.4088],\n",
       "        [ 10.7892,   1.2574, -13.9023,   9.8179,  11.6485, -10.0285,  16.4739,\n",
       "           1.0792,  14.1192,   5.4295],\n",
       "        [  1.1916,  -0.5593,  -7.1859,  17.0348,   7.7578,  -8.6715,  13.5490,\n",
       "          11.2640,  10.5075,  -7.6012],\n",
       "        [ -2.2979,   0.9179, -10.6319,   9.5667,   6.1547, -17.2394,  29.1803,\n",
       "          -2.0822,   9.7898,  -4.1216],\n",
       "        [ 17.5345,   2.9211,  -8.2106,   4.3288,  10.2688,  -1.9566,  11.1023,\n",
       "          -6.9214,  14.7946,  -6.7314],\n",
       "        [ 17.8962,   9.7775, -14.1016,   9.3174,   5.1655,  -2.0161,  10.2127,\n",
       "           5.1758,  18.7200, -11.8098],\n",
       "        [  8.9297,   0.4887,  -3.6031,  16.0636,   1.4166,  -5.4094,  17.6372,\n",
       "           3.2874,  -1.1324,  -0.9017],\n",
       "        [ 12.1645,  -0.6491,  -8.3003,   6.2685,  12.3639,   0.7260,  23.6331,\n",
       "          -3.7088,  13.1408,   4.7413],\n",
       "        [ 16.9697,  -3.2707,  -5.8616,  16.1783,   5.8011, -14.7517,  13.5935,\n",
       "         -13.5326,  16.5089,  -2.3399],\n",
       "        [ 16.3151,   2.2624, -17.5378,  10.2045,   4.2205, -12.6204,  19.3328,\n",
       "          -0.7143,   1.3602,  -0.9765],\n",
       "        [ 25.2435,   6.4834, -13.6306,  12.4372,  15.1993,   3.2603,  14.4272,\n",
       "          -1.3545,  15.3521, -11.3009],\n",
       "        [ 14.5903,  -5.3035,  -5.5715,  12.6316,  13.4414,  -8.2854,  17.9007,\n",
       "           1.0620,  10.7350,  -8.3194],\n",
       "        [ 11.8649,   3.6794,  -4.9006,  16.3336,  18.9550,  -7.4570,  19.0930,\n",
       "           8.8483,   8.9375,  -6.5960],\n",
       "        [  8.3322,   2.6467,  -6.9567,  12.4152,  17.0505,  -2.4471,  21.0008,\n",
       "          -0.3567,   9.7767,  -1.2892],\n",
       "        [  8.8157,   3.2424, -18.2849,  13.3396,   8.3083, -10.6432,  10.8896,\n",
       "           5.3949,  11.2831,   7.4483],\n",
       "        [ 11.9764,   0.7129,   1.1287,  21.2835,   5.8814, -18.4114,  26.9363,\n",
       "          -9.5069,  12.0978,  -4.7570],\n",
       "        [ 19.4220,   6.1042,  -5.5381,  14.7579,  13.6531,   1.4109,  12.8629,\n",
       "           3.9093,   5.2323, -11.2207],\n",
       "        [  9.2414,   6.7196,  -7.4859,   9.0028,  13.9489,  -0.9291,  10.6538,\n",
       "           8.4755,   2.7132,   0.7205],\n",
       "        [ 13.6829,  -3.0037,  -7.4263,  17.0899,  11.0962, -17.6105,  21.1921,\n",
       "          -7.2774,  21.7517,   2.8428],\n",
       "        [ 15.8809,  14.4894,  -2.9064,   1.0605,  16.3928,  -1.0009,  16.8849,\n",
       "           4.4253,  15.1804, -17.8754],\n",
       "        [ 12.8267,  -7.7981,  -8.0727,  10.0866,   9.5019,  -7.4802,  20.6281,\n",
       "          -0.4790,   5.8848,   7.3705],\n",
       "        [ 13.9808,   1.8037,  -6.3736,   7.8300,  14.2806,  -9.5231,  25.5250,\n",
       "          -6.7478,   3.9293,   0.1784],\n",
       "        [ 19.1330,   8.0343, -12.8099,   8.6451,  16.4483,   0.5550,   9.6584,\n",
       "          -4.3617,   2.1831,  -3.3925],\n",
       "        [ 24.6298,   5.9343, -14.3660,   2.2380,   3.0642, -15.0584,   7.9175,\n",
       "          -0.6376,   6.7410, -12.2328],\n",
       "        [ 11.9240,  -1.0062, -11.2256,   8.3539,  -2.5777, -13.0343,   7.6015,\n",
       "          -3.0245,   9.1084,   6.0751],\n",
       "        [ 21.8800,  12.6845, -22.9506,   5.3126,   3.6835,   5.1530,   6.7025,\n",
       "          -5.5896,   7.4897,  -6.1642],\n",
       "        [  5.5110,  -7.6265, -12.3898,  11.5282,   5.5785, -16.8618,  13.9945,\n",
       "           4.5205,  12.7341,   4.4965],\n",
       "        [ 15.1116,  -0.4327,  -7.6107,  19.2848,   7.8374, -13.4152,  23.1806,\n",
       "          -1.5615,  16.6001,  -1.3564],\n",
       "        [ 12.6456,   5.8396, -15.2991,  10.2785,   2.5783, -14.3070,  14.4431,\n",
       "          -6.5405,  14.8895,   1.7728],\n",
       "        [  8.4898,   0.4854,  -6.2626,  12.9647,   8.3311,  -8.1436,  16.2408,\n",
       "          -2.0995,  16.1200,  -4.7151],\n",
       "        [  2.7729,   3.7446,  -8.6790,  12.2972,   8.1869,  -8.7765,  18.6655,\n",
       "           0.4987,  14.8603,  -1.2834],\n",
       "        [ 11.1631,   1.1517,  -7.6185,   5.5804,   2.3921, -16.2391,  13.7425,\n",
       "          -2.1851,  16.2934,  -0.4675],\n",
       "        [  7.6026,  -6.6773, -12.4610,  22.4000,  -0.1791,  -3.9952,  11.8895,\n",
       "           9.2078,   1.9655,  -4.1193],\n",
       "        [ 13.7007,   1.5046,  -9.9366,   9.1784,   3.3390,  -8.3924,  17.0981,\n",
       "           3.5384,  14.3361,  -1.3244],\n",
       "        [ 13.9740,  -1.7332,  -2.9062,  12.0136,  20.1323,  -6.0075,  23.7124,\n",
       "          -2.1915,  14.0299,  -3.3137],\n",
       "        [ 19.0783,   0.6296, -14.1415,   6.0863,   9.4034, -10.1168,  16.0103,\n",
       "          -3.9885,  16.0667,   3.2351],\n",
       "        [ 15.0919,  -0.0115,  -8.7417,  11.7370,  11.0005,  -3.3313,   7.7384,\n",
       "          -1.5444,  19.1940,   0.7187],\n",
       "        [ 18.9193,  -2.1448,  -6.0469,  10.0892,   7.8296,   1.2348,  13.1834,\n",
       "          -7.5597,   0.3049,  -3.1151],\n",
       "        [ 13.7366,  -3.4380, -13.9335,  15.2342,   0.1806, -17.8417,  15.5138,\n",
       "          -6.8383,   3.5744,   6.4116],\n",
       "        [ 16.4901,  -0.0432, -17.3391,  15.4963,  12.8358, -19.6933,  22.8152,\n",
       "          -3.6729,  10.4777, -10.6893],\n",
       "        [ 14.3809,   1.7883,  -2.5037,  11.8318,  14.0798, -16.8834,  24.1541,\n",
       "          -2.1514,   8.2518,  -1.3576],\n",
       "        [ 17.9408,   2.4631,  -6.6770,   9.7411,   9.2217,  -9.9725,  15.8878,\n",
       "          -5.0291,   7.1242,  -3.2401],\n",
       "        [ 14.2909,  -3.3105, -10.0128,  13.5676,  11.0041,  -1.4358,  17.4752,\n",
       "          11.7545,   8.0431,   6.2212],\n",
       "        [  3.9652,  -8.3424, -10.1690,   9.5978,  -1.4009,  -7.5340,  20.0521,\n",
       "           0.9020,   4.4395,  -2.3143],\n",
       "        [ 15.8315,   6.5857, -13.8960,   6.1403,   6.2894, -12.3491,  23.4767,\n",
       "          -4.8580,   4.5490,   7.7531],\n",
       "        [  9.6459,  -2.5855,  -6.0366,  13.1234,   9.8478, -11.9443,  20.1267,\n",
       "           1.3166,   3.1935,   5.8094],\n",
       "        [ 17.2260,   4.4170,  -9.4021,   9.1470,   9.0090,   3.8789,  16.7060,\n",
       "           1.3546,  -0.1672,  -6.1039],\n",
       "        [  2.7394,  -2.8167,  -0.8613,  14.6968,   8.4933, -13.5227,   9.9298,\n",
       "           4.8994,  14.3442,   4.9593],\n",
       "        [ 11.0485,   0.0398,   0.7096,  10.4608,   9.0138,  -5.7860,  19.1950,\n",
       "          -4.4486,   7.2893,  -4.1517],\n",
       "        [ 13.6898,   0.4971,  -5.8143,  13.4868,   7.6557,  -7.7274,  20.8919,\n",
       "           5.2704,  -4.6181,   8.9333],\n",
       "        [ 10.8738,   3.7466, -10.9676,  10.9222,   8.4102,  -3.6942,  17.6281,\n",
       "           8.1088,   3.1537,  -4.4568],\n",
       "        [ 22.9906,   2.2599, -11.7390,  11.1784,   9.0565, -14.5800,  10.1391,\n",
       "          -2.4969,   9.1372,   8.9864],\n",
       "        [ 11.1315,  -3.2782, -16.4276,  10.0353,   1.7067,  -7.5298,  23.2730,\n",
       "          -4.9980,  -0.1293,  -6.3106],\n",
       "        [ 20.9342,   0.3550,  -4.3892,  -0.2901,  20.5174,  -8.1945,  13.0827,\n",
       "         -21.3764,  17.0308,   9.4936],\n",
       "        [  2.0001,  -3.0347, -13.0579,  13.5883,  10.0458,  -5.7941,  19.0613,\n",
       "           8.1702,   5.4446,   4.1484]])"
      ]
     },
     "execution_count": 52,
     "metadata": {},
     "output_type": "execute_result"
    }
   ],
   "source": [
    "out"
   ]
  },
  {
   "cell_type": "markdown",
   "metadata": {},
   "source": [
    "Now we have 10 outputs for our network. We want to pass in an image to our network and get out a probability distribution over the classes that tells us the likely class(es) the image belongs to. Something that looks like this:\n",
    "<img src='assets/image_distribution.png' width=500px>\n",
    "\n",
    "Here we see that the probability for each class is roughly the same. This is representing an untrained network, it hasn't seen any data yet so it just returns a uniform distribution with equal probabilities for each class.\n",
    "\n",
    "To calculate this probability distribution, we often use the [**softmax** function](https://en.wikipedia.org/wiki/Softmax_function). Mathematically this looks like\n",
    "\n",
    "$$\n",
    "\\Large \\sigma(x_i) = \\cfrac{e^{x_i}}{\\sum_k^K{e^{x_k}}}\n",
    "$$\n",
    "\n",
    "What this does is squish each input $x_i$ between 0 and 1 and normalizes the values to give you a proper probability distribution where the probabilites sum up to one.\n",
    "\n",
    "> **Exercise:** Implement a function `softmax` that performs the softmax calculation and returns probability distributions for each example in the batch. Note that you'll need to pay attention to the shapes when doing this. If you have a tensor `a` with shape `(64, 10)` and a tensor `b` with shape `(64,)`, doing `a/b` will give you an error because PyTorch will try to do the division across the columns (called broadcasting) but you'll get a size mismatch. The way to think about this is for each of the 64 examples, you only want to divide by one value, the sum in the denominator. So you need `b` to have a shape of `(64, 1)`. This way PyTorch will divide the 10 values in each row of `a` by the one value in each row of `b`. Pay attention to how you take the sum as well. You'll need to define the `dim` keyword in `torch.sum`. Setting `dim=0` takes the sum across the rows while `dim=1` takes the sum across the columns."
   ]
  },
  {
   "cell_type": "code",
   "execution_count": 56,
   "metadata": {},
   "outputs": [],
   "source": [
    "??torch.nn.functional.softmax"
   ]
  },
  {
   "cell_type": "markdown",
   "metadata": {},
   "source": [
    "## Signature: torch.nn.functional.softmax(input, dim=None, _stacklevel=3)\n",
    "Source:   \n",
    "def softmax(input, dim=None, _stacklevel=3):\n",
    "    r\"\"\"Applies a softmax function.\n",
    "\n",
    "    Softmax is defined as:\n",
    "\n",
    ".. math::\n",
    "    $\\text{Softmax}(x_{i}) = \\frac{exp(x_i)}{\\sum_j exp(x_j)}$\n",
    "\n",
    "    This was sigmoid\n",
    "    \n",
    ".. math::\n",
    "    $\\text{out}_{i} = \\frac{1}{1 + e^{-\\text{input}_{i}}}$\n",
    " \n",
    "    It is applied to all slices along dim, and will re-scale them so that the elements\n",
    "    lie in the range `(0, 1)` and sum to 1.\n",
    "\n",
    "    See :class:`~torch.nn.Softmax` for more details.\n",
    "\n",
    "    Arguments:\n",
    "        input (Tensor): input\n",
    "        dim (int): A dimension along which softmax will be computed.\n",
    "\n",
    "    .. note::\n",
    "        This function doesn't work directly with NLLLoss,\n",
    "        which expects the Log to be computed between the Softmax and itself.\n",
    "        Use log_softmax instead (it's faster and has better numerical properties).\n",
    "\n",
    "    \"\"\"\n",
    "    if dim is None:\n",
    "        dim = _get_softmax_dim('softmax', input.dim(), _stacklevel)\n",
    "    return input.softmax(dim)"
   ]
  },
  {
   "cell_type": "code",
   "execution_count": 78,
   "metadata": {},
   "outputs": [],
   "source": [
    "torch.nn.Softmax??"
   ]
  },
  {
   "cell_type": "markdown",
   "metadata": {},
   "source": [
    "Init signature: torch.nn.Softmax(dim=None)\n",
    "Source:        \n",
    "class Softmax(Module):\n",
    "    r\"\"\"Applies the Softmax function to an n-dimensional input Tensor\n",
    "    rescaling them so that the elements of the n-dimensional output Tensor\n",
    "    lie in the range (0,1) and sum to 1\n",
    "\n",
    "    Softmax is defined as\n",
    ":math:\n",
    "    $\\text{Softmax}(x_{i}) = \\frac{\\exp(x_i)}{\\sum_j \\exp(x_j)}$\n",
    "\n",
    "    Shape:\n",
    "        - Input: any shape\n",
    "        - Output: same as input\n",
    "\n",
    "    Returns:\n",
    "        a Tensor of the same dimension and shape as the input with\n",
    "        values in the range [0, 1]\n",
    "\n",
    "    Arguments:\n",
    "        dim (int): A dimension along which Softmax will be computed (so every slice\n",
    "            along dim will sum to 1).\n",
    "\n",
    "    .. note::\n",
    "        This module doesn't work directly with NLLLoss,\n",
    "        which expects the Log to be computed between the Softmax and itself.\n",
    "        Use `LogSoftmax` instead (it's faster and has better numerical properties).\n",
    "\n",
    "    Examples::\n",
    "\n",
    "        >>> m = nn.Softmax()\n",
    "        >>> input = torch.randn(2, 3)\n",
    "        >>> output = m(input)\n",
    "    \"\"\"\n",
    "\n",
    "    def __init__(self, dim=None):\n",
    "        super(Softmax, self).__init__()\n",
    "        self.dim = dim\n",
    "\n",
    "    def __setstate__(self, state):\n",
    "        self.__dict__.update(state)\n",
    "        if not hasattr(self, 'dim'):\n",
    "            self.dim = None\n",
    "\n",
    "    def forward(self, input):\n",
    "        return F.softmax(input, self.dim, _stacklevel=5)"
   ]
  },
  {
   "cell_type": "code",
   "execution_count": 86,
   "metadata": {},
   "outputs": [
    {
     "data": {
      "text/plain": [
       "tensor([0.4754, 0.5246])"
      ]
     },
     "execution_count": 86,
     "metadata": {},
     "output_type": "execute_result"
    }
   ],
   "source": [
    "input = torch.randn(2)\n",
    "torch.nn.functional.softmax(input, dim=0)"
   ]
  },
  {
   "cell_type": "code",
   "execution_count": 87,
   "metadata": {},
   "outputs": [
    {
     "ename": "TypeError",
     "evalue": "__init__() got multiple values for argument 'dim'",
     "output_type": "error",
     "traceback": [
      "\u001b[1;31m---------------------------------------------------------------------------\u001b[0m",
      "\u001b[1;31mTypeError\u001b[0m                                 Traceback (most recent call last)",
      "\u001b[1;32m<ipython-input-87-37b7d6706911>\u001b[0m in \u001b[0;36m<module>\u001b[1;34m()\u001b[0m\n\u001b[1;32m----> 1\u001b[1;33m \u001b[0mtorch\u001b[0m\u001b[1;33m.\u001b[0m\u001b[0mnn\u001b[0m\u001b[1;33m.\u001b[0m\u001b[0mSoftmax\u001b[0m\u001b[1;33m(\u001b[0m\u001b[0minput\u001b[0m\u001b[1;33m,\u001b[0m \u001b[0mdim\u001b[0m\u001b[1;33m=\u001b[0m\u001b[1;36m0\u001b[0m\u001b[1;33m)\u001b[0m\u001b[1;33m\u001b[0m\u001b[0m\n\u001b[0m",
      "\u001b[1;31mTypeError\u001b[0m: __init__() got multiple values for argument 'dim'"
     ]
    }
   ],
   "source": [
    "torch.nn.Softmax(input, dim=0)"
   ]
  },
  {
   "cell_type": "code",
   "execution_count": 88,
   "metadata": {},
   "outputs": [],
   "source": [
    "s = torch.nn.Softmax()"
   ]
  },
  {
   "cell_type": "code",
   "execution_count": 92,
   "metadata": {},
   "outputs": [
    {
     "name": "stderr",
     "output_type": "stream",
     "text": [
      "C:\\Users\\Chris\\Anaconda3\\lib\\site-packages\\ipykernel_launcher.py:1: UserWarning: Implicit dimension choice for softmax has been deprecated. Change the call to include dim=X as an argument.\n",
      "  \"\"\"Entry point for launching an IPython kernel.\n"
     ]
    },
    {
     "data": {
      "text/plain": [
       "tensor([0.4754, 0.5246])"
      ]
     },
     "execution_count": 92,
     "metadata": {},
     "output_type": "execute_result"
    }
   ],
   "source": [
    "s(input)"
   ]
  },
  {
   "cell_type": "code",
   "execution_count": 93,
   "metadata": {},
   "outputs": [
    {
     "ename": "TypeError",
     "evalue": "forward() got an unexpected keyword argument 'dim'",
     "output_type": "error",
     "traceback": [
      "\u001b[1;31m---------------------------------------------------------------------------\u001b[0m",
      "\u001b[1;31mTypeError\u001b[0m                                 Traceback (most recent call last)",
      "\u001b[1;32m<ipython-input-93-40316702c39a>\u001b[0m in \u001b[0;36m<module>\u001b[1;34m()\u001b[0m\n\u001b[1;32m----> 1\u001b[1;33m \u001b[0ms\u001b[0m\u001b[1;33m(\u001b[0m\u001b[0minput\u001b[0m\u001b[1;33m,\u001b[0m \u001b[0mdim\u001b[0m\u001b[1;33m=\u001b[0m\u001b[1;36m0\u001b[0m\u001b[1;33m)\u001b[0m\u001b[1;33m\u001b[0m\u001b[0m\n\u001b[0m",
      "\u001b[1;32m~\\Anaconda3\\lib\\site-packages\\torch\\nn\\modules\\module.py\u001b[0m in \u001b[0;36m__call__\u001b[1;34m(self, *input, **kwargs)\u001b[0m\n\u001b[0;32m    475\u001b[0m             \u001b[0mresult\u001b[0m \u001b[1;33m=\u001b[0m \u001b[0mself\u001b[0m\u001b[1;33m.\u001b[0m\u001b[0m_slow_forward\u001b[0m\u001b[1;33m(\u001b[0m\u001b[1;33m*\u001b[0m\u001b[0minput\u001b[0m\u001b[1;33m,\u001b[0m \u001b[1;33m**\u001b[0m\u001b[0mkwargs\u001b[0m\u001b[1;33m)\u001b[0m\u001b[1;33m\u001b[0m\u001b[0m\n\u001b[0;32m    476\u001b[0m         \u001b[1;32melse\u001b[0m\u001b[1;33m:\u001b[0m\u001b[1;33m\u001b[0m\u001b[0m\n\u001b[1;32m--> 477\u001b[1;33m             \u001b[0mresult\u001b[0m \u001b[1;33m=\u001b[0m \u001b[0mself\u001b[0m\u001b[1;33m.\u001b[0m\u001b[0mforward\u001b[0m\u001b[1;33m(\u001b[0m\u001b[1;33m*\u001b[0m\u001b[0minput\u001b[0m\u001b[1;33m,\u001b[0m \u001b[1;33m**\u001b[0m\u001b[0mkwargs\u001b[0m\u001b[1;33m)\u001b[0m\u001b[1;33m\u001b[0m\u001b[0m\n\u001b[0m\u001b[0;32m    478\u001b[0m         \u001b[1;32mfor\u001b[0m \u001b[0mhook\u001b[0m \u001b[1;32min\u001b[0m \u001b[0mself\u001b[0m\u001b[1;33m.\u001b[0m\u001b[0m_forward_hooks\u001b[0m\u001b[1;33m.\u001b[0m\u001b[0mvalues\u001b[0m\u001b[1;33m(\u001b[0m\u001b[1;33m)\u001b[0m\u001b[1;33m:\u001b[0m\u001b[1;33m\u001b[0m\u001b[0m\n\u001b[0;32m    479\u001b[0m             \u001b[0mhook_result\u001b[0m \u001b[1;33m=\u001b[0m \u001b[0mhook\u001b[0m\u001b[1;33m(\u001b[0m\u001b[0mself\u001b[0m\u001b[1;33m,\u001b[0m \u001b[0minput\u001b[0m\u001b[1;33m,\u001b[0m \u001b[0mresult\u001b[0m\u001b[1;33m)\u001b[0m\u001b[1;33m\u001b[0m\u001b[0m\n",
      "\u001b[1;31mTypeError\u001b[0m: forward() got an unexpected keyword argument 'dim'"
     ]
    }
   ],
   "source": [
    "s(input, dim=0)"
   ]
  },
  {
   "cell_type": "markdown",
   "metadata": {},
   "source": [
    "Have to instantiate Softmax object with dim as a parameter"
   ]
  },
  {
   "cell_type": "code",
   "execution_count": 111,
   "metadata": {},
   "outputs": [
    {
     "data": {
      "text/plain": [
       "tensor([0.4754, 0.5246])"
      ]
     },
     "execution_count": 111,
     "metadata": {},
     "output_type": "execute_result"
    }
   ],
   "source": [
    "s = torch.nn.Softmax(dim=0)\n",
    "s(input)"
   ]
  },
  {
   "cell_type": "code",
   "execution_count": 100,
   "metadata": {},
   "outputs": [
    {
     "data": {
      "text/plain": [
       "(torch.Size([64, 10]),\n",
       " tensor([[1.7173e-01, 2.7401e-02, 3.5016e+03, 2.2684e-06, 4.5525e+02, 2.0518e-01,\n",
       "          1.8035e+03, 1.5575e+00, 5.2676e+03, 1.5160e-01],\n",
       "         [2.6605e-01, 4.4978e+02, 1.7034e-05, 7.7574e-01, 8.9306e+02, 6.4978e+02,\n",
       "          2.6141e+01, 5.4677e-05, 2.2795e+02, 3.9863e+04],\n",
       "         [2.1525e+01, 1.3231e+00, 2.5557e-03, 3.0635e-08, 3.7510e+06, 8.7558e+03,\n",
       "          1.2282e+08, 2.2334e-04, 1.3056e+03, 4.0319e-02],\n",
       "         [1.1829e+00, 4.2110e-03, 2.2063e-01, 2.7705e-06, 2.8487e+02, 2.0386e-03,\n",
       "          2.4586e+06, 2.9571e-07, 2.6312e-03, 8.2609e+03],\n",
       "         [1.4204e-05, 1.0667e+00, 2.1048e-03, 1.0409e-01, 6.3954e+01, 5.4820e+01,\n",
       "          1.2355e+02, 2.4131e-03, 2.9515e+03, 8.8063e+04],\n",
       "         [5.5564e-02, 2.2440e-02, 9.3414e-08, 1.0062e-04, 2.5518e+02, 1.2782e+03,\n",
       "          1.0745e+05, 2.1609e-06, 1.5894e+04, 4.1460e+03],\n",
       "         [1.5987e-04, 8.3360e-02, 6.8709e-04, 1.3722e-03, 1.1685e+06, 1.2005e+01,\n",
       "          7.4790e+02, 7.9256e+01, 6.4086e+00, 2.6979e+03],\n",
       "         [8.1635e-06, 1.4250e-03, 6.0154e-06, 1.7354e-05, 5.1826e+05, 3.6051e+03,\n",
       "          2.3029e+02, 4.5532e-04, 1.4260e+04, 3.4746e+07],\n",
       "         [4.2390e-03, 4.0277e+00, 1.0033e+01, 6.5117e-05, 2.6241e+02, 1.4215e+03,\n",
       "          5.5361e+03, 5.8176e-04, 6.4981e-02, 1.0929e+05],\n",
       "         [2.8778e-02, 6.0529e-02, 7.8599e-03, 4.3083e-01, 6.6389e-01, 4.4880e+01,\n",
       "          1.8290e+07, 3.4888e-06, 2.0832e+02, 8.2616e-02],\n",
       "         [6.2575e-03, 9.7036e-01, 9.0382e+00, 5.7319e-06, 3.0760e-02, 2.4261e+01,\n",
       "          2.7470e+02, 8.4570e-05, 8.0836e+00, 2.4303e+04],\n",
       "         [7.0214e-07, 7.4825e-01, 6.8420e-03, 9.6268e-03, 1.1210e+06, 5.2807e-04,\n",
       "          6.5964e+06, 5.3348e+00, 6.4332e+00, 1.2507e+02],\n",
       "         [1.7308e+00, 1.5832e+03, 7.8002e-02, 5.0951e-01, 1.8148e+01, 1.6785e+00,\n",
       "          8.3795e+04, 7.8210e-08, 4.4949e+01, 5.5264e+02],\n",
       "         [3.0540e-02, 1.0167e-01, 7.2281e-01, 2.5382e-05, 3.3518e+02, 7.7163e-04,\n",
       "          1.9374e+05, 1.1330e-09, 7.8191e+02, 1.0294e+00],\n",
       "         [3.3781e-03, 6.1922e+00, 9.7297e-03, 3.7952e-08, 1.2114e+02, 1.5798e-01,\n",
       "          2.4126e+05, 1.1157e+00, 2.3899e+00, 4.6501e+02],\n",
       "         [2.8970e-04, 8.8038e-04, 1.1048e-03, 6.6399e-02, 7.3724e+00, 1.6849e+01,\n",
       "          1.7306e+00, 1.3937e-05, 1.6563e+01, 7.0011e+00],\n",
       "         [4.6228e+00, 6.2770e+00, 6.8137e-02, 1.2841e-01, 2.6919e-04, 2.7495e+02,\n",
       "          1.1642e+06, 2.7140e-03, 3.4588e-03, 4.5151e+06],\n",
       "         [1.1000e+00, 7.2263e-03, 1.6660e-02, 1.2186e-05, 1.6243e+05, 9.3284e-02,\n",
       "          4.7343e+06, 1.0414e+02, 7.9454e+01, 3.4099e-02],\n",
       "         [7.8181e-02, 1.3555e+00, 7.9153e-04, 3.3425e-04, 1.3465e+06, 2.5536e+00,\n",
       "          5.0355e+05, 6.2581e-06, 5.1940e-02, 3.3201e+07],\n",
       "         [1.1819e-04, 1.3619e+00, 3.6294e-04, 3.9865e-08, 5.7440e+03, 1.4393e-04,\n",
       "          9.2726e+05, 3.4289e-04, 5.4608e-02, 9.3762e+00],\n",
       "         [8.5570e-04, 4.9785e-03, 5.5361e-01, 4.4907e-05, 2.8333e-01, 4.2055e+01,\n",
       "          2.5010e+01, 5.1447e-04, 2.9908e-01, 7.7551e+00],\n",
       "         [2.3513e-02, 1.0601e+01, 6.3744e-02, 3.5871e-04, 2.0469e+04, 1.0176e-01,\n",
       "          1.2491e+06, 1.6755e-01, 1.4330e+03, 2.7865e+02],\n",
       "         [2.1145e-03, 1.1897e+03, 1.0172e-02, 5.2581e+00, 5.9315e+00, 1.3495e+03,\n",
       "          3.5343e+01, 7.9001e-08, 1.4902e+00, 5.1918e+05],\n",
       "         [1.0879e+00, 1.1335e-02, 5.1442e-08, 3.4240e-03, 3.8072e+02, 3.2767e+06,\n",
       "          4.7322e-02, 9.9172e-05, 5.0966e-01, 1.1563e+01],\n",
       "         [2.6044e-02, 6.4535e-02, 3.2725e-05, 5.6011e-01, 1.1822e-02, 4.6680e+05,\n",
       "          2.8799e+03, 4.6504e-08, 6.0942e+05, 6.8268e+04],\n",
       "         [9.8839e+00, 2.1251e+00, 6.2974e-06, 3.2189e-07, 1.6848e+05, 6.8930e+06,\n",
       "          2.1641e+07, 1.2459e-06, 1.0672e+03, 2.5594e-03],\n",
       "         [1.5392e-03, 4.9571e+00, 9.4602e+00, 5.1060e-07, 6.1394e+06, 6.9527e-03,\n",
       "          1.3512e+07, 4.0069e-04, 8.4181e-02, 2.2127e+02],\n",
       "         [3.7086e+01, 9.1032e+00, 1.4039e-02, 8.6234e+01, 2.2551e+05, 9.0095e+00,\n",
       "          7.8098e+04, 1.0706e-04, 7.6232e-02, 3.0430e+01],\n",
       "         [2.6256e+01, 3.8554e-02, 1.6292e-05, 7.5781e-08, 1.3588e+06, 3.5578e+00,\n",
       "          8.8253e+03, 1.2222e-03, 2.7306e+00, 3.3581e+00],\n",
       "         [2.8692e-03, 1.6400e+01, 4.9216e-03, 1.7382e-02, 2.6949e+00, 6.7170e-04,\n",
       "          2.9535e+04, 2.2850e-05, 1.5551e-03, 4.7422e+04],\n",
       "         [9.0953e-05, 1.7058e+00, 7.4040e-04, 2.1545e-02, 5.1718e-01, 6.8269e+05,\n",
       "          1.1404e+01, 2.5062e-07, 4.1141e+00, 1.0413e+03],\n",
       "         [1.0523e-03, 1.3115e+01, 9.9654e-02, 3.6899e-04, 3.0637e+09, 1.6892e-03,\n",
       "          2.9147e+02, 8.9308e-06, 1.3490e-03, 6.2717e+04],\n",
       "         [4.9182e-01, 3.8104e+00, 1.8390e-07, 6.8137e-07, 3.3300e+01, 1.3488e+03,\n",
       "          2.2259e+02, 3.5887e-05, 4.5553e+02, 2.9706e-03],\n",
       "         [1.3850e-03, 1.0570e-03, 2.3227e-01, 1.1676e-03, 2.2904e+05, 6.2918e+00,\n",
       "          4.4843e+02, 1.0754e-05, 7.1313e+02, 8.5591e+04],\n",
       "         [1.3299e-03, 1.0342e-01, 6.7408e-03, 9.5107e-09, 3.4892e+06, 1.0044e+00,\n",
       "          1.0702e+07, 1.2582e+01, 6.2772e-01, 1.5599e+00],\n",
       "         [1.8137e-02, 1.4545e+01, 1.1431e-07, 5.4267e-02, 8.5803e+01, 5.3659e+03,\n",
       "          1.4816e+02, 2.1708e-06, 7.5914e-03, 5.7265e+03],\n",
       "         [2.4997e-03, 2.5496e-02, 1.4511e+03, 9.8612e-05, 5.8360e+02, 6.4791e+00,\n",
       "          1.4516e+03, 1.4089e-02, 9.1100e+04, 1.8336e-04],\n",
       "         [1.8819e-02, 6.2669e+00, 1.1125e-04, 4.5697e-02, 4.4942e+02, 1.3809e-02,\n",
       "          7.8648e+02, 9.7991e-06, 2.6645e+02, 2.6923e+02],\n",
       "         [3.3799e-03, 3.6269e+01, 4.5136e-02, 1.6773e-02, 1.8534e+03, 4.4105e+02,\n",
       "          3.2843e+03, 2.1683e-06, 3.8129e+00, 7.3652e+02],\n",
       "         [8.4353e-05, 9.3772e+00, 1.1457e-02, 1.3988e+01, 5.3809e+01, 8.3274e+06,\n",
       "          3.6484e+01, 1.6074e-04, 4.5152e+01, 1.6850e+05],\n",
       "         [5.5147e-02, 5.2471e+00, 1.0933e-02, 9.2217e-04, 6.1020e+06, 4.3181e+01,\n",
       "          2.3015e-01, 2.7489e-05, 7.1174e+01, 3.5522e+02],\n",
       "         [3.0062e-02, 7.2254e-03, 9.8410e-06, 5.8381e-02, 7.8384e+02, 1.5033e+07,\n",
       "          4.7806e+02, 2.8233e+01, 2.2696e+03, 1.3500e+00],\n",
       "         [2.7605e-01, 2.6262e+04, 4.2665e-05, 2.0443e-04, 5.3661e+03, 3.1225e+01,\n",
       "          4.3026e+01, 6.9528e-07, 2.2495e-02, 9.2945e+05],\n",
       "         [5.5751e+00, 6.5499e-01, 1.0803e+00, 3.4460e-04, 2.9493e+06, 4.2411e+01,\n",
       "          1.9686e+03, 1.7924e-07, 7.5564e-02, 1.1846e+04],\n",
       "         [6.8256e-02, 5.8471e+03, 1.5296e-01, 1.5250e-04, 1.3372e+05, 1.5520e+00,\n",
       "          3.3429e+04, 9.7225e-06, 2.2361e-02, 2.4233e+05],\n",
       "         [4.3647e-06, 7.0307e-01, 3.8553e-02, 5.4964e-05, 1.6029e+00, 8.3978e-01,\n",
       "          1.1376e+06, 5.7166e-06, 7.3819e-03, 1.8028e+01],\n",
       "         [6.9819e+00, 1.0907e+01, 5.5090e-01, 7.6634e-08, 1.6643e+06, 1.7224e+01,\n",
       "          1.2028e+06, 1.3158e-06, 8.4181e+04, 1.4955e-03],\n",
       "         [1.6977e-01, 5.3341e+02, 1.9661e-04, 1.6614e+00, 1.5019e+01, 1.4316e+03,\n",
       "          2.0970e+03, 1.6605e-02, 9.7909e+04, 4.5889e+03],\n",
       "         [2.6841e+00, 2.7263e+04, 1.5869e+01, 2.0032e-05, 3.6954e+04, 9.8985e-04,\n",
       "          9.6775e+06, 6.8172e-05, 6.4781e-05, 4.5271e+00],\n",
       "         [7.4204e+00, 3.7547e+00, 7.2991e-03, 9.9955e-06, 8.8591e-01, 1.1924e+03,\n",
       "          5.7352e+00, 2.4812e-05, 2.3462e+00, 1.9052e+05],\n",
       "         [7.2429e-02, 7.0475e+00, 5.3817e-02, 1.8252e-04, 1.7895e-01, 8.4279e-01,\n",
       "          1.2141e+04, 1.2789e-06, 3.1338e+04, 1.2661e+02],\n",
       "         [1.3349e+00, 1.5618e-03, 3.7686e-04, 3.3434e-05, 3.6152e+01, 9.0914e-01,\n",
       "          4.2770e+00, 1.5522e-04, 6.1183e+03, 1.1396e+04],\n",
       "         [9.0172e-04, 4.3293e+01, 2.5193e-02, 2.9186e-02, 7.8810e+02, 2.0845e-01,\n",
       "          1.9042e+03, 3.0995e-03, 3.5810e+02, 3.4755e+05],\n",
       "         [3.2485e-01, 2.7015e+01, 4.2726e-03, 4.0746e-01, 4.2951e+00, 4.4770e-03,\n",
       "          2.8222e+03, 4.5757e-05, 9.8924e-01, 3.0823e+04],\n",
       "         [4.7664e-02, 1.2579e+00, 9.9733e-05, 1.5827e-03, 4.3350e+00, 2.0071e-03,\n",
       "          4.2815e+03, 2.2568e-04, 6.7200e-04, 2.5288e+03],\n",
       "         [8.6477e-03, 9.6501e-01, 1.2047e-03, 3.1345e-09, 1.1284e+04, 7.0334e+02,\n",
       "          9.6912e+01, 4.9429e-08, 4.1756e+05, 2.2213e-02],\n",
       "         [2.1402e-04, 9.8268e-01, 6.9746e-04, 4.6644e-01, 7.6367e+01, 3.0424e+02,\n",
       "          5.4917e-01, 1.9201e-02, 1.7366e+01, 1.9706e+01],\n",
       "         [5.6818e-06, 2.8425e-07, 8.3478e-03, 6.6023e-04, 2.9479e-01, 5.9138e+02,\n",
       "          7.2420e+02, 4.4931e-07, 6.7697e+06, 1.6632e+02],\n",
       "         [2.3123e-04, 1.3775e-01, 1.9113e-06, 3.2200e-03, 3.9932e+00, 2.2204e+00,\n",
       "          7.0610e+00, 1.9376e-05, 3.3055e+00, 1.0234e+05],\n",
       "         [4.0129e-04, 1.4321e+02, 3.0395e+00, 4.2916e-04, 6.5115e+02, 5.2608e-01,\n",
       "          1.2582e+07, 1.0798e-04, 5.4267e-01, 5.8525e+03],\n",
       "         [1.7589e-05, 9.1367e+00, 1.1503e-04, 2.1162e-06, 1.2408e+06, 3.4342e+02,\n",
       "          7.3310e+04, 1.4717e-04, 1.8465e+01, 1.9717e+01],\n",
       "         [3.4650e-03, 7.2746e-01, 6.5445e-03, 1.3299e-01, 8.1057e-04, 2.1231e+05,\n",
       "          9.5650e+02, 1.3504e-07, 1.2918e+03, 1.2319e-01],\n",
       "         [4.1432e-02, 1.1733e-03, 1.1763e+02, 1.4654e-08, 1.7673e+05, 3.3180e+00,\n",
       "          6.5079e+03, 1.6459e-03, 5.6252e-01, 2.3466e+02],\n",
       "         [6.0220e+00, 2.5935e+01, 3.5099e-01, 3.1525e-06, 4.9865e+06, 5.6560e+00,\n",
       "          2.4745e+06, 2.5439e-07, 7.8998e-01, 1.4082e+09]]))"
      ]
     },
     "execution_count": 100,
     "metadata": {},
     "output_type": "execute_result"
    }
   ],
   "source": [
    "torch.exp(out).shape, torch.exp(out)"
   ]
  },
  {
   "cell_type": "code",
   "execution_count": 116,
   "metadata": {},
   "outputs": [
    {
     "data": {
      "text/plain": [
       "(tensor(11030.1484), tensor(42110.5781), tensor(126582416.))"
      ]
     },
     "execution_count": 116,
     "metadata": {},
     "output_type": "execute_result"
    }
   ],
   "source": [
    "torch.exp(out)[0].sum(), torch.exp(out)[1].sum(), torch.exp(out)[2].sum()"
   ]
  },
  {
   "cell_type": "code",
   "execution_count": 102,
   "metadata": {},
   "outputs": [
    {
     "data": {
      "text/plain": [
       "(torch.Size([64]),\n",
       " tensor([1.1030e+04, 4.2111e+04, 1.2658e+08, 2.4671e+06, 9.1258e+04, 1.2903e+05,\n",
       "         1.1721e+06, 3.5282e+07, 1.1652e+05, 1.8291e+07, 2.4620e+04, 7.7176e+06,\n",
       "         8.5998e+04, 1.9486e+05, 2.4186e+05, 4.9586e+01, 5.6796e+06, 4.8969e+06,\n",
       "         3.5051e+07, 9.3302e+05, 7.5963e+01, 1.2712e+06, 5.2177e+05, 3.2771e+06,\n",
       "         1.1474e+06, 2.8703e+07, 1.9651e+07, 3.0378e+05, 1.3677e+06, 7.6976e+04,\n",
       "         6.8375e+05, 3.0637e+09, 2.0645e+03, 3.1580e+05, 1.4191e+07, 1.1341e+04,\n",
       "         9.4593e+04, 1.7779e+03, 6.3554e+03, 8.4960e+06, 6.1024e+06, 1.5036e+07,\n",
       "         9.6115e+05, 2.9631e+06, 4.1532e+05, 1.1376e+06, 2.9512e+06, 1.0658e+05,\n",
       "         9.7417e+06, 1.9173e+05, 4.3613e+04, 1.7556e+04, 3.5064e+05, 3.3678e+04,\n",
       "         6.8159e+03, 4.2965e+05, 4.1970e+02, 6.7712e+06, 1.0236e+05, 1.2588e+07,\n",
       "         1.3145e+06, 2.1456e+05, 1.8359e+05, 1.4156e+09]))"
      ]
     },
     "execution_count": 102,
     "metadata": {},
     "output_type": "execute_result"
    }
   ],
   "source": [
    "torch.sum(torch.exp(out), dim=1).shape, torch.sum(torch.exp(out), dim=1)"
   ]
  },
  {
   "cell_type": "code",
   "execution_count": 117,
   "metadata": {},
   "outputs": [
    {
     "name": "stdout",
     "output_type": "stream",
     "text": [
      "torch.Size([64, 1])\n",
      "tensor([[1.1030e+04],\n",
      "        [4.2111e+04],\n",
      "        [1.2658e+08],\n",
      "        [2.4671e+06],\n",
      "        [9.1258e+04],\n",
      "        [1.2903e+05],\n",
      "        [1.1721e+06],\n",
      "        [3.5282e+07],\n",
      "        [1.1652e+05],\n",
      "        [1.8291e+07],\n",
      "        [2.4620e+04],\n",
      "        [7.7176e+06],\n",
      "        [8.5998e+04],\n",
      "        [1.9486e+05],\n",
      "        [2.4186e+05],\n",
      "        [4.9586e+01],\n",
      "        [5.6796e+06],\n",
      "        [4.8969e+06],\n",
      "        [3.5051e+07],\n",
      "        [9.3302e+05],\n",
      "        [7.5963e+01],\n",
      "        [1.2712e+06],\n",
      "        [5.2177e+05],\n",
      "        [3.2771e+06],\n",
      "        [1.1474e+06],\n",
      "        [2.8703e+07],\n",
      "        [1.9651e+07],\n",
      "        [3.0378e+05],\n",
      "        [1.3677e+06],\n",
      "        [7.6976e+04],\n",
      "        [6.8375e+05],\n",
      "        [3.0637e+09],\n",
      "        [2.0645e+03],\n",
      "        [3.1580e+05],\n",
      "        [1.4191e+07],\n",
      "        [1.1341e+04],\n",
      "        [9.4593e+04],\n",
      "        [1.7779e+03],\n",
      "        [6.3554e+03],\n",
      "        [8.4960e+06],\n",
      "        [6.1024e+06],\n",
      "        [1.5036e+07],\n",
      "        [9.6115e+05],\n",
      "        [2.9631e+06],\n",
      "        [4.1532e+05],\n",
      "        [1.1376e+06],\n",
      "        [2.9512e+06],\n",
      "        [1.0658e+05],\n",
      "        [9.7417e+06],\n",
      "        [1.9173e+05],\n",
      "        [4.3613e+04],\n",
      "        [1.7556e+04],\n",
      "        [3.5064e+05],\n",
      "        [3.3678e+04],\n",
      "        [6.8159e+03],\n",
      "        [4.2965e+05],\n",
      "        [4.1970e+02],\n",
      "        [6.7712e+06],\n",
      "        [1.0236e+05],\n",
      "        [1.2588e+07],\n",
      "        [1.3145e+06],\n",
      "        [2.1456e+05],\n",
      "        [1.8359e+05],\n",
      "        [1.4156e+09]])\n"
     ]
    }
   ],
   "source": [
    "print(torch.sum(torch.exp(out), dim=1).view(-1, 1).shape)\n",
    "print(torch.sum(torch.exp(out), dim=1).view(-1, 1))"
   ]
  },
  {
   "cell_type": "code",
   "execution_count": 118,
   "metadata": {},
   "outputs": [],
   "source": [
    "probtest = torch.exp(out) / torch.sum(torch.exp(out), dim=1).view(-1, 1)"
   ]
  },
  {
   "cell_type": "code",
   "execution_count": 119,
   "metadata": {},
   "outputs": [
    {
     "name": "stdout",
     "output_type": "stream",
     "text": [
      "torch.Size([64, 10])\n",
      "\n",
      "tensor([1.0000, 1.0000, 1.0000, 1.0000, 1.0000, 1.0000, 1.0000, 1.0000, 1.0000,\n",
      "        1.0000, 1.0000, 1.0000, 1.0000, 1.0000, 1.0000, 1.0000, 1.0000, 1.0000,\n",
      "        1.0000, 1.0000, 1.0000, 1.0000, 1.0000, 1.0000, 1.0000, 1.0000, 1.0000,\n",
      "        1.0000, 1.0000, 1.0000, 1.0000, 1.0000, 1.0000, 1.0000, 1.0000, 1.0000,\n",
      "        1.0000, 1.0000, 1.0000, 1.0000, 1.0000, 1.0000, 1.0000, 1.0000, 1.0000,\n",
      "        1.0000, 1.0000, 1.0000, 1.0000, 1.0000, 1.0000, 1.0000, 1.0000, 1.0000,\n",
      "        1.0000, 1.0000, 1.0000, 1.0000, 1.0000, 1.0000, 1.0000, 1.0000, 1.0000,\n",
      "        1.0000])\n"
     ]
    }
   ],
   "source": [
    "print(probtest.shape)\n",
    "print()\n",
    "print(probtest.sum(dim=1))"
   ]
  },
  {
   "cell_type": "code",
   "execution_count": 98,
   "metadata": {},
   "outputs": [
    {
     "name": "stdout",
     "output_type": "stream",
     "text": [
      "torch.Size([64, 10])\n",
      "\n",
      "tensor([1.0000, 1.0000, 1.0000, 1.0000, 1.0000, 1.0000, 1.0000, 1.0000, 1.0000,\n",
      "        1.0000, 1.0000, 1.0000, 1.0000, 1.0000, 1.0000, 1.0000, 1.0000, 1.0000,\n",
      "        1.0000, 1.0000, 1.0000, 1.0000, 1.0000, 1.0000, 1.0000, 1.0000, 1.0000,\n",
      "        1.0000, 1.0000, 1.0000, 1.0000, 1.0000, 1.0000, 1.0000, 1.0000, 1.0000,\n",
      "        1.0000, 1.0000, 1.0000, 1.0000, 1.0000, 1.0000, 1.0000, 1.0000, 1.0000,\n",
      "        1.0000, 1.0000, 1.0000, 1.0000, 1.0000, 1.0000, 1.0000, 1.0000, 1.0000,\n",
      "        1.0000, 1.0000, 1.0000, 1.0000, 1.0000, 1.0000, 1.0000, 1.0000, 1.0000,\n",
      "        1.0000])\n"
     ]
    }
   ],
   "source": [
    "def softmax(x):\n",
    "    return torch.exp(x)/torch.sum(torch.exp(x), dim=1).view(-1, 1)\n",
    "\n",
    "# Here, out should be the output of the network in the previous excercise with shape (64,10)\n",
    "probabilities = softmax(out)\n",
    "\n",
    "# Does it have the right shape? Should be (64, 10)\n",
    "print(probabilities.shape)\n",
    "print()\n",
    "# Does it sum to 1?\n",
    "print(probabilities.sum(dim=1))"
   ]
  },
  {
   "cell_type": "code",
   "execution_count": 106,
   "metadata": {},
   "outputs": [
    {
     "name": "stdout",
     "output_type": "stream",
     "text": [
      "torch.Size([64, 10])\n",
      "\n",
      "tensor([1.0000, 1.0000, 1.0000, 1.0000, 1.0000, 1.0000, 1.0000, 1.0000, 1.0000,\n",
      "        1.0000, 1.0000, 1.0000, 1.0000, 1.0000, 1.0000, 1.0000, 1.0000, 1.0000,\n",
      "        1.0000, 1.0000, 1.0000, 1.0000, 1.0000, 1.0000, 1.0000, 1.0000, 1.0000,\n",
      "        1.0000, 1.0000, 1.0000, 1.0000, 1.0000, 1.0000, 1.0000, 1.0000, 1.0000,\n",
      "        1.0000, 1.0000, 1.0000, 1.0000, 1.0000, 1.0000, 1.0000, 1.0000, 1.0000,\n",
      "        1.0000, 1.0000, 1.0000, 1.0000, 1.0000, 1.0000, 1.0000, 1.0000, 1.0000,\n",
      "        1.0000, 1.0000, 1.0000, 1.0000, 1.0000, 1.0000, 1.0000, 1.0000, 1.0000,\n",
      "        1.0000])\n"
     ]
    }
   ],
   "source": [
    "prob1 = torch.nn.functional.softmax(out, dim=1)\n",
    "\n",
    "print(prob1.shape)\n",
    "print()\n",
    "print(prob1.sum(dim=1))"
   ]
  },
  {
   "cell_type": "code",
   "execution_count": 112,
   "metadata": {},
   "outputs": [
    {
     "name": "stdout",
     "output_type": "stream",
     "text": [
      "torch.Size([64, 10])\n",
      "\n",
      "tensor([1.0000, 1.0000, 1.0000, 1.0000, 1.0000, 1.0000, 1.0000, 1.0000, 1.0000,\n",
      "        1.0000, 1.0000, 1.0000, 1.0000, 1.0000, 1.0000, 1.0000, 1.0000, 1.0000,\n",
      "        1.0000, 1.0000, 1.0000, 1.0000, 1.0000, 1.0000, 1.0000, 1.0000, 1.0000,\n",
      "        1.0000, 1.0000, 1.0000, 1.0000, 1.0000, 1.0000, 1.0000, 1.0000, 1.0000,\n",
      "        1.0000, 1.0000, 1.0000, 1.0000, 1.0000, 1.0000, 1.0000, 1.0000, 1.0000,\n",
      "        1.0000, 1.0000, 1.0000, 1.0000, 1.0000, 1.0000, 1.0000, 1.0000, 1.0000,\n",
      "        1.0000, 1.0000, 1.0000, 1.0000, 1.0000, 1.0000, 1.0000, 1.0000, 1.0000,\n",
      "        1.0000])\n"
     ]
    }
   ],
   "source": [
    "s = torch.nn.Softmax(dim=1)\n",
    "\n",
    "prob2 = s(out)\n",
    "\n",
    "print(prob2.shape)\n",
    "print()\n",
    "print(prob2.sum(dim=1))"
   ]
  },
  {
   "cell_type": "markdown",
   "metadata": {},
   "source": [
    "## Building networks with PyTorch\n",
    "\n",
    "PyTorch provides a module `nn` that makes building networks much simpler. Here I'll show you how to build the same one as above with 784 inputs, 256 hidden units, 10 output units and a softmax output."
   ]
  },
  {
   "cell_type": "code",
   "execution_count": 120,
   "metadata": {},
   "outputs": [],
   "source": [
    "from torch import nn"
   ]
  },
  {
   "cell_type": "code",
   "execution_count": 121,
   "metadata": {},
   "outputs": [],
   "source": [
    "class Network(nn.Module):\n",
    "    def __init__(self):\n",
    "        super().__init__()\n",
    "        \n",
    "        # Inputs to hidden layer linear transformation\n",
    "        self.hidden = nn.Linear(784, 256)\n",
    "        # Output layer, 10 units - one for each digit\n",
    "        self.output = nn.Linear(256, 10)\n",
    "        \n",
    "        # Define sigmoid activation and softmax output \n",
    "        self.sigmoid = nn.Sigmoid()\n",
    "        self.softmax = nn.Softmax(dim=1)\n",
    "        \n",
    "    def forward(self, x):\n",
    "        # Pass the input tensor through each of our operations\n",
    "        x = self.hidden(x)\n",
    "        x = self.sigmoid(x)\n",
    "        x = self.output(x)\n",
    "        x = self.softmax(x)\n",
    "        \n",
    "        return x"
   ]
  },
  {
   "cell_type": "markdown",
   "metadata": {},
   "source": [
    "Let's go through this bit by bit.\n",
    "\n",
    "```python\n",
    "class Network(nn.Module):\n",
    "```\n",
    "\n",
    "Here we're inheriting from `nn.Module`. Combined with `super().__init__()` this creates a class that tracks the architecture and provides a lot of useful methods and attributes. It is mandatory to inherit from `nn.Module` when you're creating a class for your network. The name of the class itself can be anything.\n",
    "\n",
    "```python\n",
    "self.hidden = nn.Linear(784, 256)\n",
    "```\n",
    "\n",
    "This line creates a module for a linear transformation, $x\\mathbf{W} + b$, with 784 inputs and 256 outputs and assigns it to `self.hidden`. The module automatically creates the weight and bias tensors which we'll use in the `forward` method. You can access the weight and bias tensors once the network once it's created with `net.hidden.weight` and `net.hidden.bias`.\n",
    "\n",
    "```python\n",
    "self.output = nn.Linear(256, 10)\n",
    "```\n",
    "\n",
    "Similarly, this creates another linear transformation with 256 inputs and 10 outputs.\n",
    "\n",
    "```python\n",
    "self.sigmoid = nn.Sigmoid()\n",
    "self.softmax = nn.Softmax(dim=1)\n",
    "```\n",
    "\n",
    "Here I defined operations for the sigmoid activation and softmax output. Setting `dim=1` in `nn.Softmax(dim=1)` calculates softmax across the columns.\n",
    "\n",
    "```python\n",
    "def forward(self, x):\n",
    "```\n",
    "\n",
    "PyTorch networks created with `nn.Module` must have a `forward` method defined. It takes in a tensor `x` and passes it through the operations you defined in the `__init__` method.\n",
    "\n",
    "```python\n",
    "x = self.hidden(x)\n",
    "x = self.sigmoid(x)\n",
    "x = self.output(x)\n",
    "x = self.softmax(x)\n",
    "```\n",
    "\n",
    "Here the input tensor `x` is passed through each operation and reassigned to `x`. We can see that the input tensor goes through the hidden layer, then a sigmoid function, then the output layer, and finally the softmax function. It doesn't matter what you name the variables here, as long as the inputs and outputs of the operations match the network architecture you want to build. The order in which you define things in the `__init__` method doesn't matter, but you'll need to sequence the operations correctly in the `forward` method.\n",
    "\n",
    "Now we can create a `Network` object."
   ]
  },
  {
   "cell_type": "code",
   "execution_count": null,
   "metadata": {},
   "outputs": [],
   "source": [
    "# Create the network and look at it's text representation\n",
    "model = Network()\n",
    "model"
   ]
  },
  {
   "cell_type": "markdown",
   "metadata": {},
   "source": [
    "You can define the network somewhat more concisely and clearly using the `torch.nn.functional` module. This is the most common way you'll see networks defined as many operations are simple element-wise functions. We normally import this module as `F`, `import torch.nn.functional as F`."
   ]
  },
  {
   "cell_type": "code",
   "execution_count": null,
   "metadata": {},
   "outputs": [],
   "source": [
    "import torch.nn.functional as F\n",
    "\n",
    "class Network(nn.Module):\n",
    "    def __init__(self):\n",
    "        super().__init__()\n",
    "        # Inputs to hidden layer linear transformation\n",
    "        self.hidden = nn.Linear(784, 256)\n",
    "        # Output layer, 10 units - one for each digit\n",
    "        self.output = nn.Linear(256, 10)\n",
    "        \n",
    "    def forward(self, x):\n",
    "        # Hidden layer with sigmoid activation\n",
    "        x = F.sigmoid(self.hidden(x))\n",
    "        # Output layer with softmax activation\n",
    "        x = F.softmax(self.output(x), dim=1)\n",
    "        \n",
    "        return x"
   ]
  },
  {
   "cell_type": "markdown",
   "metadata": {},
   "source": [
    "### Activation functions\n",
    "\n",
    "So far we've only been looking at the softmax activation, but in general any function can be used as an activation function. The only requirement is that for a network to approximate a non-linear function, the activation functions must be non-linear. Here are a few more examples of common activation functions: Tanh (hyperbolic tangent), and ReLU (rectified linear unit).\n",
    "\n",
    "<img src=\"assets/activation.png\" width=700px>\n",
    "\n",
    "In practice, the ReLU function is used almost exclusively as the activation function for hidden layers."
   ]
  },
  {
   "cell_type": "markdown",
   "metadata": {},
   "source": [
    "### Your Turn to Build a Network\n",
    "\n",
    "<img src=\"assets/mlp_mnist.png\" width=600px>\n",
    "\n",
    "> **Exercise:** Create a network with 784 input units, a hidden layer with 128 units and a ReLU activation, then a hidden layer with 64 units and a ReLU activation, and finally an output layer with a softmax activation as shown above. You can use a ReLU activation with the `nn.ReLU` module or `F.relu` function."
   ]
  },
  {
   "cell_type": "code",
   "execution_count": 124,
   "metadata": {
    "scrolled": true
   },
   "outputs": [],
   "source": [
    "## Your solution here\n",
    "import torch.nn.functional as F\n",
    "\n",
    "class MNIST_Classifier(nn.Module):\n",
    "    def __init__(self):\n",
    "        super().__init__()\n",
    "        \n",
    "        # Inputs to hidden layer linear transformation\n",
    "        self.hidden1 = nn.Linear(784, 128)\n",
    "        self.hidden2 = nn.Linear(128, 64)\n",
    "        \n",
    "        # Output layer, 10 units - one for each digit\n",
    "        self.output = nn.Linear(64, 10)\n",
    "        \n",
    "    def forward(self, x):\n",
    "        # Hidden layer with sigmoid activation\n",
    "        x = F.relu(self.hidden1(x))\n",
    "        x = F.relu(self.hidden2(x))    \n",
    "        \n",
    "        # Output layer with softmax activation\n",
    "        x = F.softmax(self.output(x), dim=1)\n",
    "        \n",
    "        return x"
   ]
  },
  {
   "cell_type": "code",
   "execution_count": 131,
   "metadata": {},
   "outputs": [
    {
     "name": "stdout",
     "output_type": "stream",
     "text": [
      "MNIST_Classifier(\n",
      "  (hidden1): Linear(in_features=784, out_features=128, bias=True)\n",
      "  (hidden2): Linear(in_features=128, out_features=64, bias=True)\n",
      "  (output): Linear(in_features=64, out_features=10, bias=True)\n",
      ")\n"
     ]
    }
   ],
   "source": [
    "model = MNIST_Classifier()\n",
    "print(model)"
   ]
  },
  {
   "cell_type": "code",
   "execution_count": 140,
   "metadata": {},
   "outputs": [
    {
     "name": "stdout",
     "output_type": "stream",
     "text": [
      "----------------------------------------------------------------\n",
      "        Layer (type)               Output Shape         Param #\n",
      "================================================================\n",
      "            Linear-1           [-1, 64, 1, 128]         100,480\n",
      "            Linear-2            [-1, 64, 1, 64]           8,256\n",
      "            Linear-3            [-1, 64, 1, 10]             650\n",
      "================================================================\n",
      "Total params: 109,386\n",
      "Trainable params: 109,386\n",
      "Non-trainable params: 0\n",
      "----------------------------------------------------------------\n",
      "Input size (MB): 0.19\n",
      "Forward/backward pass size (MB): 0.10\n",
      "Params size (MB): 0.42\n",
      "Estimated Total Size (MB): 0.71\n",
      "----------------------------------------------------------------\n"
     ]
    }
   ],
   "source": [
    "from torchsummary import summary\n",
    "summary(model, input_size=(64, 1, 784))"
   ]
  },
  {
   "cell_type": "code",
   "execution_count": 136,
   "metadata": {},
   "outputs": [
    {
     "name": "stdout",
     "output_type": "stream",
     "text": [
      "Parameter containing:\n",
      "tensor([[-0.0138, -0.0140, -0.0163,  ..., -0.0315,  0.0341, -0.0116],\n",
      "        [ 0.0027,  0.0292,  0.0157,  ..., -0.0356, -0.0225, -0.0297],\n",
      "        [ 0.0135, -0.0213,  0.0290,  ...,  0.0041, -0.0307,  0.0228],\n",
      "        ...,\n",
      "        [ 0.0070, -0.0198, -0.0177,  ...,  0.0031, -0.0127,  0.0123],\n",
      "        [-0.0190,  0.0281,  0.0176,  ..., -0.0060, -0.0348,  0.0308],\n",
      "        [ 0.0203, -0.0222, -0.0162,  ..., -0.0242, -0.0241, -0.0235]],\n",
      "       requires_grad=True)\n"
     ]
    }
   ],
   "source": [
    "print(model.hidden1.weight)"
   ]
  },
  {
   "cell_type": "code",
   "execution_count": 141,
   "metadata": {},
   "outputs": [
    {
     "name": "stdout",
     "output_type": "stream",
     "text": [
      "Parameter containing:\n",
      "tensor([ 0.0021,  0.0048,  0.0069,  0.0128, -0.0148,  0.0293,  0.0107,  0.0128,\n",
      "        -0.0101, -0.0300,  0.0187, -0.0155,  0.0107,  0.0028,  0.0121, -0.0138,\n",
      "        -0.0233,  0.0346,  0.0122, -0.0207,  0.0293, -0.0234, -0.0337,  0.0347,\n",
      "         0.0280,  0.0254, -0.0144,  0.0224, -0.0008,  0.0128, -0.0121, -0.0197,\n",
      "         0.0097,  0.0052, -0.0328, -0.0345,  0.0171, -0.0094,  0.0058,  0.0160,\n",
      "         0.0353,  0.0287,  0.0275,  0.0128, -0.0063,  0.0287, -0.0028,  0.0127,\n",
      "        -0.0318, -0.0325, -0.0288, -0.0083, -0.0328, -0.0149, -0.0352, -0.0076,\n",
      "        -0.0103, -0.0240,  0.0297, -0.0100, -0.0071,  0.0149,  0.0272,  0.0074,\n",
      "        -0.0014, -0.0030,  0.0108,  0.0199, -0.0112,  0.0054,  0.0278, -0.0341,\n",
      "         0.0181, -0.0195,  0.0350,  0.0085, -0.0095,  0.0026, -0.0013,  0.0139,\n",
      "         0.0064, -0.0269,  0.0211,  0.0049,  0.0098,  0.0250, -0.0038,  0.0140,\n",
      "         0.0070,  0.0336, -0.0346, -0.0260, -0.0195,  0.0004,  0.0196,  0.0126,\n",
      "         0.0120, -0.0297, -0.0030, -0.0045, -0.0166,  0.0005,  0.0234,  0.0344,\n",
      "         0.0254,  0.0115,  0.0108,  0.0251, -0.0137,  0.0106, -0.0162,  0.0135,\n",
      "         0.0309,  0.0100,  0.0264, -0.0139, -0.0216, -0.0084, -0.0311,  0.0287,\n",
      "        -0.0100,  0.0071,  0.0150,  0.0313,  0.0170,  0.0002,  0.0290, -0.0347],\n",
      "       requires_grad=True)\n"
     ]
    }
   ],
   "source": [
    "print(model.hidden1.bias)"
   ]
  },
  {
   "cell_type": "code",
   "execution_count": 142,
   "metadata": {},
   "outputs": [
    {
     "data": {
      "text/plain": [
       "Network(\n",
       "  (fc1): Linear(in_features=784, out_features=128, bias=True)\n",
       "  (fc2): Linear(in_features=128, out_features=64, bias=True)\n",
       "  (fc3): Linear(in_features=64, out_features=10, bias=True)\n",
       ")"
      ]
     },
     "execution_count": 142,
     "metadata": {},
     "output_type": "execute_result"
    }
   ],
   "source": [
    "## Solution\n",
    "import torch.nn.functional as F\n",
    "\n",
    "class Network(nn.Module):\n",
    "    def __init__(self):\n",
    "        super().__init__()\n",
    "        # Defining the layers, 128, 64, 10 units each\n",
    "        self.fc1 = nn.Linear(784, 128)\n",
    "        self.fc2 = nn.Linear(128, 64)\n",
    "        # Output layer, 10 units - one for each digit\n",
    "        self.fc3 = nn.Linear(64, 10)\n",
    "        \n",
    "    def forward(self, x):\n",
    "        ''' Forward pass through the network, returns the output logits '''\n",
    "        \n",
    "        x = self.fc1(x)\n",
    "        x = F.relu(x)\n",
    "        x = self.fc2(x)\n",
    "        x = F.relu(x)\n",
    "        x = self.fc3(x)\n",
    "        x = F.softmax(x, dim=1)\n",
    "        \n",
    "        return x\n",
    "\n",
    "model = Network()\n",
    "model"
   ]
  },
  {
   "cell_type": "markdown",
   "metadata": {},
   "source": [
    "### Initializing weights and biases\n",
    "\n",
    "The weights and such are automatically initialized for you, but it's possible to customize how they are initialized. The weights and biases are tensors attached to the layer you defined, you can get them with `model.fc1.weight` for instance."
   ]
  },
  {
   "cell_type": "code",
   "execution_count": 143,
   "metadata": {},
   "outputs": [
    {
     "name": "stdout",
     "output_type": "stream",
     "text": [
      "Parameter containing:\n",
      "tensor([[-0.0021, -0.0038, -0.0029,  ...,  0.0111, -0.0287, -0.0216],\n",
      "        [ 0.0300,  0.0225, -0.0021,  ...,  0.0144, -0.0273,  0.0277],\n",
      "        [ 0.0302,  0.0052,  0.0014,  ..., -0.0187,  0.0306, -0.0134],\n",
      "        ...,\n",
      "        [-0.0060,  0.0238, -0.0058,  ...,  0.0079, -0.0238, -0.0351],\n",
      "        [ 0.0045, -0.0248, -0.0213,  ..., -0.0051,  0.0346, -0.0328],\n",
      "        [ 0.0331,  0.0264,  0.0209,  ...,  0.0253,  0.0022,  0.0202]],\n",
      "       requires_grad=True)\n",
      "Parameter containing:\n",
      "tensor([ 0.0295,  0.0188, -0.0040,  0.0129, -0.0220,  0.0037, -0.0273, -0.0256,\n",
      "        -0.0063,  0.0130,  0.0274, -0.0008,  0.0319,  0.0188, -0.0185,  0.0253,\n",
      "        -0.0047, -0.0253,  0.0007, -0.0127,  0.0276,  0.0184,  0.0090, -0.0140,\n",
      "        -0.0187,  0.0124, -0.0137, -0.0346, -0.0259, -0.0134,  0.0084,  0.0262,\n",
      "        -0.0349,  0.0129, -0.0298, -0.0328, -0.0273, -0.0200, -0.0310,  0.0084,\n",
      "        -0.0192,  0.0206,  0.0052,  0.0119,  0.0244, -0.0062, -0.0210,  0.0302,\n",
      "        -0.0020,  0.0086,  0.0134,  0.0326,  0.0225,  0.0239,  0.0331, -0.0036,\n",
      "         0.0158, -0.0281, -0.0135, -0.0206,  0.0331,  0.0043,  0.0134, -0.0194,\n",
      "         0.0003,  0.0089,  0.0299, -0.0014,  0.0215,  0.0006, -0.0018, -0.0206,\n",
      "         0.0056,  0.0034, -0.0175, -0.0154, -0.0078, -0.0126,  0.0212, -0.0167,\n",
      "         0.0250,  0.0168, -0.0056,  0.0351,  0.0251,  0.0038, -0.0205,  0.0212,\n",
      "         0.0266, -0.0220, -0.0016,  0.0075,  0.0230, -0.0348, -0.0148,  0.0322,\n",
      "         0.0100, -0.0136,  0.0000, -0.0235, -0.0005,  0.0005,  0.0216,  0.0268,\n",
      "        -0.0270,  0.0297, -0.0347,  0.0292, -0.0083, -0.0292, -0.0241,  0.0087,\n",
      "         0.0342,  0.0184,  0.0146,  0.0302, -0.0331, -0.0061,  0.0216,  0.0227,\n",
      "         0.0154,  0.0099,  0.0341, -0.0355, -0.0184, -0.0319,  0.0221,  0.0210],\n",
      "       requires_grad=True)\n"
     ]
    }
   ],
   "source": [
    "print(model.fc1.weight)\n",
    "print(model.fc1.bias)"
   ]
  },
  {
   "cell_type": "markdown",
   "metadata": {},
   "source": [
    "For custom initialization, we want to modify these tensors in place. These are actually autograd *Variables*, so we need to get back the actual tensors with `model.fc1.weight.data`. Once we have the tensors, we can fill them with zeros (for biases) or random normal values."
   ]
  },
  {
   "cell_type": "code",
   "execution_count": 144,
   "metadata": {},
   "outputs": [
    {
     "data": {
      "text/plain": [
       "tensor([0., 0., 0., 0., 0., 0., 0., 0., 0., 0., 0., 0., 0., 0., 0., 0., 0., 0.,\n",
       "        0., 0., 0., 0., 0., 0., 0., 0., 0., 0., 0., 0., 0., 0., 0., 0., 0., 0.,\n",
       "        0., 0., 0., 0., 0., 0., 0., 0., 0., 0., 0., 0., 0., 0., 0., 0., 0., 0.,\n",
       "        0., 0., 0., 0., 0., 0., 0., 0., 0., 0., 0., 0., 0., 0., 0., 0., 0., 0.,\n",
       "        0., 0., 0., 0., 0., 0., 0., 0., 0., 0., 0., 0., 0., 0., 0., 0., 0., 0.,\n",
       "        0., 0., 0., 0., 0., 0., 0., 0., 0., 0., 0., 0., 0., 0., 0., 0., 0., 0.,\n",
       "        0., 0., 0., 0., 0., 0., 0., 0., 0., 0., 0., 0., 0., 0., 0., 0., 0., 0.,\n",
       "        0., 0.])"
      ]
     },
     "execution_count": 144,
     "metadata": {},
     "output_type": "execute_result"
    }
   ],
   "source": [
    "# Set biases to all zeros\n",
    "model.fc1.bias.data.fill_(0)"
   ]
  },
  {
   "cell_type": "code",
   "execution_count": 145,
   "metadata": {},
   "outputs": [
    {
     "data": {
      "text/plain": [
       "tensor([[ 0.0003,  0.0072,  0.0023,  ..., -0.0016, -0.0061,  0.0003],\n",
       "        [-0.0112,  0.0027,  0.0183,  ...,  0.0196, -0.0123,  0.0033],\n",
       "        [-0.0048, -0.0074, -0.0071,  ..., -0.0092, -0.0132, -0.0059],\n",
       "        ...,\n",
       "        [ 0.0013, -0.0004,  0.0021,  ..., -0.0074, -0.0015,  0.0147],\n",
       "        [ 0.0071, -0.0364, -0.0042,  ..., -0.0048, -0.0045, -0.0017],\n",
       "        [ 0.0036, -0.0112, -0.0243,  ...,  0.0028,  0.0015, -0.0092]])"
      ]
     },
     "execution_count": 145,
     "metadata": {},
     "output_type": "execute_result"
    }
   ],
   "source": [
    "# sample from random normal with standard dev = 0.01\n",
    "model.fc1.weight.data.normal_(std=0.01)"
   ]
  },
  {
   "cell_type": "markdown",
   "metadata": {},
   "source": [
    "### Forward pass\n",
    "\n",
    "Now that we have a network, let's see what happens when we pass in an image."
   ]
  },
  {
   "cell_type": "code",
   "execution_count": 146,
   "metadata": {},
   "outputs": [
    {
     "data": {
      "image/png": "[encoded data removed]",
      "text/plain": [
       "<matplotlib.figure.Figure at 0x1fc8a897c50>"
      ]
     },
     "metadata": {
      "image/png": {
       "height": 224,
       "width": 423
      }
     },
     "output_type": "display_data"
    }
   ],
   "source": [
    "# Grab some data \n",
    "dataiter = iter(trainloader)\n",
    "images, labels = dataiter.next()\n",
    "\n",
    "# Resize images into a 1D vector, new shape is (batch size, color channels, image pixels) \n",
    "images.resize_(64, 1, 784)\n",
    "# or images.resize_(images.shape[0], 1, 784) to automatically get batch size\n",
    "\n",
    "# Forward pass through the network\n",
    "img_idx = 0\n",
    "ps = model.forward(images[img_idx,:])\n",
    "\n",
    "img = images[img_idx]\n",
    "helper.view_classify(img.view(1, 28, 28), ps)"
   ]
  },
  {
   "cell_type": "markdown",
   "metadata": {},
   "source": [
    "As you can see above, our network has basically no idea what this digit is. It's because we haven't trained it yet, all the weights are random!\n",
    "\n",
    "### Using `nn.Sequential`\n",
    "\n",
    "PyTorch provides a convenient way to build networks like this where a tensor is passed sequentially through operations, `nn.Sequential` ([documentation](https://pytorch.org/docs/master/nn.html#torch.nn.Sequential)). Using this to build the equivalent network:"
   ]
  },
  {
   "cell_type": "code",
   "execution_count": 147,
   "metadata": {},
   "outputs": [
    {
     "name": "stdout",
     "output_type": "stream",
     "text": [
      "Sequential(\n",
      "  (0): Linear(in_features=784, out_features=128, bias=True)\n",
      "  (1): ReLU()\n",
      "  (2): Linear(in_features=128, out_features=64, bias=True)\n",
      "  (3): ReLU()\n",
      "  (4): Linear(in_features=64, out_features=10, bias=True)\n",
      "  (5): Softmax()\n",
      ")\n"
     ]
    },
    {
     "data": {
      "image/png": "[encoded data removed]",
      "text/plain": [
       "<matplotlib.figure.Figure at 0x1fc8b81edd8>"
      ]
     },
     "metadata": {
      "image/png": {
       "height": 224,
       "width": 423
      }
     },
     "output_type": "display_data"
    }
   ],
   "source": [
    "# Hyperparameters for our network\n",
    "input_size = 784\n",
    "hidden_sizes = [128, 64]\n",
    "output_size = 10\n",
    "\n",
    "# Build a feed-forward network\n",
    "model = nn.Sequential(nn.Linear(input_size, hidden_sizes[0]),\n",
    "                      nn.ReLU(),\n",
    "                      nn.Linear(hidden_sizes[0], hidden_sizes[1]),\n",
    "                      nn.ReLU(),\n",
    "                      nn.Linear(hidden_sizes[1], output_size),\n",
    "                      nn.Softmax(dim=1))\n",
    "print(model)\n",
    "\n",
    "# Forward pass through the network and display output\n",
    "images, labels = next(iter(trainloader))\n",
    "images.resize_(images.shape[0], 1, 784)\n",
    "ps = model.forward(images[0,:])\n",
    "helper.view_classify(images[0].view(1, 28, 28), ps)"
   ]
  },
  {
   "cell_type": "markdown",
   "metadata": {},
   "source": [
    "The operations are availble by passing in the appropriate index. For example, if you want to get first Linear operation and look at the weights, you'd use `model[0]`."
   ]
  },
  {
   "cell_type": "code",
   "execution_count": 148,
   "metadata": {},
   "outputs": [
    {
     "name": "stdout",
     "output_type": "stream",
     "text": [
      "Linear(in_features=784, out_features=128, bias=True)\n"
     ]
    },
    {
     "data": {
      "text/plain": [
       "Parameter containing:\n",
       "tensor([[-0.0253, -0.0009,  0.0138,  ...,  0.0283, -0.0175, -0.0276],\n",
       "        [-0.0259,  0.0339, -0.0080,  ...,  0.0210,  0.0133, -0.0228],\n",
       "        [ 0.0294,  0.0022, -0.0138,  ..., -0.0006, -0.0245, -0.0214],\n",
       "        ...,\n",
       "        [ 0.0153, -0.0274, -0.0094,  ...,  0.0277,  0.0098,  0.0356],\n",
       "        [-0.0096,  0.0119, -0.0258,  ...,  0.0044,  0.0145,  0.0164],\n",
       "        [-0.0067,  0.0171, -0.0299,  ...,  0.0058,  0.0260, -0.0146]],\n",
       "       requires_grad=True)"
      ]
     },
     "execution_count": 148,
     "metadata": {},
     "output_type": "execute_result"
    }
   ],
   "source": [
    "print(model[0])\n",
    "model[0].weight"
   ]
  },
  {
   "cell_type": "markdown",
   "metadata": {},
   "source": [
    "You can also pass in an `OrderedDict` to name the individual layers and operations, instead of using incremental integers. Note that dictionary keys must be unique, so _each operation must have a different name_."
   ]
  },
  {
   "cell_type": "code",
   "execution_count": 149,
   "metadata": {},
   "outputs": [
    {
     "data": {
      "text/plain": [
       "Sequential(\n",
       "  (fc1): Linear(in_features=784, out_features=128, bias=True)\n",
       "  (relu1): ReLU()\n",
       "  (fc2): Linear(in_features=128, out_features=64, bias=True)\n",
       "  (relu2): ReLU()\n",
       "  (output): Linear(in_features=64, out_features=10, bias=True)\n",
       "  (softmax): Softmax()\n",
       ")"
      ]
     },
     "execution_count": 149,
     "metadata": {},
     "output_type": "execute_result"
    }
   ],
   "source": [
    "from collections import OrderedDict\n",
    "model = nn.Sequential(OrderedDict([\n",
    "                      ('fc1', nn.Linear(input_size, hidden_sizes[0])),\n",
    "                      ('relu1', nn.ReLU()),\n",
    "                      ('fc2', nn.Linear(hidden_sizes[0], hidden_sizes[1])),\n",
    "                      ('relu2', nn.ReLU()),\n",
    "                      ('output', nn.Linear(hidden_sizes[1], output_size)),\n",
    "                      ('softmax', nn.Softmax(dim=1))]))\n",
    "model"
   ]
  },
  {
   "cell_type": "markdown",
   "metadata": {},
   "source": [
    "Now you can access layers either by integer or the name"
   ]
  },
  {
   "cell_type": "code",
   "execution_count": 150,
   "metadata": {},
   "outputs": [
    {
     "name": "stdout",
     "output_type": "stream",
     "text": [
      "Linear(in_features=784, out_features=128, bias=True)\n",
      "Linear(in_features=784, out_features=128, bias=True)\n"
     ]
    }
   ],
   "source": [
    "print(model[0])\n",
    "print(model.fc1)"
   ]
  },
  {
   "cell_type": "markdown",
   "metadata": {},
   "source": [
    "In the next notebook, we'll see how we can train a neural network to accuractly predict the numbers appearing in the MNIST images."
   ]
  }
 ],
 "metadata": {
  "kernelspec": {
   "display_name": "Python 3",
   "language": "python",
   "name": "python3"
  },
  "language_info": {
   "codemirror_mode": {
    "name": "ipython",
    "version": 3
   },
   "file_extension": ".py",
   "mimetype": "text/x-python",
   "name": "python",
   "nbconvert_exporter": "python",
   "pygments_lexer": "ipython3",
   "version": "3.6.4"
  }
 },
 "nbformat": 4,
 "nbformat_minor": 2
}
