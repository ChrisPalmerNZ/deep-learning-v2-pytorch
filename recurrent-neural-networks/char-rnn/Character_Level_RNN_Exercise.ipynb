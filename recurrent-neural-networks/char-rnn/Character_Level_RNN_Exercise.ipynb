{
 "cells": [
  {
   "cell_type": "markdown",
   "metadata": {},
   "source": [
    "# Character-Level LSTM in PyTorch\n",
    "\n",
    "In this notebook, I'll construct a character-level LSTM with PyTorch. The network will train character by character on some text, then generate new text character by character. As an example, I will train on Anna Karenina. **This model will be able to generate new text based on the text from the book!**\n",
    "\n",
    "This network is based off of Andrej Karpathy's [post on RNNs](http://karpathy.github.io/2015/05/21/rnn-effectiveness/) and [implementation in Torch](https://github.com/karpathy/char-rnn). Below is the general architecture of the character-wise RNN.\n",
    "\n",
    "<img src=\"assets/charseq.jpeg\" width=\"500\">"
   ]
  },
  {
   "cell_type": "markdown",
   "metadata": {},
   "source": [
    "First let's load in our required resources for data loading and model creation."
   ]
  },
  {
   "cell_type": "code",
   "execution_count": 1,
   "metadata": {},
   "outputs": [],
   "source": [
    "import numpy as np\n",
    "import torch\n",
    "from torch import nn\n",
    "import torch.nn.functional as F"
   ]
  },
  {
   "cell_type": "markdown",
   "metadata": {},
   "source": [
    "## Load in Data\n",
    "\n",
    "Then, we'll load the Anna Karenina text file and convert it into integers for our network to use. "
   ]
  },
  {
   "cell_type": "code",
   "execution_count": 2,
   "metadata": {},
   "outputs": [],
   "source": [
    "# open text file and read in data as `text`\n",
    "with open('data/anna.txt', 'r') as f:\n",
    "    text = f.read()"
   ]
  },
  {
   "cell_type": "markdown",
   "metadata": {},
   "source": [
    "Let's check out the first 100 characters, make sure everything is peachy. According to the [American Book Review](http://americanbookreview.org/100bestlines.asp), this is the 6th best first line of a book ever."
   ]
  },
  {
   "cell_type": "code",
   "execution_count": 3,
   "metadata": {},
   "outputs": [
    {
     "data": {
      "text/plain": [
       "'Chapter 1\\n\\n\\nHappy families are all alike; every unhappy family is unhappy in its own\\nway.\\n\\nEverythin'"
      ]
     },
     "execution_count": 3,
     "metadata": {},
     "output_type": "execute_result"
    }
   ],
   "source": [
    "text[:100]"
   ]
  },
  {
   "cell_type": "markdown",
   "metadata": {},
   "source": [
    "### Tokenization\n",
    "\n",
    "In the cells, below, I'm creating a couple **dictionaries** to convert the characters to and from integers. Encoding the characters as integers makes it easier to use as input in the network."
   ]
  },
  {
   "cell_type": "code",
   "execution_count": 5,
   "metadata": {},
   "outputs": [],
   "source": [
    "# encode the text and map each character to an integer and vice versa\n",
    "\n",
    "# we create two dictionaries:\n",
    "# 1. int2char, which maps integers to characters\n",
    "# 2. char2int, which maps characters to unique integers\n",
    "chars = tuple(set(text))\n",
    "int2char = dict(enumerate(chars))\n",
    "char2int = {ch: ii for ii, ch in int2char.items()}\n",
    "\n",
    "# encode the text\n",
    "encoded = np.array([char2int[ch] for ch in text])"
   ]
  },
  {
   "cell_type": "code",
   "execution_count": 9,
   "metadata": {},
   "outputs": [
    {
     "data": {
      "text/plain": [
       "(83, 83, 83)"
      ]
     },
     "execution_count": 9,
     "metadata": {},
     "output_type": "execute_result"
    }
   ],
   "source": [
    "len(chars), len(int2char), len(char2int)"
   ]
  },
  {
   "cell_type": "code",
   "execution_count": 12,
   "metadata": {},
   "outputs": [
    {
     "data": {
      "text/plain": [
       "('6', '\\n', \"'\", 'D', 'K', '4', 'O', 'N', 'W', 'i')"
      ]
     },
     "execution_count": 12,
     "metadata": {},
     "output_type": "execute_result"
    }
   ],
   "source": [
    "chars[:10]"
   ]
  },
  {
   "cell_type": "code",
   "execution_count": 43,
   "metadata": {},
   "outputs": [
    {
     "data": {
      "text/plain": [
       "[(0, '6'),\n",
       " (1, '\\n'),\n",
       " (2, \"'\"),\n",
       " (3, 'D'),\n",
       " (4, 'K'),\n",
       " (5, '4'),\n",
       " (6, 'O'),\n",
       " (7, 'N'),\n",
       " (8, 'W'),\n",
       " (9, 'i')]"
      ]
     },
     "execution_count": 43,
     "metadata": {},
     "output_type": "execute_result"
    }
   ],
   "source": [
    "[(k, v) for k, v in int2char.items()][:10]"
   ]
  },
  {
   "cell_type": "code",
   "execution_count": 44,
   "metadata": {},
   "outputs": [
    {
     "data": {
      "text/plain": [
       "[('6', 0),\n",
       " ('\\n', 1),\n",
       " (\"'\", 2),\n",
       " ('D', 3),\n",
       " ('K', 4),\n",
       " ('4', 5),\n",
       " ('O', 6),\n",
       " ('N', 7),\n",
       " ('W', 8),\n",
       " ('i', 9)]"
      ]
     },
     "execution_count": 44,
     "metadata": {},
     "output_type": "execute_result"
    }
   ],
   "source": [
    "[(k, v) for k, v in char2int.items()][:10]"
   ]
  },
  {
   "cell_type": "markdown",
   "metadata": {},
   "source": [
    "And we can see those same characters from above, encoded as integers."
   ]
  },
  {
   "cell_type": "code",
   "execution_count": 13,
   "metadata": {},
   "outputs": [
    {
     "data": {
      "text/plain": [
       "array([31, 26, 73, 68, 35, 19, 24, 34, 80,  1,  1,  1, 60, 73, 68, 68, 62,\n",
       "       34, 79, 73, 69,  9, 49,  9, 19, 48, 34, 73, 24, 19, 34, 73, 49, 49,\n",
       "       34, 73, 49,  9, 64, 19, 75, 34, 19, 67, 19, 24, 62, 34, 25, 45, 26,\n",
       "       73, 68, 68, 62, 34, 79, 73, 69,  9, 49, 62, 34,  9, 48, 34, 25, 45,\n",
       "       26, 73, 68, 68, 62, 34,  9, 45, 34,  9, 35, 48, 34, 47, 72, 45,  1,\n",
       "       72, 73, 62, 40,  1,  1, 43, 67, 19, 24, 62, 35, 26,  9, 45])"
      ]
     },
     "execution_count": 13,
     "metadata": {},
     "output_type": "execute_result"
    }
   ],
   "source": [
    "encoded[:100]"
   ]
  },
  {
   "cell_type": "markdown",
   "metadata": {},
   "source": [
    "## Pre-processing the data\n",
    "\n",
    "As you can see in our char-RNN image above, our LSTM expects an input that is **one-hot encoded** meaning that each character is converted into an integer (via our created dictionary) and *then* converted into a column vector where only it's corresponding integer index will have the value of 1 and the rest of the vector will be filled with 0's. Since we're one-hot encoding the data, let's make a function to do that!\n"
   ]
  },
  {
   "cell_type": "code",
   "execution_count": 45,
   "metadata": {},
   "outputs": [],
   "source": [
    "def one_hot_encode(arr, n_labels):\n",
    "    \n",
    "    # Initialize the the encoded array\n",
    "    one_hot = np.zeros((np.multiply(*arr.shape), n_labels), dtype=np.float32)\n",
    "    \n",
    "    # Fill the appropriate elements with ones\n",
    "    one_hot[np.arange(one_hot.shape[0]), arr.flatten()] = 1.\n",
    "    \n",
    "    # Finally reshape it to get back to the original array\n",
    "    one_hot = one_hot.reshape((*arr.shape, n_labels))\n",
    "    \n",
    "    return one_hot"
   ]
  },
  {
   "cell_type": "code",
   "execution_count": 46,
   "metadata": {},
   "outputs": [
    {
     "name": "stdout",
     "output_type": "stream",
     "text": [
      "[[[0. 0. 0. 1. 0. 0. 0. 0.]\n",
      "  [0. 0. 0. 0. 0. 1. 0. 0.]\n",
      "  [0. 1. 0. 0. 0. 0. 0. 0.]]]\n"
     ]
    }
   ],
   "source": [
    "# check that the function works as expected\n",
    "test_seq = np.array([[3, 5, 1]])\n",
    "one_hot = one_hot_encode(test_seq, 8)\n",
    "\n",
    "print(one_hot)"
   ]
  },
  {
   "cell_type": "markdown",
   "metadata": {},
   "source": [
    "## Making training mini-batches\n",
    "\n",
    "\n",
    "To train on this data, we also want to create mini-batches for training. Remember that we want our batches to be multiple sequences of some desired number of sequence steps. Considering a simple example, our batches would look like this:\n",
    "\n",
    "<img src=\"assets/sequence_batching@1x.png\" width=500px>\n",
    "\n",
    "\n",
    "<br>\n",
    "\n",
    "In this example, we'll take the encoded characters (passed in as the `arr` parameter) and split them into multiple sequences, given by `batch_size`. Each of our sequences will be `seq_length` long.\n",
    "\n",
    "### Creating Batches\n",
    "\n",
    "**1. The first thing we need to do is discard some of the text so we only have completely full mini-batches. **\n",
    "\n",
    "Each batch contains $N \\times M$ characters, where $N$ is the batch size (the number of sequences in a batch) and $M$ is the seq_length or number of time steps in a sequence. Then, to get the total number of batches, $K$, that we can make from the array `arr`, you divide the length of `arr` by the number of characters per batch. Once you know the number of batches, you can get the total number of characters to keep from `arr`, $N * M * K$.\n",
    "\n",
    "**2. After that, we need to split `arr` into $N$ batches. ** \n",
    "\n",
    "You can do this using `arr.reshape(size)` where `size` is a tuple containing the dimensions sizes of the reshaped array. We know we want $N$ sequences in a batch, so let's make that the size of the first dimension. For the second dimension, you can use `-1` as a placeholder in the size, it'll fill up the array with the appropriate data for you. After this, you should have an array that is $N \\times (M * K)$.\n",
    "\n",
    "**3. Now that we have this array, we can iterate through it to get our mini-batches. **\n",
    "\n",
    "The idea is each batch is a $N \\times M$ window on the $N \\times (M * K)$ array. For each subsequent batch, the window moves over by `seq_length`. We also want to create both the input and target arrays. Remember that the targets are just the inputs shifted over by one character. The way I like to do this window is use `range` to take steps of size `n_steps` from $0$ to `arr.shape[1]`, the total number of tokens in each sequence. That way, the integers you get from `range` always point to the start of a batch, and each window is `seq_length` wide.\n",
    "\n",
    "> **TODO:** Write the code for creating batches in the function below. The exercises in this notebook _will not be easy_. I've provided a notebook with solutions alongside this notebook. If you get stuck, checkout the solutions. The most important thing is that you don't copy and paste the code into here, **type out the solution code yourself.**"
   ]
  },
  {
   "cell_type": "code",
   "execution_count": 49,
   "metadata": {},
   "outputs": [],
   "source": [
    "def get_batches(arr, batch_size, seq_length):\n",
    "    '''Create a generator that returns batches of size\n",
    "       batch_size x seq_length from arr.\n",
    "       \n",
    "       Arguments\n",
    "       ---------\n",
    "       arr: Array you want to make batches from\n",
    "       batch_size: Batch size, the number of sequences per batch\n",
    "       seq_length: Number of encoded chars in a sequence\n",
    "    '''\n",
    "    \n",
    "    ## TODO: Get the number of batches we can make\n",
    "    n_batches = len(arr) // (batch_size * seq_length)\n",
    "    \n",
    "    ## TODO: Keep only enough characters to make full batches\n",
    "    arr = arr[:n_batches * batch_size * seq_length]\n",
    "    \n",
    "    ## TODO: Reshape into batch_size rows\n",
    "    arr = arr.reshape((batch_size, -1))\n",
    "    \n",
    "    ## TODO: Iterate over the batches using a window of size seq_length\n",
    "    for n in range(0, arr.shape[1], seq_length):\n",
    "        # The features\n",
    "        x = arr[:, n:n+seq_length]\n",
    "        # The targets, shifted by one\n",
    "        y = np.zeros_like(x)\n",
    "        try:\n",
    "            y[:, :-1], y[:, -1] = x[:, 1:], arr[:, n+seq_length]\n",
    "        except IndexError:\n",
    "            y[:, :-1], y[:, -1] = x[:, 1:], arr[:, 0]        \n",
    "        \n",
    "        yield x, y"
   ]
  },
  {
   "cell_type": "markdown",
   "metadata": {},
   "source": [
    "### Test Your Implementation\n",
    "\n",
    "Now I'll make some data sets and we can check out what's going on as we batch data. Here, as an example, I'm going to use a batch size of 8 and 50 sequence steps."
   ]
  },
  {
   "cell_type": "code",
   "execution_count": 50,
   "metadata": {},
   "outputs": [],
   "source": [
    "batches = get_batches(encoded, 8, 50)\n",
    "x, y = next(batches)"
   ]
  },
  {
   "cell_type": "code",
   "execution_count": 51,
   "metadata": {},
   "outputs": [
    {
     "name": "stdout",
     "output_type": "stream",
     "text": [
      "x\n",
      " [[31 26 73 68 35 19 24 34 80  1]\n",
      " [48 47 45 34 35 26 73 35 34 73]\n",
      " [19 45 63 34 47 24 34 73 34 79]\n",
      " [48 34 35 26 19 34 16 26  9 19]\n",
      " [34 48 73 72 34 26 19 24 34 35]\n",
      " [16 25 48 48  9 47 45 34 73 45]\n",
      " [34 76 45 45 73 34 26 73 63 34]\n",
      " [ 6 54 49 47 45 48 64 62 40 34]]\n",
      "\n",
      "y\n",
      " [[26 73 68 35 19 24 34 80  1  1]\n",
      " [47 45 34 35 26 73 35 34 73 35]\n",
      " [45 63 34 47 24 34 73 34 79 47]\n",
      " [34 35 26 19 34 16 26  9 19 79]\n",
      " [48 73 72 34 26 19 24 34 35 19]\n",
      " [25 48 48  9 47 45 34 73 45 63]\n",
      " [76 45 45 73 34 26 73 63 34 48]\n",
      " [54 49 47 45 48 64 62 40 34 36]]\n"
     ]
    }
   ],
   "source": [
    "# printing out the first 10 items in a sequence\n",
    "print('x\\n', x[:10, :10])\n",
    "print('\\ny\\n', y[:10, :10])"
   ]
  },
  {
   "cell_type": "markdown",
   "metadata": {},
   "source": [
    "If you implemented `get_batches` correctly, the above output should look something like \n",
    "```\n",
    "x\n",
    " [[25  8 60 11 45 27 28 73  1  2]\n",
    " [17  7 20 73 45  8 60 45 73 60]\n",
    " [27 20 80 73  7 28 73 60 73 65]\n",
    " [17 73 45  8 27 73 66  8 46 27]\n",
    " [73 17 60 12 73  8 27 28 73 45]\n",
    " [66 64 17 17 46  7 20 73 60 20]\n",
    " [73 76 20 20 60 73  8 60 80 73]\n",
    " [47 35 43  7 20 17 24 50 37 73]]\n",
    "\n",
    "y\n",
    " [[ 8 60 11 45 27 28 73  1  2  2]\n",
    " [ 7 20 73 45  8 60 45 73 60 45]\n",
    " [20 80 73  7 28 73 60 73 65  7]\n",
    " [73 45  8 27 73 66  8 46 27 65]\n",
    " [17 60 12 73  8 27 28 73 45 27]\n",
    " [64 17 17 46  7 20 73 60 20 80]\n",
    " [76 20 20 60 73  8 60 80 73 17]\n",
    " [35 43  7 20 17 24 50 37 73 36]]\n",
    " ```\n",
    " although the exact numbers may be different. Check to make sure the data is shifted over one step for `y`."
   ]
  },
  {
   "cell_type": "markdown",
   "metadata": {},
   "source": [
    "---\n",
    "## Defining the network with PyTorch\n",
    "\n",
    "Below is where you'll define the network.\n",
    "\n",
    "<img src=\"assets/charRNN.png\" width=500px>\n",
    "\n",
    "Next, you'll use PyTorch to define the architecture of the network. We start by defining the layers and operations we want. Then, define a method for the forward pass. You've also been given a method for predicting characters."
   ]
  },
  {
   "cell_type": "markdown",
   "metadata": {},
   "source": [
    "### Model Structure\n",
    "\n",
    "In `__init__` the suggested structure is as follows:\n",
    "* Create and store the necessary dictionaries (this has been done for you)\n",
    "* Define an LSTM layer that takes as params: an input size (the number of characters), a hidden layer size `n_hidden`, a number of layers `n_layers`, a dropout probability `drop_prob`, and a batch_first boolean (True, since we are batching)\n",
    "* Define a dropout layer with `dropout_prob`\n",
    "* Define a fully-connected layer with params: input size `n_hidden` and output size (the number of characters)\n",
    "* Finally, initialize the weights (again, this has been given)\n",
    "\n",
    "Note that some parameters have been named and given in the `__init__` function, and we use them and store them by doing something like `self.drop_prob = drop_prob`."
   ]
  },
  {
   "cell_type": "markdown",
   "metadata": {},
   "source": [
    "---\n",
    "### LSTM Inputs/Outputs\n",
    "\n",
    "You can create a basic [LSTM layer](https://pytorch.org/docs/stable/nn.html#lstm) as follows\n",
    "\n",
    "```python\n",
    "self.lstm = nn.LSTM(input_size, n_hidden, n_layers, \n",
    "                            dropout=drop_prob, batch_first=True)\n",
    "```\n",
    "\n",
    "where `input_size` is the number of characters this cell expects to see as sequential input, and `n_hidden` is the number of units in the hidden layers in the cell. And we can add dropout by adding a dropout parameter with a specified probability; this will automatically add dropout to the inputs or outputs. Finally, in the `forward` function, we can stack up the LSTM cells into layers using `.view`. With this, you pass in a list of cells and it will send the output of one cell into the next cell.\n",
    "\n",
    "We also need to create an initial hidden state of all zeros. This is done like so\n",
    "\n",
    "```python\n",
    "self.init_hidden()\n",
    "```"
   ]
  },
  {
   "cell_type": "code",
   "execution_count": 52,
   "metadata": {},
   "outputs": [
    {
     "name": "stdout",
     "output_type": "stream",
     "text": [
      "Training on GPU!\n"
     ]
    }
   ],
   "source": [
    "# check if GPU is available\n",
    "train_on_gpu = torch.cuda.is_available()\n",
    "if(train_on_gpu):\n",
    "    print('Training on GPU!')\n",
    "else: \n",
    "    print('No GPU available, training on CPU; consider making n_epochs very small.')"
   ]
  },
  {
   "cell_type": "code",
   "execution_count": 53,
   "metadata": {},
   "outputs": [],
   "source": [
    "class CharRNN(nn.Module):\n",
    "    \n",
    "    def __init__(self, tokens, n_hidden=256, n_layers=2,\n",
    "                               drop_prob=0.5, lr=0.001):\n",
    "        super().__init__()\n",
    "        self.drop_prob = drop_prob\n",
    "        self.n_layers = n_layers\n",
    "        self.n_hidden = n_hidden\n",
    "        self.lr = lr\n",
    "        \n",
    "        # creating character dictionaries\n",
    "        self.chars = tokens\n",
    "        self.int2char = dict(enumerate(self.chars))\n",
    "        self.char2int = {ch: ii for ii, ch in self.int2char.items()}\n",
    "        \n",
    "        self.input_size = self.output_size = len(self.chars)\n",
    "        \n",
    "        ## TODO: define the layers of the model\n",
    "        self.lstm = nn.LSTM(self.input_size, self.n_hidden, self.n_layers, \n",
    "                            dropout=self.drop_prob, batch_first=True)\n",
    "        \n",
    "        self.dropout = nn.Dropout(self.drop_prob)\n",
    "        \n",
    "        self.fc = nn.Linear(self.n_hidden, self.output_size)\n",
    "    \n",
    "    def forward(self, x, hidden):\n",
    "        ''' Forward pass through the network. \n",
    "            These inputs are x, and the hidden/cell state `hidden`. '''\n",
    "                \n",
    "        ## TODO: Get the outputs and the new hidden state from the lstm\n",
    "        r_output, hidden = self.lstm(x, hidden)\n",
    "        \n",
    "        # pass thruogh dropout\n",
    "        out = self.dropout(r_output)\n",
    "        \n",
    "        # Stack up outputs using view\n",
    "        out = out.contiguous().view(-1, self.n_hidden)\n",
    "        \n",
    "        # put x through the fully-connected layer\n",
    "        out = self.fc(out)\n",
    "        \n",
    "        # return the final output and the hidden state\n",
    "        return out, hidden\n",
    "    \n",
    "    \n",
    "    def init_hidden(self, batch_size):\n",
    "        ''' Initializes hidden state '''\n",
    "        # Create two new tensors with sizes n_layers x batch_size x n_hidden,\n",
    "        # initialized to zero, for hidden state and cell state of LSTM\n",
    "        weight = next(self.parameters()).data\n",
    "        \n",
    "        if (train_on_gpu):\n",
    "            hidden = (weight.new(self.n_layers, batch_size, self.n_hidden).zero_().cuda(),\n",
    "                  weight.new(self.n_layers, batch_size, self.n_hidden).zero_().cuda())\n",
    "        else:\n",
    "            hidden = (weight.new(self.n_layers, batch_size, self.n_hidden).zero_(),\n",
    "                      weight.new(self.n_layers, batch_size, self.n_hidden).zero_())\n",
    "        \n",
    "        return hidden\n",
    "        "
   ]
  },
  {
   "cell_type": "markdown",
   "metadata": {},
   "source": [
    "## Time to train\n",
    "\n",
    "The train function gives us the ability to set the number of epochs, the learning rate, and other parameters.\n",
    "\n",
    "Below we're using an Adam optimizer and cross entropy loss since we are looking at character class scores as output. We calculate the loss and perform backpropagation, as usual!\n",
    "\n",
    "A couple of details about training: \n",
    ">* Within the batch loop, we detach the hidden state from its history; this time setting it equal to a new *tuple* variable because an LSTM has a hidden state that is a tuple of the hidden and cell states.\n",
    "* We use [`clip_grad_norm_`](https://pytorch.org/docs/stable/_modules/torch/nn/utils/clip_grad.html) to help prevent exploding gradients."
   ]
  },
  {
   "cell_type": "code",
   "execution_count": 62,
   "metadata": {},
   "outputs": [
    {
     "data": {
      "text/plain": [
       "True"
      ]
     },
     "execution_count": 62,
     "metadata": {},
     "output_type": "execute_result"
    }
   ],
   "source": [
    "train_on_gpu"
   ]
  },
  {
   "cell_type": "code",
   "execution_count": 69,
   "metadata": {},
   "outputs": [],
   "source": [
    "def train(net, data, epochs=10, batch_size=10, seq_length=50, lr=0.001, clip=5, val_frac=0.1, print_every=10):\n",
    "    ''' Training a network \n",
    "    \n",
    "        Arguments\n",
    "        ---------\n",
    "        \n",
    "        net: CharRNN network\n",
    "        data: text data to train the network\n",
    "        epochs: Number of epochs to train\n",
    "        batch_size: Number of mini-sequences per mini-batch, aka batch size\n",
    "        seq_length: Number of character steps per mini-batch\n",
    "        lr: learning rate\n",
    "        clip: gradient clipping\n",
    "        val_frac: Fraction of data to hold out for validation\n",
    "        print_every: Number of steps for printing training and validation loss\n",
    "    \n",
    "    '''\n",
    "    net.train()\n",
    "    \n",
    "    opt = torch.optim.Adam(net.parameters(), lr=lr)\n",
    "    criterion = nn.CrossEntropyLoss()\n",
    "    \n",
    "    # create training and validation data\n",
    "    val_idx = int(len(data)*(1-val_frac))\n",
    "    data, val_data = data[:val_idx], data[val_idx:]\n",
    "    \n",
    "    if(train_on_gpu):\n",
    "        net.cuda()\n",
    "    \n",
    "    counter = 0\n",
    "    n_chars = len(net.chars)\n",
    "    for e in range(epochs):\n",
    "        # initialize hidden state\n",
    "        h = net.init_hidden(batch_size)\n",
    "        \n",
    "        for x, y in get_batches(data, batch_size, seq_length):\n",
    "            counter += 1\n",
    "            \n",
    "            # One-hot encode our data and make them Torch tensors\n",
    "            x = one_hot_encode(x, n_chars)\n",
    "            inputs, targets = torch.from_numpy(x), torch.from_numpy(y)\n",
    "            \n",
    "            if(train_on_gpu):\n",
    "                inputs, targets = inputs.cuda(), targets.cuda().type(torch.cuda.LongTensor)\n",
    "                \n",
    "\n",
    "            # Creating new variables for the hidden state, otherwise\n",
    "            # we'd backprop through the entire training history\n",
    "            h = tuple([each.data for each in h])\n",
    "\n",
    "            # zero accumulated gradients\n",
    "            net.zero_grad()\n",
    "            \n",
    "            # get the output from the model\n",
    "            output, h = net(inputs, h)\n",
    "            \n",
    "            # calculate the loss and perform backprop\n",
    "            loss = criterion(output, targets.view(batch_size*seq_length))\n",
    "            loss.backward()\n",
    "            # `clip_grad_norm` helps prevent the exploding gradient problem in RNNs / LSTMs.\n",
    "            nn.utils.clip_grad_norm_(net.parameters(), clip)\n",
    "            opt.step()\n",
    "            \n",
    "            # loss stats\n",
    "            if counter % print_every == 0:\n",
    "                # Get validation loss\n",
    "                val_h = net.init_hidden(batch_size)\n",
    "                val_losses = []\n",
    "                net.eval()\n",
    "                for x, y in get_batches(val_data, batch_size, seq_length):\n",
    "                    # One-hot encode our data and make them Torch tensors\n",
    "                    x = one_hot_encode(x, n_chars)\n",
    "                    x, y = torch.from_numpy(x), torch.from_numpy(y)\n",
    "                    \n",
    "                    # Creating new variables for the hidden state, otherwise\n",
    "                    # we'd backprop through the entire training history\n",
    "                    val_h = tuple([each.data for each in val_h])\n",
    "                    \n",
    "                    inputs, targets = x, y\n",
    "                    \n",
    "                    if(train_on_gpu):\n",
    "                        inputs, targets = inputs.cuda(), targets.cuda().type(torch.cuda.LongTensor)\n",
    "\n",
    "                    output, val_h = net(inputs, val_h)\n",
    "                    val_loss = criterion(output, targets.view(batch_size*seq_length))\n",
    "                \n",
    "                    val_losses.append(val_loss.item())\n",
    "                \n",
    "                net.train() # reset to train mode after iterationg through validation data\n",
    "                \n",
    "                print(\"Epoch: {}/{}...\".format(e+1, epochs),\n",
    "                      \"Step: {}...\".format(counter),\n",
    "                      \"Loss: {:.4f}...\".format(loss.item()),\n",
    "                      \"Val Loss: {:.4f}\".format(np.mean(val_losses)))"
   ]
  },
  {
   "cell_type": "markdown",
   "metadata": {},
   "source": [
    "## Instantiating the model\n",
    "\n",
    "Now we can actually train the network. First we'll create the network itself, with some given hyperparameters. Then, define the mini-batches sizes, and start training!"
   ]
  },
  {
   "cell_type": "code",
   "execution_count": 70,
   "metadata": {},
   "outputs": [
    {
     "name": "stdout",
     "output_type": "stream",
     "text": [
      "CharRNN(\n",
      "  (lstm): LSTM(83, 512, num_layers=2, batch_first=True, dropout=0.5)\n",
      "  (dropout): Dropout(p=0.5)\n",
      "  (fc): Linear(in_features=512, out_features=83, bias=True)\n",
      ")\n"
     ]
    }
   ],
   "source": [
    "## TODO: set you model hyperparameters\n",
    "# define and print the net\n",
    "n_hidden=512\n",
    "n_layers=2\n",
    "\n",
    "net = CharRNN(chars, n_hidden, n_layers)\n",
    "print(net)"
   ]
  },
  {
   "cell_type": "markdown",
   "metadata": {},
   "source": [
    "### Set your training hyperparameters!"
   ]
  },
  {
   "cell_type": "code",
   "execution_count": 82,
   "metadata": {
    "scrolled": true
   },
   "outputs": [
    {
     "name": "stdout",
     "output_type": "stream",
     "text": [
      "Epoch: 1/20... Step: 10... Loss: 1.2607... Val Loss: 1.2942\n",
      "Epoch: 1/20... Step: 20... Loss: 1.2782... Val Loss: 1.2921\n",
      "Epoch: 1/20... Step: 30... Loss: 1.2640... Val Loss: 1.2841\n",
      "Epoch: 1/20... Step: 40... Loss: 1.2324... Val Loss: 1.2868\n",
      "Epoch: 1/20... Step: 50... Loss: 1.2491... Val Loss: 1.2908\n",
      "Epoch: 1/20... Step: 60... Loss: 1.1932... Val Loss: 1.2897\n",
      "Epoch: 1/20... Step: 70... Loss: 1.2155... Val Loss: 1.2884\n",
      "Epoch: 1/20... Step: 80... Loss: 1.2016... Val Loss: 1.2895\n",
      "Epoch: 1/20... Step: 90... Loss: 1.2209... Val Loss: 1.2930\n",
      "Epoch: 1/20... Step: 100... Loss: 1.2096... Val Loss: 1.2915\n",
      "Epoch: 1/20... Step: 110... Loss: 1.2085... Val Loss: 1.2959\n",
      "Epoch: 1/20... Step: 120... Loss: 1.1918... Val Loss: 1.2948\n",
      "Epoch: 1/20... Step: 130... Loss: 1.2166... Val Loss: 1.2876\n",
      "Epoch: 2/20... Step: 140... Loss: 1.2650... Val Loss: 1.2910\n",
      "Epoch: 2/20... Step: 150... Loss: 1.2273... Val Loss: 1.2909\n",
      "Epoch: 2/20... Step: 160... Loss: 1.2326... Val Loss: 1.2917\n",
      "Epoch: 2/20... Step: 170... Loss: 1.2534... Val Loss: 1.2835\n",
      "Epoch: 2/20... Step: 180... Loss: 1.2012... Val Loss: 1.2865\n",
      "Epoch: 2/20... Step: 190... Loss: 1.1905... Val Loss: 1.2872\n",
      "Epoch: 2/20... Step: 200... Loss: 1.1869... Val Loss: 1.2894\n",
      "Epoch: 2/20... Step: 210... Loss: 1.2069... Val Loss: 1.2896\n",
      "Epoch: 2/20... Step: 220... Loss: 1.1970... Val Loss: 1.2849\n",
      "Epoch: 2/20... Step: 230... Loss: 1.2002... Val Loss: 1.2870\n",
      "Epoch: 2/20... Step: 240... Loss: 1.2184... Val Loss: 1.2868\n",
      "Epoch: 2/20... Step: 250... Loss: 1.1916... Val Loss: 1.2916\n",
      "Epoch: 2/20... Step: 260... Loss: 1.1818... Val Loss: 1.2874\n",
      "Epoch: 2/20... Step: 270... Loss: 1.2394... Val Loss: 1.2851\n",
      "Epoch: 3/20... Step: 280... Loss: 1.1965... Val Loss: 1.2848\n",
      "Epoch: 3/20... Step: 290... Loss: 1.2107... Val Loss: 1.2837\n",
      "Epoch: 3/20... Step: 300... Loss: 1.1974... Val Loss: 1.2801\n",
      "Epoch: 3/20... Step: 310... Loss: 1.1898... Val Loss: 1.2765\n",
      "Epoch: 3/20... Step: 320... Loss: 1.1817... Val Loss: 1.2827\n",
      "Epoch: 3/20... Step: 330... Loss: 1.1918... Val Loss: 1.2862\n",
      "Epoch: 3/20... Step: 340... Loss: 1.2238... Val Loss: 1.2860\n",
      "Epoch: 3/20... Step: 350... Loss: 1.1915... Val Loss: 1.2838\n",
      "Epoch: 3/20... Step: 360... Loss: 1.1682... Val Loss: 1.2867\n",
      "Epoch: 3/20... Step: 370... Loss: 1.1884... Val Loss: 1.2857\n",
      "Epoch: 3/20... Step: 380... Loss: 1.2133... Val Loss: 1.2868\n",
      "Epoch: 3/20... Step: 390... Loss: 1.1836... Val Loss: 1.2865\n",
      "Epoch: 3/20... Step: 400... Loss: 1.1806... Val Loss: 1.2812\n",
      "Epoch: 3/20... Step: 410... Loss: 1.2049... Val Loss: 1.2800\n",
      "Epoch: 4/20... Step: 420... Loss: 1.2103... Val Loss: 1.2827\n",
      "Epoch: 4/20... Step: 430... Loss: 1.1943... Val Loss: 1.2804\n",
      "Epoch: 4/20... Step: 440... Loss: 1.2179... Val Loss: 1.2723\n",
      "Epoch: 4/20... Step: 450... Loss: 1.1613... Val Loss: 1.2764\n",
      "Epoch: 4/20... Step: 460... Loss: 1.1576... Val Loss: 1.2826\n",
      "Epoch: 4/20... Step: 470... Loss: 1.2095... Val Loss: 1.2856\n",
      "Epoch: 4/20... Step: 480... Loss: 1.2166... Val Loss: 1.2815\n",
      "Epoch: 4/20... Step: 490... Loss: 1.2097... Val Loss: 1.2833\n",
      "Epoch: 4/20... Step: 500... Loss: 1.2187... Val Loss: 1.2851\n",
      "Epoch: 4/20... Step: 510... Loss: 1.1880... Val Loss: 1.2840\n",
      "Epoch: 4/20... Step: 520... Loss: 1.1928... Val Loss: 1.2828\n",
      "Epoch: 4/20... Step: 530... Loss: 1.1893... Val Loss: 1.2813\n",
      "Epoch: 4/20... Step: 540... Loss: 1.1621... Val Loss: 1.2765\n",
      "Epoch: 4/20... Step: 550... Loss: 1.2161... Val Loss: 1.2739\n",
      "Epoch: 5/20... Step: 560... Loss: 1.1861... Val Loss: 1.2760\n",
      "Epoch: 5/20... Step: 570... Loss: 1.1931... Val Loss: 1.2727\n",
      "Epoch: 5/20... Step: 580... Loss: 1.1816... Val Loss: 1.2700\n",
      "Epoch: 5/20... Step: 590... Loss: 1.1858... Val Loss: 1.2725\n",
      "Epoch: 5/20... Step: 600... Loss: 1.1841... Val Loss: 1.2794\n",
      "Epoch: 5/20... Step: 610... Loss: 1.1697... Val Loss: 1.2850\n",
      "Epoch: 5/20... Step: 620... Loss: 1.1879... Val Loss: 1.2820\n",
      "Epoch: 5/20... Step: 630... Loss: 1.1968... Val Loss: 1.2796\n",
      "Epoch: 5/20... Step: 640... Loss: 1.1742... Val Loss: 1.2781\n",
      "Epoch: 5/20... Step: 650... Loss: 1.1884... Val Loss: 1.2795\n",
      "Epoch: 5/20... Step: 660... Loss: 1.1694... Val Loss: 1.2770\n",
      "Epoch: 5/20... Step: 670... Loss: 1.1883... Val Loss: 1.2744\n",
      "Epoch: 5/20... Step: 680... Loss: 1.2039... Val Loss: 1.2763\n",
      "Epoch: 5/20... Step: 690... Loss: 1.1996... Val Loss: 1.2738\n",
      "Epoch: 6/20... Step: 700... Loss: 1.1908... Val Loss: 1.2799\n",
      "Epoch: 6/20... Step: 710... Loss: 1.1790... Val Loss: 1.2648\n",
      "Epoch: 6/20... Step: 720... Loss: 1.1761... Val Loss: 1.2664\n",
      "Epoch: 6/20... Step: 730... Loss: 1.1862... Val Loss: 1.2736\n",
      "Epoch: 6/20... Step: 740... Loss: 1.1691... Val Loss: 1.2829\n",
      "Epoch: 6/20... Step: 750... Loss: 1.1791... Val Loss: 1.2824\n",
      "Epoch: 6/20... Step: 760... Loss: 1.1957... Val Loss: 1.2795\n",
      "Epoch: 6/20... Step: 770... Loss: 1.1756... Val Loss: 1.2781\n",
      "Epoch: 6/20... Step: 780... Loss: 1.1794... Val Loss: 1.2818\n",
      "Epoch: 6/20... Step: 790... Loss: 1.1690... Val Loss: 1.2789\n",
      "Epoch: 6/20... Step: 800... Loss: 1.1957... Val Loss: 1.2767\n",
      "Epoch: 6/20... Step: 810... Loss: 1.1743... Val Loss: 1.2740\n",
      "Epoch: 6/20... Step: 820... Loss: 1.1390... Val Loss: 1.2758\n",
      "Epoch: 6/20... Step: 830... Loss: 1.1866... Val Loss: 1.2692\n",
      "Epoch: 7/20... Step: 840... Loss: 1.1728... Val Loss: 1.2786\n",
      "Epoch: 7/20... Step: 850... Loss: 1.1738... Val Loss: 1.2688\n",
      "Epoch: 7/20... Step: 860... Loss: 1.1657... Val Loss: 1.2674\n",
      "Epoch: 7/20... Step: 870... Loss: 1.1698... Val Loss: 1.2735\n",
      "Epoch: 7/20... Step: 880... Loss: 1.1735... Val Loss: 1.2839\n",
      "Epoch: 7/20... Step: 890... Loss: 1.1910... Val Loss: 1.2795\n",
      "Epoch: 7/20... Step: 900... Loss: 1.1975... Val Loss: 1.2777\n",
      "Epoch: 7/20... Step: 910... Loss: 1.1502... Val Loss: 1.2777\n",
      "Epoch: 7/20... Step: 920... Loss: 1.1735... Val Loss: 1.2789\n",
      "Epoch: 7/20... Step: 930... Loss: 1.1644... Val Loss: 1.2787\n",
      "Epoch: 7/20... Step: 940... Loss: 1.1511... Val Loss: 1.2765\n",
      "Epoch: 7/20... Step: 950... Loss: 1.1755... Val Loss: 1.2729\n",
      "Epoch: 7/20... Step: 960... Loss: 1.1788... Val Loss: 1.2666\n",
      "Epoch: 7/20... Step: 970... Loss: 1.1836... Val Loss: 1.2698\n",
      "Epoch: 8/20... Step: 980... Loss: 1.1542... Val Loss: 1.2691\n",
      "Epoch: 8/20... Step: 990... Loss: 1.1653... Val Loss: 1.2640\n",
      "Epoch: 8/20... Step: 1000... Loss: 1.1707... Val Loss: 1.2667\n",
      "Epoch: 8/20... Step: 1010... Loss: 1.1804... Val Loss: 1.2766\n",
      "Epoch: 8/20... Step: 1020... Loss: 1.1802... Val Loss: 1.2730\n",
      "Epoch: 8/20... Step: 1030... Loss: 1.1601... Val Loss: 1.2693\n",
      "Epoch: 8/20... Step: 1040... Loss: 1.1741... Val Loss: 1.2739\n",
      "Epoch: 8/20... Step: 1050... Loss: 1.1608... Val Loss: 1.2742\n",
      "Epoch: 8/20... Step: 1060... Loss: 1.1538... Val Loss: 1.2724\n",
      "Epoch: 8/20... Step: 1070... Loss: 1.1761... Val Loss: 1.2712\n",
      "Epoch: 8/20... Step: 1080... Loss: 1.1643... Val Loss: 1.2733\n",
      "Epoch: 8/20... Step: 1090... Loss: 1.1502... Val Loss: 1.2702\n",
      "Epoch: 8/20... Step: 1100... Loss: 1.1489... Val Loss: 1.2683\n",
      "Epoch: 8/20... Step: 1110... Loss: 1.1598... Val Loss: 1.2685\n",
      "Epoch: 9/20... Step: 1120... Loss: 1.1556... Val Loss: 1.2635\n",
      "Epoch: 9/20... Step: 1130... Loss: 1.1740... Val Loss: 1.2634\n",
      "Epoch: 9/20... Step: 1140... Loss: 1.1739... Val Loss: 1.2677\n",
      "Epoch: 9/20... Step: 1150... Loss: 1.1873... Val Loss: 1.2711\n",
      "Epoch: 9/20... Step: 1160... Loss: 1.1500... Val Loss: 1.2723\n",
      "Epoch: 9/20... Step: 1170... Loss: 1.1617... Val Loss: 1.2684\n",
      "Epoch: 9/20... Step: 1180... Loss: 1.1589... Val Loss: 1.2664\n",
      "Epoch: 9/20... Step: 1190... Loss: 1.1857... Val Loss: 1.2681\n",
      "Epoch: 9/20... Step: 1200... Loss: 1.1557... Val Loss: 1.2690\n",
      "Epoch: 9/20... Step: 1210... Loss: 1.1428... Val Loss: 1.2630\n",
      "Epoch: 9/20... Step: 1220... Loss: 1.1575... Val Loss: 1.2666\n",
      "Epoch: 9/20... Step: 1230... Loss: 1.1468... Val Loss: 1.2677\n",
      "Epoch: 9/20... Step: 1240... Loss: 1.1364... Val Loss: 1.2676\n",
      "Epoch: 9/20... Step: 1250... Loss: 1.1632... Val Loss: 1.2657\n",
      "Epoch: 10/20... Step: 1260... Loss: 1.1611... Val Loss: 1.2617\n",
      "Epoch: 10/20... Step: 1270... Loss: 1.1615... Val Loss: 1.2605\n",
      "Epoch: 10/20... Step: 1280... Loss: 1.1680... Val Loss: 1.2628\n",
      "Epoch: 10/20... Step: 1290... Loss: 1.1594... Val Loss: 1.2658\n",
      "Epoch: 10/20... Step: 1300... Loss: 1.1589... Val Loss: 1.2626\n",
      "Epoch: 10/20... Step: 1310... Loss: 1.1682... Val Loss: 1.2648\n",
      "Epoch: 10/20... Step: 1320... Loss: 1.1413... Val Loss: 1.2632\n",
      "Epoch: 10/20... Step: 1330... Loss: 1.1398... Val Loss: 1.2661\n",
      "Epoch: 10/20... Step: 1340... Loss: 1.1389... Val Loss: 1.2684\n"
     ]
    },
    {
     "name": "stdout",
     "output_type": "stream",
     "text": [
      "Epoch: 10/20... Step: 1350... Loss: 1.1385... Val Loss: 1.2673\n",
      "Epoch: 10/20... Step: 1360... Loss: 1.1470... Val Loss: 1.2687\n",
      "Epoch: 10/20... Step: 1370... Loss: 1.1332... Val Loss: 1.2664\n",
      "Epoch: 10/20... Step: 1380... Loss: 1.1706... Val Loss: 1.2658\n",
      "Epoch: 10/20... Step: 1390... Loss: 1.2083... Val Loss: 1.2621\n",
      "Epoch: 11/20... Step: 1400... Loss: 1.1655... Val Loss: 1.2624\n",
      "Epoch: 11/20... Step: 1410... Loss: 1.1857... Val Loss: 1.2590\n",
      "Epoch: 11/20... Step: 1420... Loss: 1.1973... Val Loss: 1.2553\n",
      "Epoch: 11/20... Step: 1430... Loss: 1.1573... Val Loss: 1.2625\n",
      "Epoch: 11/20... Step: 1440... Loss: 1.1582... Val Loss: 1.2609\n",
      "Epoch: 11/20... Step: 1450... Loss: 1.1157... Val Loss: 1.2589\n",
      "Epoch: 11/20... Step: 1460... Loss: 1.1457... Val Loss: 1.2632\n",
      "Epoch: 11/20... Step: 1470... Loss: 1.1301... Val Loss: 1.2621\n",
      "Epoch: 11/20... Step: 1480... Loss: 1.1600... Val Loss: 1.2648\n",
      "Epoch: 11/20... Step: 1490... Loss: 1.1425... Val Loss: 1.2611\n",
      "Epoch: 11/20... Step: 1500... Loss: 1.1371... Val Loss: 1.2632\n",
      "Epoch: 11/20... Step: 1510... Loss: 1.1199... Val Loss: 1.2638\n",
      "Epoch: 11/20... Step: 1520... Loss: 1.1383... Val Loss: 1.2651\n",
      "Epoch: 12/20... Step: 1530... Loss: 1.2053... Val Loss: 1.2598\n",
      "Epoch: 12/20... Step: 1540... Loss: 1.1539... Val Loss: 1.2623\n",
      "Epoch: 12/20... Step: 1550... Loss: 1.1638... Val Loss: 1.2631\n",
      "Epoch: 12/20... Step: 1560... Loss: 1.1741... Val Loss: 1.2611\n",
      "Epoch: 12/20... Step: 1570... Loss: 1.1335... Val Loss: 1.2629\n",
      "Epoch: 12/20... Step: 1580... Loss: 1.1297... Val Loss: 1.2636\n",
      "Epoch: 12/20... Step: 1590... Loss: 1.1093... Val Loss: 1.2629\n",
      "Epoch: 12/20... Step: 1600... Loss: 1.1388... Val Loss: 1.2639\n",
      "Epoch: 12/20... Step: 1610... Loss: 1.1335... Val Loss: 1.2667\n",
      "Epoch: 12/20... Step: 1620... Loss: 1.1289... Val Loss: 1.2633\n",
      "Epoch: 12/20... Step: 1630... Loss: 1.1519... Val Loss: 1.2619\n",
      "Epoch: 12/20... Step: 1640... Loss: 1.1295... Val Loss: 1.2621\n",
      "Epoch: 12/20... Step: 1650... Loss: 1.1216... Val Loss: 1.2642\n",
      "Epoch: 12/20... Step: 1660... Loss: 1.1640... Val Loss: 1.2594\n",
      "Epoch: 13/20... Step: 1670... Loss: 1.1346... Val Loss: 1.2583\n",
      "Epoch: 13/20... Step: 1680... Loss: 1.1425... Val Loss: 1.2589\n",
      "Epoch: 13/20... Step: 1690... Loss: 1.1285... Val Loss: 1.2649\n",
      "Epoch: 13/20... Step: 1700... Loss: 1.1233... Val Loss: 1.2588\n",
      "Epoch: 13/20... Step: 1710... Loss: 1.1199... Val Loss: 1.2611\n",
      "Epoch: 13/20... Step: 1720... Loss: 1.1338... Val Loss: 1.2629\n",
      "Epoch: 13/20... Step: 1730... Loss: 1.1553... Val Loss: 1.2623\n",
      "Epoch: 13/20... Step: 1740... Loss: 1.1343... Val Loss: 1.2601\n",
      "Epoch: 13/20... Step: 1750... Loss: 1.1062... Val Loss: 1.2622\n",
      "Epoch: 13/20... Step: 1760... Loss: 1.1306... Val Loss: 1.2594\n",
      "Epoch: 13/20... Step: 1770... Loss: 1.1510... Val Loss: 1.2631\n",
      "Epoch: 13/20... Step: 1780... Loss: 1.1279... Val Loss: 1.2668\n",
      "Epoch: 13/20... Step: 1790... Loss: 1.1098... Val Loss: 1.2645\n",
      "Epoch: 13/20... Step: 1800... Loss: 1.1369... Val Loss: 1.2576\n",
      "Epoch: 14/20... Step: 1810... Loss: 1.1432... Val Loss: 1.2564\n",
      "Epoch: 14/20... Step: 1820... Loss: 1.1315... Val Loss: 1.2594\n",
      "Epoch: 14/20... Step: 1830... Loss: 1.1448... Val Loss: 1.2625\n",
      "Epoch: 14/20... Step: 1840... Loss: 1.1030... Val Loss: 1.2609\n",
      "Epoch: 14/20... Step: 1850... Loss: 1.0911... Val Loss: 1.2604\n",
      "Epoch: 14/20... Step: 1860... Loss: 1.1411... Val Loss: 1.2616\n",
      "Epoch: 14/20... Step: 1870... Loss: 1.1493... Val Loss: 1.2622\n",
      "Epoch: 14/20... Step: 1880... Loss: 1.1439... Val Loss: 1.2621\n",
      "Epoch: 14/20... Step: 1890... Loss: 1.1492... Val Loss: 1.2637\n",
      "Epoch: 14/20... Step: 1900... Loss: 1.1315... Val Loss: 1.2583\n",
      "Epoch: 14/20... Step: 1910... Loss: 1.1220... Val Loss: 1.2583\n",
      "Epoch: 14/20... Step: 1920... Loss: 1.1304... Val Loss: 1.2642\n",
      "Epoch: 14/20... Step: 1930... Loss: 1.0967... Val Loss: 1.2611\n",
      "Epoch: 14/20... Step: 1940... Loss: 1.1533... Val Loss: 1.2601\n",
      "Epoch: 15/20... Step: 1950... Loss: 1.1240... Val Loss: 1.2588\n",
      "Epoch: 15/20... Step: 1960... Loss: 1.1286... Val Loss: 1.2596\n",
      "Epoch: 15/20... Step: 1970... Loss: 1.1185... Val Loss: 1.2603\n",
      "Epoch: 15/20... Step: 1980... Loss: 1.1234... Val Loss: 1.2576\n",
      "Epoch: 15/20... Step: 1990... Loss: 1.1179... Val Loss: 1.2577\n",
      "Epoch: 15/20... Step: 2000... Loss: 1.1068... Val Loss: 1.2574\n",
      "Epoch: 15/20... Step: 2010... Loss: 1.1314... Val Loss: 1.2575\n",
      "Epoch: 15/20... Step: 2020... Loss: 1.1399... Val Loss: 1.2572\n",
      "Epoch: 15/20... Step: 2030... Loss: 1.1147... Val Loss: 1.2633\n",
      "Epoch: 15/20... Step: 2040... Loss: 1.1277... Val Loss: 1.2606\n",
      "Epoch: 15/20... Step: 2050... Loss: 1.1141... Val Loss: 1.2610\n",
      "Epoch: 15/20... Step: 2060... Loss: 1.1216... Val Loss: 1.2675\n",
      "Epoch: 15/20... Step: 2070... Loss: 1.1351... Val Loss: 1.2660\n",
      "Epoch: 15/20... Step: 2080... Loss: 1.1348... Val Loss: 1.2592\n",
      "Epoch: 16/20... Step: 2090... Loss: 1.1389... Val Loss: 1.2618\n",
      "Epoch: 16/20... Step: 2100... Loss: 1.1238... Val Loss: 1.2608\n",
      "Epoch: 16/20... Step: 2110... Loss: 1.1197... Val Loss: 1.2614\n",
      "Epoch: 16/20... Step: 2120... Loss: 1.1210... Val Loss: 1.2622\n",
      "Epoch: 16/20... Step: 2130... Loss: 1.1038... Val Loss: 1.2627\n",
      "Epoch: 16/20... Step: 2140... Loss: 1.1143... Val Loss: 1.2647\n",
      "Epoch: 16/20... Step: 2150... Loss: 1.1353... Val Loss: 1.2644\n",
      "Epoch: 16/20... Step: 2160... Loss: 1.1160... Val Loss: 1.2653\n",
      "Epoch: 16/20... Step: 2170... Loss: 1.1131... Val Loss: 1.2672\n",
      "Epoch: 16/20... Step: 2180... Loss: 1.1112... Val Loss: 1.2618\n",
      "Epoch: 16/20... Step: 2190... Loss: 1.1246... Val Loss: 1.2610\n",
      "Epoch: 16/20... Step: 2200... Loss: 1.1163... Val Loss: 1.2674\n",
      "Epoch: 16/20... Step: 2210... Loss: 1.0834... Val Loss: 1.2659\n",
      "Epoch: 16/20... Step: 2220... Loss: 1.1204... Val Loss: 1.2614\n",
      "Epoch: 17/20... Step: 2230... Loss: 1.1091... Val Loss: 1.2619\n",
      "Epoch: 17/20... Step: 2240... Loss: 1.1221... Val Loss: 1.2649\n",
      "Epoch: 17/20... Step: 2250... Loss: 1.1077... Val Loss: 1.2633\n",
      "Epoch: 17/20... Step: 2260... Loss: 1.1198... Val Loss: 1.2625\n",
      "Epoch: 17/20... Step: 2270... Loss: 1.1140... Val Loss: 1.2658\n",
      "Epoch: 17/20... Step: 2280... Loss: 1.1260... Val Loss: 1.2657\n",
      "Epoch: 17/20... Step: 2290... Loss: 1.1296... Val Loss: 1.2670\n",
      "Epoch: 17/20... Step: 2300... Loss: 1.1022... Val Loss: 1.2630\n",
      "Epoch: 17/20... Step: 2310... Loss: 1.1178... Val Loss: 1.2688\n",
      "Epoch: 17/20... Step: 2320... Loss: 1.1159... Val Loss: 1.2652\n",
      "Epoch: 17/20... Step: 2330... Loss: 1.1023... Val Loss: 1.2646\n",
      "Epoch: 17/20... Step: 2340... Loss: 1.1208... Val Loss: 1.2693\n",
      "Epoch: 17/20... Step: 2350... Loss: 1.1241... Val Loss: 1.2664\n",
      "Epoch: 17/20... Step: 2360... Loss: 1.1233... Val Loss: 1.2604\n",
      "Epoch: 18/20... Step: 2370... Loss: 1.0985... Val Loss: 1.2654\n",
      "Epoch: 18/20... Step: 2380... Loss: 1.1162... Val Loss: 1.2624\n",
      "Epoch: 18/20... Step: 2390... Loss: 1.1131... Val Loss: 1.2645\n",
      "Epoch: 18/20... Step: 2400... Loss: 1.1308... Val Loss: 1.2631\n",
      "Epoch: 18/20... Step: 2410... Loss: 1.1313... Val Loss: 1.2633\n",
      "Epoch: 18/20... Step: 2420... Loss: 1.1128... Val Loss: 1.2668\n",
      "Epoch: 18/20... Step: 2430... Loss: 1.1252... Val Loss: 1.2667\n",
      "Epoch: 18/20... Step: 2440... Loss: 1.1134... Val Loss: 1.2628\n",
      "Epoch: 18/20... Step: 2450... Loss: 1.1042... Val Loss: 1.2692\n",
      "Epoch: 18/20... Step: 2460... Loss: 1.1124... Val Loss: 1.2668\n",
      "Epoch: 18/20... Step: 2470... Loss: 1.1035... Val Loss: 1.2656\n",
      "Epoch: 18/20... Step: 2480... Loss: 1.1107... Val Loss: 1.2662\n",
      "Epoch: 18/20... Step: 2490... Loss: 1.0935... Val Loss: 1.2659\n",
      "Epoch: 18/20... Step: 2500... Loss: 1.1043... Val Loss: 1.2646\n",
      "Epoch: 19/20... Step: 2510... Loss: 1.1098... Val Loss: 1.2603\n",
      "Epoch: 19/20... Step: 2520... Loss: 1.1273... Val Loss: 1.2650\n",
      "Epoch: 19/20... Step: 2530... Loss: 1.1346... Val Loss: 1.2683\n",
      "Epoch: 19/20... Step: 2540... Loss: 1.1312... Val Loss: 1.2629\n",
      "Epoch: 19/20... Step: 2550... Loss: 1.1025... Val Loss: 1.2651\n",
      "Epoch: 19/20... Step: 2560... Loss: 1.1061... Val Loss: 1.2668\n",
      "Epoch: 19/20... Step: 2570... Loss: 1.0970... Val Loss: 1.2675\n",
      "Epoch: 19/20... Step: 2580... Loss: 1.1367... Val Loss: 1.2663\n",
      "Epoch: 19/20... Step: 2590... Loss: 1.1002... Val Loss: 1.2680\n",
      "Epoch: 19/20... Step: 2600... Loss: 1.0933... Val Loss: 1.2703\n",
      "Epoch: 19/20... Step: 2610... Loss: 1.1018... Val Loss: 1.2666\n",
      "Epoch: 19/20... Step: 2620... Loss: 1.0978... Val Loss: 1.2699\n",
      "Epoch: 19/20... Step: 2630... Loss: 1.1004... Val Loss: 1.2669\n",
      "Epoch: 19/20... Step: 2640... Loss: 1.1183... Val Loss: 1.2634\n",
      "Epoch: 20/20... Step: 2650... Loss: 1.1066... Val Loss: 1.2669\n"
     ]
    },
    {
     "name": "stdout",
     "output_type": "stream",
     "text": [
      "Epoch: 20/20... Step: 2660... Loss: 1.1278... Val Loss: 1.2659\n",
      "Epoch: 20/20... Step: 2670... Loss: 1.1171... Val Loss: 1.2691\n",
      "Epoch: 20/20... Step: 2680... Loss: 1.1129... Val Loss: 1.2652\n",
      "Epoch: 20/20... Step: 2690... Loss: 1.1032... Val Loss: 1.2610\n",
      "Epoch: 20/20... Step: 2700... Loss: 1.1105... Val Loss: 1.2644\n",
      "Epoch: 20/20... Step: 2710... Loss: 1.0979... Val Loss: 1.2663\n",
      "Epoch: 20/20... Step: 2720... Loss: 1.0821... Val Loss: 1.2678\n",
      "Epoch: 20/20... Step: 2730... Loss: 1.0800... Val Loss: 1.2671\n",
      "Epoch: 20/20... Step: 2740... Loss: 1.0878... Val Loss: 1.2679\n",
      "Epoch: 20/20... Step: 2750... Loss: 1.0954... Val Loss: 1.2681\n",
      "Epoch: 20/20... Step: 2760... Loss: 1.0796... Val Loss: 1.2680\n",
      "Epoch: 20/20... Step: 2770... Loss: 1.1229... Val Loss: 1.2697\n",
      "Epoch: 20/20... Step: 2780... Loss: 1.1605... Val Loss: 1.2634\n"
     ]
    }
   ],
   "source": [
    "batch_size = 128\n",
    "seq_length = 100\n",
    "n_epochs =  20 # start small if you are just testing initial behavior\n",
    "\n",
    "# train the model\n",
    "train(net, encoded, epochs=n_epochs, batch_size=batch_size, seq_length=seq_length, lr=0.001, print_every=10)"
   ]
  },
  {
   "cell_type": "markdown",
   "metadata": {},
   "source": [
    "## Getting the best model\n",
    "\n",
    "To set your hyperparameters to get the best performance, you'll want to watch the training and validation losses. If your training loss is much lower than the validation loss, you're overfitting. Increase regularization (more dropout) or use a smaller network. If the training and validation losses are close, you're underfitting so you can increase the size of the network."
   ]
  },
  {
   "cell_type": "markdown",
   "metadata": {},
   "source": [
    "## Hyperparameters\n",
    "\n",
    "Here are the hyperparameters for the network.\n",
    "\n",
    "In defining the model:\n",
    "* `n_hidden` - The number of units in the hidden layers.\n",
    "* `n_layers` - Number of hidden LSTM layers to use.\n",
    "\n",
    "We assume that dropout probability and learning rate will be kept at the default, in this example.\n",
    "\n",
    "And in training:\n",
    "* `batch_size` - Number of sequences running through the network in one pass.\n",
    "* `seq_length` - Number of characters in the sequence the network is trained on. Larger is better typically, the network will learn more long range dependencies. But it takes longer to train. 100 is typically a good number here.\n",
    "* `lr` - Learning rate for training\n",
    "\n",
    "Here's some good advice from Andrej Karpathy on training the network. I'm going to copy it in here for your benefit, but also link to [where it originally came from](https://github.com/karpathy/char-rnn#tips-and-tricks).\n",
    "\n",
    "> ## Tips and Tricks\n",
    "\n",
    ">### Monitoring Validation Loss vs. Training Loss\n",
    ">If you're somewhat new to Machine Learning or Neural Networks it can take a bit of expertise to get good models. The most important quantity to keep track of is the difference between your training loss (printed during training) and the validation loss (printed once in a while when the RNN is run on the validation data (by default every 1000 iterations)). In particular:\n",
    "\n",
    "> - If your training loss is much lower than validation loss then this means the network might be **overfitting**. Solutions to this are to decrease your network size, or to increase dropout. For example you could try dropout of 0.5 and so on.\n",
    "> - If your training/validation loss are about equal then your model is **underfitting**. Increase the size of your model (either number of layers or the raw number of neurons per layer)\n",
    "\n",
    "> ### Approximate number of parameters\n",
    "\n",
    "> The two most important parameters that control the model are `n_hidden` and `n_layers`. I would advise that you always use `n_layers` of either 2/3. The `n_hidden` can be adjusted based on how much data you have. The two important quantities to keep track of here are:\n",
    "\n",
    "> - The number of parameters in your model. This is printed when you start training.\n",
    "> - The size of your dataset. 1MB file is approximately 1 million characters.\n",
    "\n",
    ">These two should be about the same order of magnitude. It's a little tricky to tell. Here are some examples:\n",
    "\n",
    "> - I have a 100MB dataset and I'm using the default parameter settings (which currently print 150K parameters). My data size is significantly larger (100 mil >> 0.15 mil), so I expect to heavily underfit. I am thinking I can comfortably afford to make `n_hidden` larger.\n",
    "> - I have a 10MB dataset and running a 10 million parameter model. I'm slightly nervous and I'm carefully monitoring my validation loss. If it's larger than my training loss then I may want to try to increase dropout a bit and see if that helps the validation loss.\n",
    "\n",
    "> ### Best models strategy\n",
    "\n",
    ">The winning strategy to obtaining very good models (if you have the compute time) is to always err on making the network larger (as large as you're willing to wait for it to compute) and then try different dropout values (between 0,1). Whatever model has the best validation performance (the loss, written in the checkpoint filename, low is good) is the one you should use in the end.\n",
    "\n",
    ">It is very common in deep learning to run many different models with many different hyperparameter settings, and in the end take whatever checkpoint gave the best validation performance.\n",
    "\n",
    ">By the way, the size of your training and validation splits are also parameters. Make sure you have a decent amount of data in your validation set or otherwise the validation performance will be noisy and not very informative."
   ]
  },
  {
   "cell_type": "markdown",
   "metadata": {},
   "source": [
    "## Checkpoint\n",
    "\n",
    "After training, we'll save the model so we can load it again later if we need too. Here I'm saving the parameters needed to create the same architecture, the hidden layer hyperparameters and the text characters."
   ]
  },
  {
   "cell_type": "code",
   "execution_count": 83,
   "metadata": {},
   "outputs": [],
   "source": [
    "# change the name, for saving multiple files\n",
    "#model_name = 'rnn_20_epoch.net'\n",
    "model_name = 'rnn_40_epoch.net'\n",
    "\n",
    "checkpoint = {'n_hidden': net.n_hidden,\n",
    "              'n_layers': net.n_layers,\n",
    "              'state_dict': net.state_dict(),\n",
    "              'tokens': net.chars}\n",
    "\n",
    "with open(model_name, 'wb') as f:\n",
    "    torch.save(checkpoint, f)"
   ]
  },
  {
   "cell_type": "markdown",
   "metadata": {},
   "source": [
    "---\n",
    "## Making Predictions\n",
    "\n",
    "Now that the model is trained, we'll want to sample from it and make predictions about next characters! To sample, we pass in a character and have the network predict the next character. Then we take that character, pass it back in, and get another predicted character. Just keep doing this and you'll generate a bunch of text!\n",
    "\n",
    "### A note on the `predict`  function\n",
    "\n",
    "The output of our RNN is from a fully-connected layer and it outputs a **distribution of next-character scores**.\n",
    "\n",
    "> To actually get the next character, we apply a softmax function, which gives us a *probability* distribution that we can then sample to predict the next character.\n",
    "\n",
    "### Top K sampling\n",
    "\n",
    "Our predictions come from a categorical probability distribution over all the possible characters. We can make the sample text and make it more reasonable to handle (with less variables) by only considering some $K$ most probable characters. This will prevent the network from giving us completely absurd characters while allowing it to introduce some noise and randomness into the sampled text. Read more about [topk, here](https://pytorch.org/docs/stable/torch.html#torch.topk).\n"
   ]
  },
  {
   "cell_type": "code",
   "execution_count": 73,
   "metadata": {},
   "outputs": [],
   "source": [
    "def predict(net, char, h=None, top_k=None):\n",
    "        ''' Given a character, predict the next character.\n",
    "            Returns the predicted character and the hidden state.\n",
    "        '''\n",
    "        \n",
    "        # tensor inputs\n",
    "        x = np.array([[net.char2int[char]]])\n",
    "        x = one_hot_encode(x, len(net.chars))\n",
    "        inputs = torch.from_numpy(x)\n",
    "        \n",
    "        if(train_on_gpu):\n",
    "            inputs = inputs.cuda()\n",
    "        \n",
    "        # detach hidden state from history\n",
    "        h = tuple([each.data for each in h])\n",
    "        # get the output of the model\n",
    "        out, h = net(inputs, h)\n",
    "\n",
    "        # get the character probabilities\n",
    "        p = F.softmax(out, dim=1).data\n",
    "        if(train_on_gpu):\n",
    "            p = p.cpu() # move to cpu\n",
    "        \n",
    "        # get top characters\n",
    "        if top_k is None:\n",
    "            top_ch = np.arange(len(net.chars))\n",
    "        else:\n",
    "            p, top_ch = p.topk(top_k)\n",
    "            top_ch = top_ch.numpy().squeeze()\n",
    "        \n",
    "        # select the likely next character with some element of randomness\n",
    "        p = p.numpy().squeeze()\n",
    "        char = np.random.choice(top_ch, p=p/p.sum())\n",
    "        \n",
    "        # return the encoded value of the predicted char and the hidden state\n",
    "        return net.int2char[char], h"
   ]
  },
  {
   "cell_type": "markdown",
   "metadata": {},
   "source": [
    "### Priming and generating text \n",
    "\n",
    "Typically you'll want to prime the network so you can build up a hidden state. Otherwise the network will start out generating characters at random. In general the first bunch of characters will be a little rough since it hasn't built up a long history of characters to predict from."
   ]
  },
  {
   "cell_type": "code",
   "execution_count": 74,
   "metadata": {},
   "outputs": [],
   "source": [
    "def sample(net, size, prime='The', top_k=None):\n",
    "        \n",
    "    if(train_on_gpu):\n",
    "        net.cuda()\n",
    "    else:\n",
    "        net.cpu()\n",
    "    \n",
    "    net.eval() # eval mode\n",
    "    \n",
    "    # First off, run through the prime characters\n",
    "    chars = [ch for ch in prime]\n",
    "    h = net.init_hidden(1)\n",
    "    for ch in prime:\n",
    "        char, h = predict(net, ch, h, top_k=top_k)\n",
    "\n",
    "    chars.append(char)\n",
    "    \n",
    "    # Now pass in the previous character and get a new one\n",
    "    for ii in range(size):\n",
    "        char, h = predict(net, chars[-1], h, top_k=top_k)\n",
    "        chars.append(char)\n",
    "\n",
    "    return ''.join(chars)"
   ]
  },
  {
   "cell_type": "code",
   "execution_count": 84,
   "metadata": {},
   "outputs": [
    {
     "name": "stdout",
     "output_type": "stream",
     "text": [
      "Anna Arkadyevna, and without her shall at the picture of the corner was to bleme for her fears and sort of true, a misunderstanding as though, so awful that she\n",
      "was\n",
      "always\n",
      "successful and struck in\n",
      "the mistake of account there would be nothing to talk to them\n",
      "or stranger out a single\n",
      "candle, and was not\n",
      "in love with her, and\n",
      "that it was all that he had nothing so much about it. And the same\n",
      "way he had time to seat it.\n",
      "\n",
      "As they set off in his hand of his big room, heard the drawers of the bask.\n",
      "\n",
      "\"What is there were trees of all our thangs,\" he said, glancing in the storm-hinged and short the preterrion of the principle of the happiness of her sufferings.\n",
      "\n",
      "\"Yes, you see, you will be done!\"\n",
      "\n",
      "\"I should have been\n",
      "saying, that the\n",
      "court of the winter\n",
      "there are not the position about it,\" he said to himself that she was dropping to\n",
      "the study of the child with the conversation, and saw it was all the subject,\n",
      "which he had started with the sense of\n",
      "harnons. She saw him the choice on the change in his\n"
     ]
    }
   ],
   "source": [
    "print(sample(net, 1000, prime='Anna', top_k=5))"
   ]
  },
  {
   "cell_type": "markdown",
   "metadata": {},
   "source": [
    "After 20 epochs:\n",
    "```\n",
    "Anna's hands and were settled in her\n",
    "studions, with a cried, tears taken up the\n",
    "better, he seatly was all there was themselves in which there was nothing but another man.\n",
    "\n",
    "Seryozha had to go in out, and she\n",
    "was to give mind that he was not being thinking of\n",
    "such proceition to\n",
    "the princess, the priest was that he had been alone, was strating to the storts their father and the sacrivates had brought them to the stary and her\n",
    "careful, she could not\n",
    "see him as he\n",
    "was saying. Sery Indain there could not\n",
    "see himself, when he had to go, he walked. He felt it had been. And\n",
    "he could not help\n",
    "sitting from this mide. And how he wishing and had taken away.\"\n",
    "\n",
    "\"Well, we call and course it's a cape of makance was not being baskenid. I see it was to be suffled out that she was no more indinner that it's a\n",
    "love, and to talk too. I say. In the peasant has not the master and the crowd. And this\n",
    "world that in all times to drive. I will\n",
    "be so\n",
    "milled.\"\n",
    "\n",
    "\"Yes, I see it's all the same. When have you told me anywhe\n",
    "```"
   ]
  },
  {
   "cell_type": "markdown",
   "metadata": {},
   "source": [
    "## Loading a checkpoint"
   ]
  },
  {
   "cell_type": "code",
   "execution_count": 85,
   "metadata": {},
   "outputs": [],
   "source": [
    "# Here we have loaded in a model that trained over 20 epochs `rnn_20_epoch.net`\n",
    "#with open('rnn_20_epoch.net', 'rb') as f:\n",
    "with open('rnn_40_epoch.net', 'rb') as f:    \n",
    "    checkpoint = torch.load(f)\n",
    "    \n",
    "loaded = CharRNN(checkpoint['tokens'], n_hidden=checkpoint['n_hidden'], n_layers=checkpoint['n_layers'])\n",
    "loaded.load_state_dict(checkpoint['state_dict'])"
   ]
  },
  {
   "cell_type": "code",
   "execution_count": 86,
   "metadata": {},
   "outputs": [
    {
     "name": "stdout",
     "output_type": "stream",
     "text": [
      "And Levin said, smiling with the\n",
      "soul\n",
      "she sat down.\n",
      "\n",
      "\"With her hands, I see all this sister-it's all stretched to anyone about the position, of what would be\n",
      "so, and I went to see her.\"\n",
      "\n",
      "\"It is talking about the sea of my friends,\" said Anna, watching so much\n",
      "to speak to him as he said, as an impression, and\n",
      "to all his family strange to shoot to the sun and sat\n",
      "down, working his eyes at the table of\n",
      "setting his head\n",
      "and land at the table.\n",
      "\n",
      "\"All the some might see it, then?\"\n",
      "\n",
      "\"If you's not always to speak, and I cannot certainly be such the men was\n",
      "always so long as\n",
      "the position were always to say to her with haste that is still at things back\n",
      "against any more in a cour and all that had been\n",
      "done. I'll talk to him,\" he said. \"I don't she would announce\n",
      "him the country and had been\n",
      "seeing me. You'd become the profit of her eyes,\" she said.\n",
      "\n",
      "She would not believe it, the pite of his\n",
      "froends were taking it out of his coachman, this point\n",
      "of suffering was a child, which was suddenly faced of answer of\n",
      "papishable for\n",
      "the soul of his sort, he had no one of the body, and\n",
      "while he finished,\n",
      "which had been the fasteone with the medicine from his face on the countess, had not succeeded anger, and she\n",
      "said\n",
      "nothing, that it was over. And in\n",
      "the soup of those two heriest hores took his water with the\n",
      "pate, as an acquaintances was not so\n",
      "grouse. That is almost almost three one and talking\n",
      "for\n",
      "the mere and talk. To be so as not\n",
      "a proposed\n",
      "steps of tears, and as if they were colled, when he was decided, but that there was not the sense of her husband, the misurd it, and was a supper.\n",
      "\n",
      "\"I had told him to stop it as\n",
      "things...\"\n",
      "\n",
      "\"Why, will you start on the\n",
      "carriage! What are you a man as he would have to do which he has been thought.\"\n",
      "\n",
      "\"I'll be all over.\n",
      "We've been taken alone.\"\n",
      "\n",
      "And to began to smile and settled the cross, tears, and they saw him, and she was taking her husband, but the sorry had come. This was his beauty, so the supervoice and the conversation with a policite friend with him to be \n"
     ]
    }
   ],
   "source": [
    "# Sample using a loaded model\n",
    "print(sample(loaded, 2000, top_k=5, prime=\"And Levin said\"))"
   ]
  },
  {
   "cell_type": "markdown",
   "metadata": {},
   "source": [
    "After 20 epochs:\n",
    "```\n",
    "And Levin said that they came in in. It\n",
    "was all silent with him\n",
    "taken in his sister, and the stream in his sorrigien\n",
    "went on at once.\n",
    "\n",
    "\"I am to look and walk about this to\n",
    "be in the master,\" said Alexey Alexandrovitch.\n",
    "\n",
    "\"Without you?\" he asked.\n",
    "\n",
    "\"It has been time, I'll go away. You're seeing you, and say a general\n",
    "startable, thinking of it, and I'm so fat in them.\"\n",
    "\n",
    "\"I didn't know in a letter\n",
    "on a mide that it were to talk and\n",
    "tears a good man who haven't said that I should something to be so, that it was any satisfied, and I'm something but there any siding, any strentther\n",
    "they was already\n",
    "friends, but that I will be sereded, and I\n",
    "din any signed and means of her time about, to beling. Bus all here's some\n",
    "disagreeable mush and seemed to\n",
    "be some time and the same side.\"\n",
    "\n",
    "\"Yes, I say,\" said Sergey Ivanovitch, smiling, were asking his hands,\n",
    "but he said in the pretentions. At that, should be to take this.\n",
    "\n",
    "\"You're not to be\n",
    "indeed what years is anything about\n",
    "the\n",
    "same, bring a little,\" said Anna, looking at her, and smiled to him, and to hear the chold shoulders.\n",
    "\n",
    "\"That were yourself the man. It's\n",
    "thought I\n",
    "am thought as they have so life in this. What all the\n",
    "threals any times\n",
    "were some son in the country.\n",
    "To be, a colonel, to meet her at\n",
    "the torture. I denive it. If he\n",
    "was too much to make me to tell him.\"\n",
    "\n",
    "He had not to\n",
    "come off with a\n",
    "sudden standing with her, and saw that, the moreless she was so much to see all her hands, and had to be stopped with a care of some delication of the still at that\n",
    "possible to say to him, and thought that he had tried to do, they was not any attaited. Anna, this cheeks, would not three with him, and\n",
    "she was said in his hundred with a children the secunish of the preperation was being but serfice and\n",
    "deciding, simply as though something too was simply as it was sometise, and when she should come into the princess and singling. So at the country shaded has bust as he cam before her at\n",
    "the steps, she had been asked in her foreads, and saying his\n",
    "hand\n",
    "```"
   ]
  },
  {
   "cell_type": "code",
   "execution_count": 87,
   "metadata": {},
   "outputs": [
    {
     "name": "stdout",
     "output_type": "stream",
     "text": [
      "thing is that the sound of his wealth had been allowed to stupid, she was saying. The people\n",
      "who had already feeled in a subject. She went into his hands with whom she was attanding in a light of his family and all the fearful family of the\n",
      "performance and her eye, he felt an appearance of the fast, she hundreds on her,\n",
      "which considered some tall\n",
      "and\n",
      "suffering sufuliniation.\n",
      "\n",
      "\"I want to suppose\n",
      "I don't want to talk to you to me to the wasen and hunbles in the stries of the\n",
      "winder, and we must come.\"\n",
      "\n",
      "Stepan Arkadyevitch would have thought through, but always so\n",
      "minutes and angiry would have asked for her sufferings. She was diffored, but with the house who had set them out of which he could see him all that he found that it was though, and sat destroped\n",
      "himself, as still more\n",
      "that he should have been thought.\n",
      "\n",
      "\"We have met you at the cherief,\" he said, with a smile of table, \"and they have a\n",
      "letter,, but his faviliar to the way over when you will ching anything, still\n",
      "me to think it of the soul. It's a good touch of\n",
      "such a position, the forest to see you, and trying to divide\n",
      "it about it.\"\n",
      "\n",
      "\"I'm never seen him to be sure.... Want a capital! I'm so good as to\n",
      "me, I, we've talked to him. Anna Arkadyevna had a love, because this was\n",
      "on this side.\"\n",
      "\n",
      "\"Why aleny,\n",
      "you don't believe that?\" said Sergey Ivanovitch, and her husband had a strong-camp bound again.\n",
      "\n",
      "\"If you will not be a little time, it's not my argument and horror of active, in my wife and my wishes out of\n",
      "them work.\"\n",
      "\n",
      "\"You don't late them alone to me?\"\n",
      "\n",
      "\"Indeed. I've been so\n",
      "fancied in the soul as a fresh consict of things, in a position of such some\n",
      "common wife. He was in late, but there\n",
      "will be anything, so when she doesn't come, and to bryad\n",
      "her freedom. He departs of it, and to be true, an anger of those words,\" said Anna, to smile and holding his\n",
      "hands at the\n",
      "same time and carried attoning the palace after their standing with the same time to her. He was delighted at\n",
      "his brother's house.\n",
      "\n",
      "\"All right.\"\n",
      "\n",
      "\"It'll be\n"
     ]
    }
   ],
   "source": [
    "print(sample(loaded, 2000, top_k=5, prime=\"thing\"))"
   ]
  },
  {
   "cell_type": "markdown",
   "metadata": {},
   "source": [
    "After 20 epochs:\n",
    "```\n",
    "thing in his beard, and at his hands to get to his bruther, as he was attacked about the pictures. But the matter of such answer to a\n",
    "silence she had been as he wele as though he had not they seemed that she was stopped, and saw her and they and\n",
    "the morning that she was\n",
    "still to be in\n",
    "a time of teater and\n",
    "despeamed to be settled into the morning which had been fouldens of the princess. So though she was the same times that he had so\n",
    "differently as they had to get tratelunt to\n",
    "hard. And he was not till to take her seven on the province, which was as his consequent weight to him with a bark, she showed his superfection of the principles, began in all him\n",
    "to\n",
    "her, that he caught his sort of his soul of the same time. He could not see his sucress.\n",
    "\n",
    "\"Well, and I should say a gentleman!\"\n",
    "\n",
    "\"Never will take me and that the same table to believe to\n",
    "take the same interests on their manner of the mother. What way it may be\n",
    "the minutest calling! The world and was not an intervalt of\n",
    "husbanns. I'm so glad I was not to deal the same terror, what I see. I she, and I am through a long waiter with his subjict, to the marshal, and see her, but to tho old previous, all these\n",
    "continually\n",
    "property, that they were to go on into the seats of the carriage with him to be an importance and time, which were not at all, and she was told him. I'm going to me.... And why does she will say any dunias of this will be still, and she was not this\n",
    "suffering than the church of the same, and that's the clever an enjoyments. Though it's not to\n",
    "see you. I shall come in any to the party, and we shall come to\n",
    "her, then, and say a man would believe. And they're not to be thinking about anyone, and I have not seen\n",
    "it.\"\n",
    "\n",
    "And a little word was seeing that in her eyes sprowled him tree on the same accompanied humiliation, with a powited friends and services telling his brother's acterasting attitude\n",
    "to him that he was sometimes of what had book to the closer and somewhere, but the same clerk at his wife, which said in\n",
    "```"
   ]
  },
  {
   "cell_type": "code",
   "execution_count": null,
   "metadata": {},
   "outputs": [],
   "source": []
  }
 ],
 "metadata": {
  "kernelspec": {
   "display_name": "Python 3",
   "language": "python",
   "name": "python3"
  },
  "language_info": {
   "codemirror_mode": {
    "name": "ipython",
    "version": 3
   },
   "file_extension": ".py",
   "mimetype": "text/x-python",
   "name": "python",
   "nbconvert_exporter": "python",
   "pygments_lexer": "ipython3",
   "version": "3.6.6"
  }
 },
 "nbformat": 4,
 "nbformat_minor": 2
}
